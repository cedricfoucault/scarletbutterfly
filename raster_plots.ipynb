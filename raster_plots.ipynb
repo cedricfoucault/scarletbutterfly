{
 "cells": [
  {
   "cell_type": "code",
   "execution_count": 1,
   "metadata": {},
   "outputs": [],
   "source": [
    "import numpy as np\n",
    "import matplotlib.pyplot as plt\n",
    "import ssm\n",
    "\n",
    "from data_processing import *\n",
    "from pca_analysis import *\n",
    "\n",
    "np.random.seed(42)"
   ]
  },
  {
   "cell_type": "code",
   "execution_count": 2,
   "metadata": {},
   "outputs": [
    {
     "name": "stdout",
     "output_type": "stream",
     "text": [
      "dict_keys(['ss', 'ss_passive'])\n"
     ]
    }
   ],
   "source": [
    "import numpy as np\n",
    "\n",
    "# dat_LFP = np.load('steinmetz_lfp.npz', allow_pickle=True)['dat']\n",
    "# dat_WAV = np.load('steinmetz_wav.npz', allow_pickle=True)['dat']\n",
    "dat_ST = np.load('steinmetz_st.npz', allow_pickle=True)['dat']\n",
    "\n",
    "\n",
    "# select just one of the recordings here. 11 is nice because it has some neurons in vis ctx. \n",
    "# dat = dat_LFP[11]\n",
    "# print(dat.keys())\n",
    "# dat = dat_WAV[11]\n",
    "# print(dat.keys())\n",
    "dat = dat_ST[11]\n",
    "print(dat.keys())"
   ]
  },
  {
   "cell_type": "code",
   "execution_count": 8,
   "metadata": {},
   "outputs": [],
   "source": [
    "alldat = load_data()"
   ]
  },
  {
   "cell_type": "code",
   "execution_count": 90,
   "metadata": {},
   "outputs": [],
   "source": [
    "dt = 0.01 # bin duration (ms)\n",
    "t = np.arange(250)*dt\n",
    "t -= 0.5 # set timestep 0 to stimulus onset "
   ]
  },
  {
   "cell_type": "code",
   "execution_count": 4,
   "metadata": {},
   "outputs": [],
   "source": [
    "def train_hmm(session, brain_area, n_states, start=0, stop=250, n_iters=100, passive=False):\n",
    "    dat = alldat[session]\n",
    "\n",
    "    if not passive:\n",
    "        # take active trials\n",
    "        spks = dat['spks'][dat['brain_area'] == brain_area]\n",
    "        spks = spks[:,:,start:stop]\n",
    "    else:\n",
    "        # take passive trials\n",
    "        spks = dat['spks_passive'][dat['brain_area'] == brain_area]\n",
    "        \n",
    "        passive_trials = (np.abs(dat['wheel_passive'][0]) < 2).all(axis=1)\n",
    "        passive_spks = spks[:,passive_trials]\n",
    "        print(np.count_nonzero(passive_trials))\n",
    "        spks = passive_spks[:,:,start:stop]\n",
    "    \n",
    "    data= np.transpose(spks, (1,2,0)) # n_trials x n_timesteps x n_neurons\n",
    "\n",
    "    # train/test split\n",
    "    train_data, test_data, rdm_idx = data_split(data, int(0.8*len(data)))\n",
    "    mean_spike_counts = train_data.mean(axis=(0,1))\n",
    "    train_data = list(train_data)\n",
    "    test_data = list(test_data)\n",
    "\n",
    "    n_neurons = train_data[0].shape[1]\n",
    "    \n",
    "    # create the hmm\n",
    "    hmm = ssm.HMM(n_states, n_neurons, observations=\"poisson\", transitions=\"standard\")\n",
    "\n",
    "    # initialization\n",
    "    init_lambdas = np.random.uniform(low=np.zeros_like(mean_spike_counts),\n",
    "                                     high=mean_spike_counts, size=(n_states,n_neurons)) # n_states x n_neurons\n",
    "    hmm.log_lambdas = np.log(init_lambdas + 1e-16)\n",
    "    \n",
    "    lls = hmm.fit(list(train_data), method='em', num_iters=n_iters)\n",
    "    \n",
    "    return hmm, lls, dat, rdm_idx, train_data, test_data\n"
   ]
  },
  {
   "cell_type": "code",
   "execution_count": 5,
   "metadata": {},
   "outputs": [],
   "source": [
    "def plot_posterior(res, n_trials=10, plot_wheel=False, plot_face=False, plot_pupil=False, test=False, passive=False):\n",
    "    hmm, lls, dat, rdm_idx, train_data, test_data = res\n",
    "\n",
    "    dt = 0.01 # bin duration (ms)\n",
    "    t = np.arange(train_data[0].shape[0])*dt\n",
    "    t -= 0.5 # set timestep 0 to stimulus onset \n",
    "    print(len(train_data), len(test_data), rdm_idx.shape)\n",
    "    for i in range(n_trials):\n",
    "        if test:\n",
    "            trial_spikes = test_data[i]\n",
    "            trial_idx = rdm_idx[len(train_data)+i]\n",
    "        else:\n",
    "            trial_spikes = train_data[i]\n",
    "            trial_idx = rdm_idx[i]\n",
    "        print(trial_idx)\n",
    "        \n",
    "        if not passive:\n",
    "            print_trial_outcome(dat, trial_idx)\n",
    "        posterior = hmm.filter(trial_spikes)\n",
    "        n_states = posterior.shape[1]\n",
    "\n",
    "        # plot posterior of states for a single test trial\n",
    "        fig = plt.figure(figsize=(7, 6))\n",
    "        plt.title(\"Posterior distribution of the latent state\")\n",
    "        ax1 = plt.subplot(2, 1, 1)\n",
    "        \n",
    "        colors = [\"cornflowerblue\", \"orange\", \"yellowgreen\", \"firebrick\"]\n",
    "        for i in range(posterior.shape[1]):\n",
    "            plt.plot(t, posterior[:,i], label=\"State %d\" % i, color=colors[i])\n",
    "\n",
    "            \n",
    "            if trial_idx == 148:\n",
    "                plt.text(0.15, -0.12, \"state on\", va='top', ha='center', color=\"dimgrey\")\n",
    "                plt.text(0.55, -0.12, \"mov on\", va='top', ha='center', color=\"dimgrey\")\n",
    "    \n",
    "                plt.axvline(0.15, linestyle=\"--\", color=\"dimgrey\")\n",
    "                plt.axvline(0.55, linestyle=\"--\", color=\"dimgrey\")\n",
    "                \n",
    "#         if not passive:\n",
    "# #             plt.axvline(0, color=\"black\", linestyle=\"--\")\n",
    "# #             plt.axvline(dat['gocue'][trial_idx,0], color=\"black\", linestyle=\":\")\n",
    "# #             plt.axvline(dat['feedback_time'][trial_idx,0], color=\"black\", linestyle=\"-\", label=\"Feedback\")\n",
    "            \n",
    "        plt.legend()\n",
    "        plt.ylabel(\"Probability\")\n",
    "        \n",
    "        if plot_wheel:\n",
    "            ax2 = plt.subplot(2, 1, 2, sharex=ax1)\n",
    "            \n",
    "            if trial_idx == 148:\n",
    "                plt.axvline(0.15, linestyle=\"--\", color=\"black\")\n",
    "                plt.axvline(0.55, linestyle=\"--\", color=\"black\")\n",
    "\n",
    "            if not passive:\n",
    "                plt.plot(t, np.cumsum(dat['wheel'][0,trial_idx]), color=\"gray\")\n",
    "#                 plt.axvline(0, color=\"black\", linestyle=\"--\")\n",
    "#                 plt.axvline(dat['gocue'][trial_idx,0], color=\"black\", linestyle=\":\")\n",
    "    #             plt.axvline(dat['feedback_time'][trial_idx,0], color=\"black\", linestyle=\"-\", label=\"Feedback\")\n",
    "#                 plt.plot(t, dat['wheel'][0,trial_idx])\n",
    "            else:\n",
    "                plt.plot(t, np.cumsum(dat['wheel_passive'][0,trial_idx]), color=\"gray\")\n",
    "\n",
    "            plt.xlabel(\"Time (s)\")\n",
    "            plt.ylabel(\"Wheel position\")\n",
    "            plt.setp(ax1.get_xticklabels(), visible=False)\n",
    "            plt.show()\n",
    "        else:\n",
    "            \n",
    "            plt.xlabel(\"Time (s)\")\n",
    "            plt.legend()\n",
    "            plt.show()\n",
    "\n",
    "            \n",
    "def plot_hidden_states(res):\n",
    "    hmm, lls, dat, rdm_idx, train_data, test_data = res    \n",
    "\n",
    "    colors = [\"cornflowerblue\", \"orange\", \"yellowgreen\", \"firebrick\"]\n",
    "    fig = plt.figure(figsize=(3, 6))\n",
    "    for i, log_lambda in enumerate(hmm.observations.log_lambdas):\n",
    "        plt.subplot(len(hmm.observations.log_lambdas), 1, i+1)\n",
    "        plt.title(\"Latent state {}\".format(i))\n",
    "        plt.bar(np.arange(len(log_lambda)), np.exp(log_lambda), color=colors[i])\n",
    "        plt.tick_params(which='both', bottom=False, left=False, labelbottom=False, labelleft=False)\n",
    "    plt.tight_layout()\n",
    "    plt.show()"
   ]
  },
  {
   "cell_type": "code",
   "execution_count": 10,
   "metadata": {},
   "outputs": [],
   "source": [
    "dat = alldat[25]\n",
    "dat_ss = dat_ST[25]"
   ]
  },
  {
   "cell_type": "code",
   "execution_count": 72,
   "metadata": {
    "scrolled": true
   },
   "outputs": [
    {
     "data": {
      "application/vnd.jupyter.widget-view+json": {
       "model_id": "230cd6082d9a4acb8ed36f368fa5bd0a",
       "version_major": 2,
       "version_minor": 0
      },
      "text/html": [
       "<p>Failed to display Jupyter Widget of type <code>HBox</code>.</p>\n",
       "<p>\n",
       "  If you're reading this message in the Jupyter Notebook or JupyterLab Notebook, it may mean\n",
       "  that the widgets JavaScript is still loading. If this message persists, it\n",
       "  likely means that the widgets JavaScript library is either not installed or\n",
       "  not enabled. See the <a href=\"https://ipywidgets.readthedocs.io/en/stable/user_install.html\">Jupyter\n",
       "  Widgets Documentation</a> for setup instructions.\n",
       "</p>\n",
       "<p>\n",
       "  If you're reading this message in another frontend (for example, a static\n",
       "  rendering on GitHub or <a href=\"https://nbviewer.jupyter.org/\">NBViewer</a>),\n",
       "  it may mean that your frontend doesn't currently support widgets.\n",
       "</p>\n"
      ],
      "text/plain": [
       "HBox(children=(FloatProgress(value=0.0), HTML(value='')))"
      ]
     },
     "metadata": {},
     "output_type": "display_data"
    },
    {
     "name": "stdout",
     "output_type": "stream",
     "text": [
      "\n"
     ]
    }
   ],
   "source": [
    "session = 25\n",
    "brain_area = \"MOs\"\n",
    "n_states = 4\n",
    "\n",
    "res_mos_active = train_hmm(session, brain_area, n_states, start=0, stop=250)"
   ]
  },
  {
   "cell_type": "code",
   "execution_count": 78,
   "metadata": {},
   "outputs": [],
   "source": [
    "hmm, _, _, rdm_idx, train_data, test_data = res_mos_active"
   ]
  },
  {
   "cell_type": "code",
   "execution_count": 105,
   "metadata": {},
   "outputs": [
    {
     "data": {
      "image/png": "[encoded data removed]",
      "text/plain": [
       "<matplotlib.figure.Figure at 0x26058213ba8>"
      ]
     },
     "metadata": {},
     "output_type": "display_data"
    },
    {
     "data": {
      "image/png": "[encoded data removed]",
      "text/plain": [
       "<matplotlib.figure.Figure at 0x25ee4cf5588>"
      ]
     },
     "metadata": {},
     "output_type": "display_data"
    }
   ],
   "source": [
    "spk_times = dat_ss['ss'][dat['brain_area'] == \"MOs\"]\n",
    "spks = dat['spks'][dat['brain_area'] == \"MOs\"]\n",
    "l = [105, 38, 120, 71, 64, 57, 87, 161]\n",
    "\n",
    "plt.figure(figsize=(8, 2))\n",
    "\n",
    "ml_states = hmm.most_likely_states(test_data[np.argwhere(rdm_idx == 148)[0,0]-len(train_data)])\n",
    "plt.imshow(np.tile(ml_states,len(l)).reshape(-1, 250), alpha=0.3, aspect=\"auto\", vmin=0, vmax=n_states-1)\n",
    "\n",
    "plt.eventplot((spk_times[l,148])*100)\n",
    "plt.show()\n",
    "\n",
    "plt.figure(figsize=(8, 2))\n",
    "\n",
    "ml_states = hmm.most_likely_states(test_data[np.argwhere(rdm_idx == 88)[0,0]-len(train_data)])\n",
    "plt.imshow(np.tile(ml_states,len(l)).reshape(-1, 250), alpha=0.3, aspect=\"auto\", vmin=0, vmax=n_states-1)\n",
    "\n",
    "plt.eventplot(spk_times[l,88]*100)\n",
    "plt.show()"
   ]
  }
 ],
 "metadata": {
  "kernelspec": {
   "display_name": "Python 3",
   "language": "python",
   "name": "python3"
  },
  "language_info": {
   "codemirror_mode": {
    "name": "ipython",
    "version": 3
   },
   "file_extension": ".py",
   "mimetype": "text/x-python",
   "name": "python",
   "nbconvert_exporter": "python",
   "pygments_lexer": "ipython3",
   "version": "3.6.4"
  }
 },
 "nbformat": 4,
 "nbformat_minor": 2
}
