{
  "nbformat": 4,
  "nbformat_minor": 0,
  "metadata": {
    "colab": {
      "name": "scarletbutterfly_decoding_steinmetz.ipynb",
      "provenance": [],
      "collapsed_sections": [
        "tM6a9kQTvmwi",
        "SVXzQ6CFhnQQ",
        "4Wjqe5YUj2RZ",
        "UHRuFeggXVRU",
        "ESZ-j0YydZGG"
      ],
      "include_colab_link": true
    },
    "kernelspec": {
      "name": "python3",
      "display_name": "Python 3"
    }
  },
  "cells": [
    {
      "cell_type": "markdown",
      "metadata": {
        "id": "view-in-github",
        "colab_type": "text"
      },
      "source": [
        "<a href=\"https://colab.research.google.com/github/cedricfoucault/scarletbutterfly/blob/master/scarletbutterfly_decoding_steinmetz.ipynb\" target=\"_parent\"><img src=\"https://colab.research.google.com/assets/colab-badge.svg\" alt=\"Open In Colab\"/></a>"
      ]
    },
    {
      "cell_type": "markdown",
      "metadata": {
        "id": "bEqdz1ZUMaj1",
        "colab_type": "text"
      },
      "source": [
        "## Loading of Steinmetz data"
      ]
    },
    {
      "cell_type": "code",
      "metadata": {
        "id": "TLWjKq8bLDqm",
        "colab_type": "code",
        "cellView": "both",
        "colab": {}
      },
      "source": [
        "#@title Data retrieval\n",
        "import os, requests\n",
        "import matplotlib.pyplot as plt\n",
        "fname = []\n",
        "for j in range(3):\n",
        "  fname.append('steinmetz_part%d.npz'%j)\n",
        "url = [\"https://osf.io/agvxh/download\"]\n",
        "url.append(\"https://osf.io/uv3mw/download\")\n",
        "url.append(\"https://osf.io/ehmw2/download\")\n",
        "\n",
        "for j in range(len(url)):\n",
        "  if not os.path.isfile(fname[j]):\n",
        "    try:\n",
        "      r = requests.get(url[j])\n",
        "    except requests.ConnectionError:\n",
        "      print(\"!!! Failed to download data !!!\")\n",
        "    else:\n",
        "      if r.status_code != requests.codes.ok:\n",
        "        print(\"!!! Failed to download data !!!\")\n",
        "      else:\n",
        "        with open(fname[j], \"wb\") as fid:\n",
        "          fid.write(r.content)\n"
      ],
      "execution_count": 1,
      "outputs": []
    },
    {
      "cell_type": "code",
      "metadata": {
        "id": "sffzC_hyLgWZ",
        "colab_type": "code",
        "cellView": "code",
        "colab": {
          "base_uri": "https://localhost:8080/",
          "height": 34
        },
        "outputId": "5e58317e-714e-4b05-c5fd-932cc2cc1741"
      },
      "source": [
        "#@title Data loading\n",
        "import numpy as np\n",
        "\n",
        "alldat = np.array([])\n",
        "for j in range(len(fname)):\n",
        "  alldat = np.hstack((alldat, np.load('steinmetz_part%d.npz'%j, allow_pickle=True)['dat']))\n",
        "\n",
        "n_sessions = len(alldat)\n",
        "print(\"n_sessions\", n_sessions)"
      ],
      "execution_count": 2,
      "outputs": [
        {
          "output_type": "stream",
          "text": [
            "n_sessions 39\n"
          ],
          "name": "stdout"
        }
      ]
    },
    {
      "cell_type": "code",
      "metadata": {
        "id": "PPbrPguKDaYG",
        "colab_type": "code",
        "colab": {
          "base_uri": "https://localhost:8080/",
          "height": 54
        },
        "outputId": "da4ee0a8-c507-4de2-aea0-0ff144ecad08"
      },
      "source": [
        "print(alldat[0].keys())"
      ],
      "execution_count": 3,
      "outputs": [
        {
          "output_type": "stream",
          "text": [
            "dict_keys(['spks', 'wheel', 'pupil', 'response', 'response_time', 'bin_size', 'stim_onset', 'contrast_right', 'contrast_left', 'brain_area', 'feedback_time', 'feedback_type', 'gocue', 'mouse_name', 'date_exp', 'trough_to_peak', 'active_trials', 'contrast_left_passive', 'contrast_right_passive', 'spks_passive', 'pupil_passive', 'wheel_passive', 'prev_reward', 'ccf', 'ccf_axes', 'cellid_orig', 'reaction_time', 'face', 'face_passive', 'licks', 'licks_passive'])\n"
          ],
          "name": "stdout"
        }
      ]
    },
    {
      "cell_type": "code",
      "metadata": {
        "id": "NwLpbX-QTCkh",
        "colab_type": "code",
        "cellView": "code",
        "colab": {}
      },
      "source": [
        "#@title Filter Trial Data\n",
        "import copy\n",
        "filtered_data = copy.deepcopy(alldat)\n",
        "\n",
        "bin_size = alldat[0]['bin_size']\n",
        "stim_onset = alldat[0]['stim_onset']\n",
        "for i in range(len(alldat)):\n",
        "  assert bin_size == alldat[i]['bin_size'], \"inconsistent bin size\"\n",
        "  assert stim_onset == alldat[i]['stim_onset'], \"inconsistent stim onset\"\n",
        "\n",
        "# Filter only the keys we are going to use\n",
        "# used_keys = ['spks', 'pupil', 'lfp', 'response', 'contrast_right', 'contrast_left', 'brain_area', 'brain_area_lfp', 'mouse_name']\n",
        "used_keys = ['spks', 'pupil', 'response', 'contrast_right', 'contrast_left', 'brain_area', 'mouse_name']\n",
        "for i_session in range(n_sessions):\n",
        "  filtered_data[i_session] = { key: filtered_data[i_session][key] for key in used_keys }\n",
        "\n",
        "\n",
        "# # Eliminate trials where contrast is > 0 and equal on both sides\n",
        "array_keys = ['spks', 'pupil','lfp', 'response', 'contrast_right', 'contrast_left']\n",
        "\n",
        "\n",
        "\n",
        "for i_session in range(n_sessions):\n",
        "  session_data = filtered_data[i_session]\n",
        "  equal_contrast = session_data['contrast_right'] == session_data['contrast_left']\n",
        "  positive_contrast_right = session_data['contrast_right'] > 0\n",
        "  should_filter = equal_contrast & positive_contrast_right\n",
        "\n",
        "  session_data['spks'] = session_data['spks'][:,~should_filter,:]\n",
        "  session_data['pupil'] = session_data['pupil'][:,~should_filter,:]\n",
        "  # session_data['lfp'] = session_data['lfp'][:,~should_filter,:]\n",
        "\n",
        "  session_data['response'] = session_data['response'][~should_filter]\n",
        "  session_data['contrast_right'] = session_data['contrast_right'][~should_filter]\n",
        "  session_data['contrast_left'] = session_data['contrast_left'][~should_filter]\n",
        "\n",
        "  # for key, value in session_data.items():\n",
        "  #   if key in array_keys:\n",
        "  #     print(\"key\", key)\n",
        "  #     print(\"array.shape\", value.shape)\n",
        "  # new_session_data = { key: array[~should_filter] for key, array in session_data.items() }\n",
        "  # filtered_data[i_session] = new_session_data\n",
        "  # print(\"session:\", i_session)\n",
        "  # print(\"original data, contrast_right:\", session_data['contrast_right'])\n",
        "  # print(\"filtered data, contrast_right:\", new_session_data['contrast_right'])\n",
        "\n",
        "\n",
        "\n",
        "\n"
      ],
      "execution_count": 4,
      "outputs": []
    },
    {
      "cell_type": "code",
      "metadata": {
        "id": "Hmx-v-WaREWU",
        "colab_type": "code",
        "colab": {
          "base_uri": "https://localhost:8080/",
          "height": 54
        },
        "outputId": "f88e5b7f-ff3a-465f-b196-db5d566630b7"
      },
      "source": [
        "#Extracting brain areas:\n",
        "brain_areas = set()\n",
        "\n",
        "for i in range(n_sessions):\n",
        "  brain_areas.update(filtered_data[i]['brain_area'])\n",
        "\n",
        "\n",
        "#Let's focus on subcortical brain areas as they appear to experience a spike \n",
        "#Basal ganglia, midbrain\n",
        "basal_ganglia = [\"ACB\", \"CP\", \"GPe\", \"LS\", \"LSc\", \"LSr\", \"MS\", \"OT\", \"SNr\", \"SI\"]\n",
        "midbrain = [\"APN\", \"IC\", \"MB\", \"MRN\", \"NB\", \"PAG\", \"RN\", \"SCs\", \"SCm\", \"SCig\", \"SCsg\", \"ZI\"]\n",
        "\n",
        "count_dict = {area:0 for area in brain_areas}\n",
        "\n",
        "for i in range(n_sessions):\n",
        "  for area in set(filtered_data[i]['brain_area']):\n",
        "      count_dict[area] += 1\n",
        "\n",
        "print(count_dict)\n",
        "areas = list(count_dict.keys())\n",
        "count_sessions_per_areas = np.array(list(count_dict.values()))\n",
        "sorted_indices = np.argsort(count_sessions_per_areas)\n",
        "areas = [ areas[i] for i in sorted_indices ]\n",
        "count_sessions_per_areas = count_sessions_per_areas[sorted_indices]\n",
        "y_bars = np.arange(len(areas))\n",
        "# fig = plt.figure(figsize=(5., len(y_bars) / 4))\n",
        "# ax = fig.gca()\n",
        "# ax.barh(y_bars, count_sessions_per_areas)\n",
        "# ax.set_yticks(y_bars)\n",
        "# ax.set_yticklabels(areas)\n",
        "# plt.show()"
      ],
      "execution_count": 5,
      "outputs": [
        {
          "output_type": "stream",
          "text": [
            "{'MB': 6, 'APN': 2, 'COA': 1, 'VPL': 4, 'SNr': 4, 'BMA': 1, 'PL': 10, 'SPF': 2, 'VISl': 3, 'SI': 1, 'SUB': 9, 'SCm': 7, 'CA1': 21, 'CP': 5, 'GPe': 3, 'SSs': 1, 'VAL': 1, 'MRN': 11, 'SCsg': 6, 'ILA': 3, 'root': 34, 'VPM': 4, 'MOp': 3, 'POL': 3, 'DG': 16, 'CL': 1, 'AUD': 1, 'CA2': 1, 'ORB': 5, 'PO': 5, 'MD': 3, 'CA3': 10, 'VISam': 11, 'RSP': 9, 'ZI': 4, 'BLA': 2, 'ORBm': 1, 'TT': 4, 'NB': 1, 'IC': 1, 'EPd': 1, 'ACB': 3, 'LSc': 1, 'RN': 1, 'MEA': 1, 'RT': 2, 'TH': 8, 'EP': 1, 'PAG': 3, 'LD': 6, 'MOs': 18, 'VISpm': 4, 'VISrl': 2, 'SCs': 4, 'PT': 1, 'LGd': 10, 'PIR': 1, 'OLF': 3, 'MS': 1, 'SCig': 4, 'VISa': 5, 'POST': 4, 'LSr': 4, 'DP': 1, 'SSp': 5, 'LS': 3, 'OT': 1, 'LH': 2, 'CA': 1, 'ACA': 11, 'VISp': 12, 'LP': 11, 'MG': 2}\n"
          ],
          "name": "stdout"
        }
      ]
    },
    {
      "cell_type": "code",
      "metadata": {
        "id": "JYhiUDTi1uAZ",
        "colab_type": "code",
        "colab": {}
      },
      "source": [
        "# groupings of brain regions\n",
        "regions = [\"vis ctx\", \"thal\", \"hipp\", \"other ctx\", \"midbrain\", \"basal ganglia\", \"cortical subplate\", \"other\"]\n",
        "brain_groups = [[\"VISa\", \"VISam\", \"VISl\", \"VISp\", \"VISpm\", \"VISrl\"], # visual cortex\n",
        "                [\"CL\", \"LD\", \"LGd\", \"LH\", \"LP\", \"MD\", \"MG\", \"PO\", \"POL\", \"PT\", \"RT\", \"SPF\", \"TH\", \"VAL\", \"VPL\", \"VPM\"], # thalamus\n",
        "                [\"CA\", \"CA1\", \"CA2\", \"CA3\", \"DG\", \"SUB\", \"POST\"], # hippocampal\n",
        "                [\"ACA\", \"AUD\", \"COA\", \"DP\", \"ILA\", \"MOp\", \"MOs\", \"OLF\", \"ORB\", \"ORBm\", \"PIR\", \"PL\", \"SSp\", \"SSs\", \"RSP\",\" TT\"], # non-visual cortex\n",
        "                [\"APN\", \"IC\", \"MB\", \"MRN\", \"NB\", \"PAG\", \"RN\", \"SCs\", \"SCm\", \"SCig\", \"SCsg\", \"ZI\"], # midbrain\n",
        "                [\"ACB\", \"CP\", \"GPe\", \"LS\", \"LSc\", \"LSr\", \"MS\", \"OT\", \"SNr\", \"SI\"], # basal ganglia \n",
        "                [\"BLA\", \"BMA\", \"EP\", \"EPd\", \"MEA\"] # cortical subplate\n",
        "                ]"
      ],
      "execution_count": 6,
      "outputs": []
    },
    {
      "cell_type": "code",
      "metadata": {
        "id": "tYvniQkQbiuJ",
        "colab_type": "code",
        "colab": {}
      },
      "source": [
        "# Histograms of num. of neurons by brain area for each session\n",
        "# for i in range(n_sessions):\n",
        "#   plt.hist(filtered_data[i]['brain_area'])\n",
        "#   plt.show()"
      ],
      "execution_count": 7,
      "outputs": []
    },
    {
      "cell_type": "code",
      "metadata": {
        "id": "kM-5j4C5PS4z",
        "colab_type": "code",
        "colab": {}
      },
      "source": [
        "# Calculate number of trials per session\n",
        "n_trials_session = np.zeros(n_sessions)\n",
        "for i in range(n_sessions):\n",
        "  n_trials_session[i] = len(filtered_data[i]['response'])"
      ],
      "execution_count": 8,
      "outputs": []
    },
    {
      "cell_type": "code",
      "metadata": {
        "id": "RMSd42MRZzSN",
        "colab_type": "code",
        "cellView": "both",
        "colab": {
          "base_uri": "https://localhost:8080/",
          "height": 282
        },
        "outputId": "dff3ba2a-0f07-45d0-9af9-6bca0d35b179"
      },
      "source": [
        "#@title Histogram of number of trials throughout the sessions\n",
        "# Histogram of number of trials throughout the sessions\n",
        "plt.hist(n_trials_session)\n",
        "print(n_trials_session.mean())"
      ],
      "execution_count": 9,
      "outputs": [
        {
          "output_type": "stream",
          "text": [
            "240.46153846153845\n"
          ],
          "name": "stdout"
        },
        {
          "output_type": "display_data",
          "data": {
            "image/png": "[encoded data removed]",
            "text/plain": [
              "<Figure size 432x288 with 1 Axes>"
            ]
          },
          "metadata": {
            "tags": [],
            "needs_background": "light"
          }
        }
      ]
    },
    {
      "cell_type": "code",
      "metadata": {
        "id": "8VVdYH7VPKD1",
        "colab_type": "code",
        "colab": {
          "base_uri": "https://localhost:8080/",
          "height": 34
        },
        "outputId": "93c728b9-fad8-47f8-f309-49e1f1b99ef3"
      },
      "source": [
        "# Select one session\n",
        "i_session_max_trials = np.argmax(n_trials_session)\n",
        "print(i_session_max_trials, n_trials_session[i_session_max_trials])"
      ],
      "execution_count": 10,
      "outputs": [
        {
          "output_type": "stream",
          "text": [
            "9 414.0\n"
          ],
          "name": "stdout"
        }
      ]
    },
    {
      "cell_type": "markdown",
      "metadata": {
        "id": "64kTOMfScNfn",
        "colab_type": "text"
      },
      "source": [
        "We'll focus on the session i_session_max_trials, which has the most trials and analyze the activity in the brain areas recorded during this session to try to predict the mouse's response during the trials."
      ]
    },
    {
      "cell_type": "code",
      "metadata": {
        "id": "0WVYB2_wWlTR",
        "colab_type": "code",
        "cellView": "form",
        "colab": {
          "base_uri": "https://localhost:8080/",
          "height": 282
        },
        "outputId": "62e07392-4db7-424b-bdaf-87a115adb33c"
      },
      "source": [
        "#@title Histogram of num of neurons per brain area for the selected session \n",
        "plt.hist(filtered_data[i_session_max_trials]['brain_area'],bins=13)\n",
        "plt.show()\n",
        "np.count_nonzero(filtered_data[i_session_max_trials]['brain_area']=='MB')"
      ],
      "execution_count": 11,
      "outputs": [
        {
          "output_type": "display_data",
          "data": {
            "image/png": "[encoded data removed]",
            "text/plain": [
              "<Figure size 432x288 with 1 Axes>"
            ]
          },
          "metadata": {
            "tags": [],
            "needs_background": "light"
          }
        },
        {
          "output_type": "execute_result",
          "data": {
            "text/plain": [
              "275"
            ]
          },
          "metadata": {
            "tags": []
          },
          "execution_count": 11
        }
      ]
    },
    {
      "cell_type": "markdown",
      "metadata": {
        "id": "tM6a9kQTvmwi",
        "colab_type": "text"
      },
      "source": [
        "## Helper functions for retrieving data"
      ]
    },
    {
      "cell_type": "code",
      "metadata": {
        "id": "CLbA_yMUj_Pz",
        "colab_type": "code",
        "colab": {}
      },
      "source": [
        "def get_outcomes_correct_with_session(session_data):\n",
        "  response = session_data['response'] # right - nogo - left (-1, 0, 1)\n",
        "  vis_right = session_data['contrast_right'] # 0 - low - high\n",
        "  vis_left = session_data['contrast_left'] # 0 - low - high\n",
        "  correct_response = np.sign(vis_left-vis_right) \n",
        "  is_correct = response == correct_response\n",
        "  outcomes_correct = is_correct.astype(int)\n",
        "  return outcomes_correct"
      ],
      "execution_count": 12,
      "outputs": []
    },
    {
      "cell_type": "code",
      "metadata": {
        "id": "De65-UVyTQfC",
        "colab_type": "code",
        "colab": {
          "base_uri": "https://localhost:8080/",
          "height": 0
        },
        "outputId": "0394a0ea-c196-42fb-98c7-da18090eee0d"
      },
      "source": [
        "#@title Retrieve correct (1) or incorrect (0) outcome\n",
        "i_focus = i_session_max_trials\n",
        "outcomes_correct = get_outcomes_correct_with_session(filtered_data[i_focus])\n",
        "print(outcomes_correct.mean())"
      ],
      "execution_count": 13,
      "outputs": [
        {
          "output_type": "stream",
          "text": [
            "0.6376811594202898\n"
          ],
          "name": "stdout"
        }
      ]
    },
    {
      "cell_type": "code",
      "metadata": {
        "id": "yR4Ng41CQVb4",
        "colab_type": "code",
        "colab": {}
      },
      "source": [
        "def get_neurons_spikes_with_session_area_window(session_data, brain_area, window):\n",
        "  is_brain_area = session_data['brain_area'] == brain_area\n",
        "  return session_data['spks'][is_brain_area, :, window]"
      ],
      "execution_count": 14,
      "outputs": []
    },
    {
      "cell_type": "code",
      "metadata": {
        "id": "M4i8wIpiQc5U",
        "colab_type": "code",
        "colab": {}
      },
      "source": [
        "#filtered_data_focus is not define\n",
        "# focus_brain_area='MB'\n",
        "# spikes_focus = get_neurons_spikes_with_session_area_window(filtered_data_focus, focus_brain_area, slice(0, 250, 1))\n"
      ],
      "execution_count": 15,
      "outputs": []
    },
    {
      "cell_type": "markdown",
      "metadata": {
        "id": "VDByOJobvp_D",
        "colab_type": "text"
      },
      "source": [
        "## Helper functions for decoding"
      ]
    },
    {
      "cell_type": "code",
      "metadata": {
        "id": "RmkNfF2MZBNX",
        "colab_type": "code",
        "colab": {}
      },
      "source": [
        "from sklearn.linear_model import LogisticRegression\n",
        "from sklearn.model_selection import cross_val_score"
      ],
      "execution_count": 16,
      "outputs": []
    },
    {
      "cell_type": "code",
      "metadata": {
        "id": "VKUoFONTTr75",
        "colab_type": "code",
        "colab": {}
      },
      "source": [
        "def compute_single_neuron_decoding_accuracies(spikes_per_neuron, outcomes, penalty='none'):\n",
        "  n_neurons = spikes_per_neuron.shape[0]\n",
        "  n_trials = spikes_per_neuron.shape[1]\n",
        "  # average over time\n",
        "  spikes_per_neuron_time_avg = spikes_per_neuron.mean(axis=2)\n",
        "  decoding_accuracies = np.empty(n_neurons)\n",
        "  decoding_accuracies_chance = np.empty(n_neurons)\n",
        "  for i_neuron in range(n_neurons):\n",
        "    X = spikes_per_neuron_time_avg[i_neuron, :][:, None]\n",
        "    decoding_accuracies[i_neuron] = cross_val_score(LogisticRegression(penalty=penalty), X, outcomes, cv=8, n_jobs=-1).mean()\n",
        "    # shuffle trials to get chance level\n",
        "    X = X.copy()\n",
        "    np.random.shuffle(X)\n",
        "    decoding_accuracies_chance[i_neuron] = cross_val_score(LogisticRegression(penalty=penalty), X, outcomes, cv=8, n_jobs=-1).mean() # k=8 crossvalidation\n",
        "  return decoding_accuracies, decoding_accuracies_chance"
      ],
      "execution_count": 17,
      "outputs": []
    },
    {
      "cell_type": "code",
      "metadata": {
        "id": "gg1BQL9OpoE0",
        "colab_type": "code",
        "colab": {}
      },
      "source": [
        "def compute_all_neuron_decoding_accuracies(spikes_per_neuron, outcomes, penalty='none'):#\"l2\"\n",
        "  n_neurons = spikes_per_neuron.shape[0]\n",
        "  n_trials = spikes_per_neuron.shape[1]\n",
        "  # average over time\n",
        "  spikes_all_neuron_time_avg = spikes_per_neuron.mean(axis=2)\n",
        "  decoding_accuracies = 0\n",
        "  decoding_accuracies_chance = 0\n",
        "  X = spikes_all_neuron_time_avg.T\n",
        "  decoding_accuracies = cross_val_score(LogisticRegression(penalty=penalty), X, outcomes, cv=8, n_jobs=-1).mean()\n",
        "  # shuffle trials to get chance level\n",
        "  X = X.copy()\n",
        "  np.random.shuffle(X)\n",
        "  decoding_accuracies_chance = cross_val_score(LogisticRegression(penalty=penalty), X, outcomes, cv=8, n_jobs=-1).mean() # k=8 crossvalidation\n",
        "  return decoding_accuracies, decoding_accuracies_chance"
      ],
      "execution_count": 18,
      "outputs": []
    },
    {
      "cell_type": "markdown",
      "metadata": {
        "id": "OoteHceFFMS5",
        "colab_type": "text"
      },
      "source": [
        "### Dimensionality reduction"
      ]
    },
    {
      "cell_type": "code",
      "metadata": {
        "id": "yOld5lb1FPdU",
        "colab_type": "code",
        "colab": {}
      },
      "source": [
        "from sklearn.decomposition import PCA\n",
        "\n",
        "def principal_component_features_from_spikes_per_neuron(spikes_per_neuron, n_components=5):\n",
        "  n_neurons = spikes_per_neuron.shape[0]\n",
        "  n_trials = spikes_per_neuron.shape[1]\n",
        "  n_time_steps = spikes_per_neuron.shape[2] if len(spikes_per_neuron.shape) > 2 else 1\n",
        "  X = spikes_per_neuron.reshape((n_neurons, n_trials * n_time_steps)).T\n",
        "  pca_model = PCA(n_components=min(n_components, X.shape[1]), copy=True)\n",
        "  X_pca = pca_model.fit_transform(X)\n",
        "  return X_pca, pca_model\n"
      ],
      "execution_count": 19,
      "outputs": []
    },
    {
      "cell_type": "code",
      "metadata": {
        "id": "aEZVsZwgFT2E",
        "colab_type": "code",
        "colab": {}
      },
      "source": [
        "def compute_principal_component_decoding_accuracies(spikes_per_neuron, outcomes, penalty='none', n_components=5):\n",
        "  n_neurons = spikes_per_neuron.shape[0]\n",
        "  n_trials = spikes_per_neuron.shape[1]\n",
        "  # average over time\n",
        "  spikes_per_neuron_time_avg = spikes_per_neuron.mean(axis=2)\n",
        "  # reduce dimensionality\n",
        "  X, pca_model = principal_component_features_from_spikes_per_neuron(spikes_per_neuron_time_avg)\n",
        "  # print(\"pca explained_variance_ratios\", pca_model.explained_variance_ratio_)\n",
        "  # print(\"pca explained_variance_ratios total\", np.sum(pca_model.explained_variance_ratio_))\n",
        "  # compute decoding accuracy\n",
        "  decoding_accuracy = cross_val_score(LogisticRegression(penalty=penalty), X, outcomes, cv=8, n_jobs=-1).mean()\n",
        "  # shuffle trials to get chance level\n",
        "  X = X.copy()\n",
        "  np.random.shuffle(X)\n",
        "  decoding_accuracy_chance = cross_val_score(LogisticRegression(penalty=penalty), X, outcomes, cv=8, n_jobs=-1).mean() # k=8 crossvalidation\n",
        "  return decoding_accuracy, decoding_accuracy_chance"
      ],
      "execution_count": 20,
      "outputs": []
    },
    {
      "cell_type": "markdown",
      "metadata": {
        "id": "RRFSeJt1Y2LD",
        "colab_type": "text"
      },
      "source": [
        "## Decode from each individual neuron on each possible brain area and sessions"
      ]
    },
    {
      "cell_type": "markdown",
      "metadata": {
        "id": "POxysgF-kmJu",
        "colab_type": "text"
      },
      "source": [
        "Ideas to do next:\n",
        "- try with all the neurons (keeping time average). try L1, L2 regularization, or elasticnet.\n",
        "-- feedback period\n",
        "-- prestimulus period\n",
        "- try with kernel (e.g. polynomial degree 2-3, gaussian)\n",
        "- try with principal component over the neurons (PCA) # decoding from PCA ~= L2 regularization? <ref needed>\n",
        "- try to not average over time. each time step = 1 feature. \n",
        "- try to decode at the feedback period. or after the go cue. time-average and without."
      ]
    },
    {
      "cell_type": "code",
      "metadata": {
        "id": "TjJdWNMEf_AP",
        "colab_type": "code",
        "colab": {
          "base_uri": "https://localhost:8080/",
          "height": 1000
        },
        "outputId": "904bf309-ee9a-4a16-f1af-54d60ca68f49"
      },
      "source": [
        "window = slice(0, 50, 1)\n",
        "# window = slice(30, 50, 1)\n",
        "thresh_print = 0.05\n",
        "for i_session in range(n_sessions):\n",
        "  filtered_data_focus = filtered_data[i_session]\n",
        "  outcomes_correct = get_outcomes_correct_with_session(filtered_data_focus)\n",
        "  print(f\"session {i_session}, mouse accuracy:{outcomes_correct.mean() * 100:.1f} %\")\n",
        "  brain_areas = set(filtered_data_focus['brain_area'])\n",
        "  for brain_area in brain_areas:\n",
        "    spikes_per_neuron = get_neurons_spikes_with_session_area_window(filtered_data_focus, brain_area, window)\n",
        "    decoding_accuracies, decoding_accuracies_chance = compute_single_neuron_decoding_accuracies(spikes_per_neuron, outcomes_correct)\n",
        "    decoding_accuracies_diff = decoding_accuracies - decoding_accuracies_chance\n",
        "    if np.any(decoding_accuracies_diff > thresh_print):\n",
        "      print(\"found!\")\n",
        "      print(\"brain_area\", brain_area)\n",
        "      print(f\"max decoding accuracy from chance level: {decoding_accuracies_diff.max()*100:.1f}%\")\n",
        "      plt.figure()\n",
        "      plt.hist(decoding_accuracies_diff*100)\n",
        "      plt.xlabel(\"decoding accuracy from chance level (%)\")\n",
        "      plt.ylabel(\"number of neurons\")\n",
        "      plt.show()"
      ],
      "execution_count": 29,
      "outputs": [
        {
          "output_type": "stream",
          "text": [
            "session 0, mouse accuracy:67.8 %\n",
            "session 1, mouse accuracy:65.2 %\n",
            "session 2, mouse accuracy:67.5 %\n",
            "session 3, mouse accuracy:69.0 %\n",
            "session 4, mouse accuracy:67.0 %\n",
            "session 5, mouse accuracy:75.5 %\n",
            "session 6, mouse accuracy:67.4 %\n",
            "session 7, mouse accuracy:65.8 %\n",
            "found!\n",
            "brain_area PL\n",
            "max decoding accuracy from chance level: 9.9\n"
          ],
          "name": "stdout"
        },
        {
          "output_type": "display_data",
          "data": {
            "image/png": "[encoded data removed]",
            "text/plain": [
              "<Figure size 432x288 with 1 Axes>"
            ]
          },
          "metadata": {
            "tags": [],
            "needs_background": "light"
          }
        },
        {
          "output_type": "stream",
          "text": [
            "found!\n",
            "brain_area MOs\n",
            "max decoding accuracy from chance level: 6.5\n"
          ],
          "name": "stdout"
        },
        {
          "output_type": "display_data",
          "data": {
            "image/png": "[encoded data removed]",
            "text/plain": [
              "<Figure size 432x288 with 1 Axes>"
            ]
          },
          "metadata": {
            "tags": [],
            "needs_background": "light"
          }
        },
        {
          "output_type": "stream",
          "text": [
            "session 8, mouse accuracy:70.7 %\n",
            "session 9, mouse accuracy:63.8 %\n",
            "session 10, mouse accuracy:82.0 %\n",
            "session 11, mouse accuracy:73.3 %\n",
            "session 12, mouse accuracy:80.7 %\n",
            "session 13, mouse accuracy:70.7 %\n",
            "session 14, mouse accuracy:77.3 %\n",
            "session 15, mouse accuracy:72.7 %\n",
            "session 16, mouse accuracy:84.0 %\n",
            "session 17, mouse accuracy:79.5 %\n",
            "session 18, mouse accuracy:61.3 %\n",
            "found!\n",
            "brain_area DG\n",
            "max decoding accuracy from chance level: 6.3\n"
          ],
          "name": "stdout"
        },
        {
          "output_type": "display_data",
          "data": {
            "image/png": "[encoded data removed]",
            "text/plain": [
              "<Figure size 432x288 with 1 Axes>"
            ]
          },
          "metadata": {
            "tags": [],
            "needs_background": "light"
          }
        },
        {
          "output_type": "stream",
          "text": [
            "found!\n",
            "brain_area root\n",
            "max decoding accuracy from chance level: 6.9\n"
          ],
          "name": "stdout"
        },
        {
          "output_type": "display_data",
          "data": {
            "image/png": "[encoded data removed]",
            "text/plain": [
              "<Figure size 432x288 with 1 Axes>"
            ]
          },
          "metadata": {
            "tags": [],
            "needs_background": "light"
          }
        },
        {
          "output_type": "stream",
          "text": [
            "session 19, mouse accuracy:63.4 %\n",
            "session 20, mouse accuracy:56.8 %\n",
            "found!\n",
            "brain_area SSp\n",
            "max decoding accuracy from chance level: 16.3\n"
          ],
          "name": "stdout"
        },
        {
          "output_type": "display_data",
          "data": {
            "image/png": "[encoded data removed]",
            "text/plain": [
              "<Figure size 432x288 with 1 Axes>"
            ]
          },
          "metadata": {
            "tags": [],
            "needs_background": "light"
          }
        },
        {
          "output_type": "stream",
          "text": [
            "found!\n",
            "brain_area VAL\n",
            "max decoding accuracy from chance level: 12.0\n"
          ],
          "name": "stdout"
        },
        {
          "output_type": "display_data",
          "data": {
            "image/png": "[encoded data removed]",
            "text/plain": [
              "<Figure size 432x288 with 1 Axes>"
            ]
          },
          "metadata": {
            "tags": [],
            "needs_background": "light"
          }
        },
        {
          "output_type": "stream",
          "text": [
            "found!\n",
            "brain_area LD\n",
            "max decoding accuracy from chance level: 12.6\n"
          ],
          "name": "stdout"
        },
        {
          "output_type": "display_data",
          "data": {
            "image/png": "[encoded data removed]",
            "text/plain": [
              "<Figure size 432x288 with 1 Axes>"
            ]
          },
          "metadata": {
            "tags": [],
            "needs_background": "light"
          }
        },
        {
          "output_type": "stream",
          "text": [
            "found!\n",
            "brain_area MOp\n",
            "max decoding accuracy from chance level: 7.3\n"
          ],
          "name": "stdout"
        },
        {
          "output_type": "display_data",
          "data": {
            "image/png": "[encoded data removed]",
            "text/plain": [
              "<Figure size 432x288 with 1 Axes>"
            ]
          },
          "metadata": {
            "tags": [],
            "needs_background": "light"
          }
        },
        {
          "output_type": "stream",
          "text": [
            "session 21, mouse accuracy:71.6 %\n",
            "session 22, mouse accuracy:69.3 %\n",
            "found!\n",
            "brain_area CA1\n",
            "max decoding accuracy from chance level: 5.8\n"
          ],
          "name": "stdout"
        },
        {
          "output_type": "display_data",
          "data": {
            "image/png": "[encoded data removed]",
            "text/plain": [
              "<Figure size 432x288 with 1 Axes>"
            ]
          },
          "metadata": {
            "tags": [],
            "needs_background": "light"
          }
        },
        {
          "output_type": "stream",
          "text": [
            "found!\n",
            "brain_area root\n",
            "max decoding accuracy from chance level: 7.4\n"
          ],
          "name": "stdout"
        },
        {
          "output_type": "display_data",
          "data": {
            "image/png": "[encoded data removed]",
            "text/plain": [
              "<Figure size 432x288 with 1 Axes>"
            ]
          },
          "metadata": {
            "tags": [],
            "needs_background": "light"
          }
        },
        {
          "output_type": "stream",
          "text": [
            "session 23, mouse accuracy:58.7 %\n",
            "found!\n",
            "brain_area SCig\n",
            "max decoding accuracy from chance level: 5.9\n"
          ],
          "name": "stdout"
        },
        {
          "output_type": "display_data",
          "data": {
            "image/png": "[encoded data removed]",
            "text/plain": [
              "<Figure size 432x288 with 1 Axes>"
            ]
          },
          "metadata": {
            "tags": [],
            "needs_background": "light"
          }
        },
        {
          "output_type": "stream",
          "text": [
            "found!\n",
            "brain_area CA2\n",
            "max decoding accuracy from chance level: 7.0\n"
          ],
          "name": "stdout"
        },
        {
          "output_type": "display_data",
          "data": {
            "image/png": "[encoded data removed]",
            "text/plain": [
              "<Figure size 432x288 with 1 Axes>"
            ]
          },
          "metadata": {
            "tags": [],
            "needs_background": "light"
          }
        },
        {
          "output_type": "stream",
          "text": [
            "found!\n",
            "brain_area CA1\n",
            "max decoding accuracy from chance level: 5.2\n"
          ],
          "name": "stdout"
        },
        {
          "output_type": "display_data",
          "data": {
            "image/png": "[encoded data removed]",
            "text/plain": [
              "<Figure size 432x288 with 1 Axes>"
            ]
          },
          "metadata": {
            "tags": [],
            "needs_background": "light"
          }
        },
        {
          "output_type": "stream",
          "text": [
            "found!\n",
            "brain_area RSP\n",
            "max decoding accuracy from chance level: 7.0\n"
          ],
          "name": "stdout"
        },
        {
          "output_type": "display_data",
          "data": {
            "image/png": "[encoded data removed]",
            "text/plain": [
              "<Figure size 432x288 with 1 Axes>"
            ]
          },
          "metadata": {
            "tags": [],
            "needs_background": "light"
          }
        },
        {
          "output_type": "stream",
          "text": [
            "found!\n",
            "brain_area VISpm\n",
            "max decoding accuracy from chance level: 8.9\n"
          ],
          "name": "stdout"
        },
        {
          "output_type": "display_data",
          "data": {
            "image/png": "[encoded data removed]",
            "text/plain": [
              "<Figure size 432x288 with 1 Axes>"
            ]
          },
          "metadata": {
            "tags": [],
            "needs_background": "light"
          }
        },
        {
          "output_type": "stream",
          "text": [
            "found!\n",
            "brain_area MRN\n",
            "max decoding accuracy from chance level: 7.7\n"
          ],
          "name": "stdout"
        },
        {
          "output_type": "display_data",
          "data": {
            "image/png": "[encoded data removed]",
            "text/plain": [
              "<Figure size 432x288 with 1 Axes>"
            ]
          },
          "metadata": {
            "tags": [],
            "needs_background": "light"
          }
        },
        {
          "output_type": "stream",
          "text": [
            "session 24, mouse accuracy:75.9 %\n",
            "session 25, mouse accuracy:75.9 %\n",
            "found!\n",
            "brain_area MOs\n",
            "max decoding accuracy from chance level: 6.2\n"
          ],
          "name": "stdout"
        },
        {
          "output_type": "display_data",
          "data": {
            "image/png": "[encoded data removed]",
            "text/plain": [
              "<Figure size 432x288 with 1 Axes>"
            ]
          },
          "metadata": {
            "tags": [],
            "needs_background": "light"
          }
        },
        {
          "output_type": "stream",
          "text": [
            "session 26, mouse accuracy:66.5 %\n",
            "session 27, mouse accuracy:60.6 %\n",
            "found!\n",
            "brain_area SCig\n",
            "max decoding accuracy from chance level: 5.1\n"
          ],
          "name": "stdout"
        },
        {
          "output_type": "display_data",
          "data": {
            "image/png": "[encoded data removed]",
            "text/plain": [
              "<Figure size 432x288 with 1 Axes>"
            ]
          },
          "metadata": {
            "tags": [],
            "needs_background": "light"
          }
        },
        {
          "output_type": "stream",
          "text": [
            "found!\n",
            "brain_area CA1\n",
            "max decoding accuracy from chance level: 5.9\n"
          ],
          "name": "stdout"
        },
        {
          "output_type": "display_data",
          "data": {
            "image/png": "[encoded data removed]",
            "text/plain": [
              "<Figure size 432x288 with 1 Axes>"
            ]
          },
          "metadata": {
            "tags": [],
            "needs_background": "light"
          }
        },
        {
          "output_type": "stream",
          "text": [
            "found!\n",
            "brain_area RSP\n",
            "max decoding accuracy from chance level: 7.4\n"
          ],
          "name": "stdout"
        },
        {
          "output_type": "display_data",
          "data": {
            "image/png": "[encoded data removed]",
            "text/plain": [
              "<Figure size 432x288 with 1 Axes>"
            ]
          },
          "metadata": {
            "tags": [],
            "needs_background": "light"
          }
        },
        {
          "output_type": "stream",
          "text": [
            "found!\n",
            "brain_area MRN\n",
            "max decoding accuracy from chance level: 5.1\n"
          ],
          "name": "stdout"
        },
        {
          "output_type": "display_data",
          "data": {
            "image/png": "[encoded data removed]",
            "text/plain": [
              "<Figure size 432x288 with 1 Axes>"
            ]
          },
          "metadata": {
            "tags": [],
            "needs_background": "light"
          }
        },
        {
          "output_type": "stream",
          "text": [
            "session 28, mouse accuracy:61.4 %\n",
            "found!\n",
            "brain_area CP\n",
            "max decoding accuracy from chance level: 7.1\n"
          ],
          "name": "stdout"
        },
        {
          "output_type": "display_data",
          "data": {
            "image/png": "[encoded data removed]",
            "text/plain": [
              "<Figure size 432x288 with 1 Axes>"
            ]
          },
          "metadata": {
            "tags": [],
            "needs_background": "light"
          }
        },
        {
          "output_type": "stream",
          "text": [
            "found!\n",
            "brain_area SSp\n",
            "max decoding accuracy from chance level: 8.9\n"
          ],
          "name": "stdout"
        },
        {
          "output_type": "display_data",
          "data": {
            "image/png": "[encoded data removed]",
            "text/plain": [
              "<Figure size 432x288 with 1 Axes>"
            ]
          },
          "metadata": {
            "tags": [],
            "needs_background": "light"
          }
        },
        {
          "output_type": "stream",
          "text": [
            "found!\n",
            "brain_area MOp\n",
            "max decoding accuracy from chance level: 12.4\n"
          ],
          "name": "stdout"
        },
        {
          "output_type": "display_data",
          "data": {
            "image/png": "[encoded data removed]",
            "text/plain": [
              "<Figure size 432x288 with 1 Axes>"
            ]
          },
          "metadata": {
            "tags": [],
            "needs_background": "light"
          }
        },
        {
          "output_type": "stream",
          "text": [
            "session 29, mouse accuracy:51.1 %\n",
            "found!\n",
            "brain_area DG\n",
            "max decoding accuracy from chance level: 16.2\n"
          ],
          "name": "stdout"
        },
        {
          "output_type": "display_data",
          "data": {
            "image/png": "[encoded data removed]",
            "text/plain": [
              "<Figure size 432x288 with 1 Axes>"
            ]
          },
          "metadata": {
            "tags": [],
            "needs_background": "light"
          }
        },
        {
          "output_type": "stream",
          "text": [
            "found!\n",
            "brain_area VISa\n",
            "max decoding accuracy from chance level: 11.7\n"
          ],
          "name": "stdout"
        },
        {
          "output_type": "display_data",
          "data": {
            "image/png": "[encoded data removed]",
            "text/plain": [
              "<Figure size 432x288 with 1 Axes>"
            ]
          },
          "metadata": {
            "tags": [],
            "needs_background": "light"
          }
        },
        {
          "output_type": "stream",
          "text": [
            "found!\n",
            "brain_area CL\n",
            "max decoding accuracy from chance level: 17.1\n"
          ],
          "name": "stdout"
        },
        {
          "output_type": "display_data",
          "data": {
            "image/png": "[encoded data removed]",
            "text/plain": [
              "<Figure size 432x288 with 1 Axes>"
            ]
          },
          "metadata": {
            "tags": [],
            "needs_background": "light"
          }
        },
        {
          "output_type": "stream",
          "text": [
            "found!\n",
            "brain_area LS\n",
            "max decoding accuracy from chance level: 12.5\n"
          ],
          "name": "stdout"
        },
        {
          "output_type": "display_data",
          "data": {
            "image/png": "[encoded data removed]",
            "text/plain": [
              "<Figure size 432x288 with 1 Axes>"
            ]
          },
          "metadata": {
            "tags": [],
            "needs_background": "light"
          }
        },
        {
          "output_type": "stream",
          "text": [
            "found!\n",
            "brain_area SUB\n",
            "max decoding accuracy from chance level: 16.2\n"
          ],
          "name": "stdout"
        },
        {
          "output_type": "display_data",
          "data": {
            "image/png": "[encoded data removed]",
            "text/plain": [
              "<Figure size 432x288 with 1 Axes>"
            ]
          },
          "metadata": {
            "tags": [],
            "needs_background": "light"
          }
        },
        {
          "output_type": "stream",
          "text": [
            "found!\n",
            "brain_area PO\n",
            "max decoding accuracy from chance level: 24.3\n"
          ],
          "name": "stdout"
        },
        {
          "output_type": "display_data",
          "data": {
            "image/png": "[encoded data removed]",
            "text/plain": [
              "<Figure size 432x288 with 1 Axes>"
            ]
          },
          "metadata": {
            "tags": [],
            "needs_background": "light"
          }
        },
        {
          "output_type": "stream",
          "text": [
            "found!\n",
            "brain_area MD\n",
            "max decoding accuracy from chance level: 20.0\n"
          ],
          "name": "stdout"
        },
        {
          "output_type": "display_data",
          "data": {
            "image/png": "[encoded data removed]",
            "text/plain": [
              "<Figure size 432x288 with 1 Axes>"
            ]
          },
          "metadata": {
            "tags": [],
            "needs_background": "light"
          }
        },
        {
          "output_type": "stream",
          "text": [
            "found!\n",
            "brain_area CA1\n",
            "max decoding accuracy from chance level: 12.3\n"
          ],
          "name": "stdout"
        },
        {
          "output_type": "display_data",
          "data": {
            "image/png": "[encoded data removed]",
            "text/plain": [
              "<Figure size 432x288 with 1 Axes>"
            ]
          },
          "metadata": {
            "tags": [],
            "needs_background": "light"
          }
        },
        {
          "output_type": "stream",
          "text": [
            "found!\n",
            "brain_area RSP\n",
            "max decoding accuracy from chance level: 15.6\n"
          ],
          "name": "stdout"
        },
        {
          "output_type": "display_data",
          "data": {
            "image/png": "[encoded data removed]",
            "text/plain": [
              "<Figure size 432x288 with 1 Axes>"
            ]
          },
          "metadata": {
            "tags": [],
            "needs_background": "light"
          }
        },
        {
          "output_type": "stream",
          "text": [
            "found!\n",
            "brain_area MOs\n",
            "max decoding accuracy from chance level: 13.1\n"
          ],
          "name": "stdout"
        },
        {
          "output_type": "display_data",
          "data": {
            "image/png": "[encoded data removed]",
            "text/plain": [
              "<Figure size 432x288 with 1 Axes>"
            ]
          },
          "metadata": {
            "tags": [],
            "needs_background": "light"
          }
        },
        {
          "output_type": "stream",
          "text": [
            "found!\n",
            "brain_area root\n",
            "max decoding accuracy from chance level: 17.3\n"
          ],
          "name": "stdout"
        },
        {
          "output_type": "display_data",
          "data": {
            "image/png": "[encoded data removed]",
            "text/plain": [
              "<Figure size 432x288 with 1 Axes>"
            ]
          },
          "metadata": {
            "tags": [],
            "needs_background": "light"
          }
        },
        {
          "output_type": "stream",
          "text": [
            "found!\n",
            "brain_area LP\n",
            "max decoding accuracy from chance level: 13.4\n"
          ],
          "name": "stdout"
        },
        {
          "output_type": "display_data",
          "data": {
            "image/png": "[encoded data removed]",
            "text/plain": [
              "<Figure size 432x288 with 1 Axes>"
            ]
          },
          "metadata": {
            "tags": [],
            "needs_background": "light"
          }
        },
        {
          "output_type": "stream",
          "text": [
            "found!\n",
            "brain_area VPM\n",
            "max decoding accuracy from chance level: 27.3\n"
          ],
          "name": "stdout"
        },
        {
          "output_type": "display_data",
          "data": {
            "image/png": "[encoded data removed]",
            "text/plain": [
              "<Figure size 432x288 with 1 Axes>"
            ]
          },
          "metadata": {
            "tags": [],
            "needs_background": "light"
          }
        },
        {
          "output_type": "stream",
          "text": [
            "session 30, mouse accuracy:72.8 %\n",
            "session 31, mouse accuracy:72.5 %\n",
            "session 32, mouse accuracy:69.4 %\n",
            "found!\n",
            "brain_area CP\n",
            "max decoding accuracy from chance level: 5.5\n"
          ],
          "name": "stdout"
        },
        {
          "output_type": "display_data",
          "data": {
            "image/png": "[encoded data removed]",
            "text/plain": [
              "<Figure size 432x288 with 1 Axes>"
            ]
          },
          "metadata": {
            "tags": [],
            "needs_background": "light"
          }
        },
        {
          "output_type": "stream",
          "text": [
            "session 33, mouse accuracy:60.6 %\n",
            "session 34, mouse accuracy:79.4 %\n",
            "session 35, mouse accuracy:75.8 %\n",
            "session 36, mouse accuracy:76.6 %\n",
            "found!\n",
            "brain_area MB\n",
            "max decoding accuracy from chance level: 6.0\n"
          ],
          "name": "stdout"
        },
        {
          "output_type": "display_data",
          "data": {
            "image/png": "[encoded data removed]",
            "text/plain": [
              "<Figure size 432x288 with 1 Axes>"
            ]
          },
          "metadata": {
            "tags": [],
            "needs_background": "light"
          }
        },
        {
          "output_type": "stream",
          "text": [
            "session 37, mouse accuracy:66.7 %\n",
            "session 38, mouse accuracy:71.7 %\n"
          ],
          "name": "stdout"
        }
      ]
    },
    {
      "cell_type": "markdown",
      "metadata": {
        "id": "iXp98QPLpGa9",
        "colab_type": "text"
      },
      "source": [
        "## Decode from all the neurons on each possible brain area and sessions"
      ]
    },
    {
      "cell_type": "code",
      "metadata": {
        "id": "ImDyhl_xpgtC",
        "colab_type": "code",
        "colab": {
          "base_uri": "https://localhost:8080/",
          "height": 1000
        },
        "outputId": "506529d5-2918-4f11-e62b-1007d117cfcc"
      },
      "source": [
        "window = slice(0, 50, 1)\n",
        "# window = slice(30, 50, 1)\n",
        "thresh_print = 0.04\n",
        "for i_session in range(n_sessions):\n",
        "  print(\"session\", i_session)\n",
        "  filtered_data_focus = filtered_data[i_session]\n",
        "  outcomes_correct = get_outcomes_correct_with_session(filtered_data_focus)\n",
        "  correct_score_mouse=np.count_nonzero(outcomes_correct)/len(outcomes_correct)\n",
        "  brain_areas = set(filtered_data_focus['brain_area'])\n",
        "  for brain_area in brain_areas:\n",
        "    print(\"decoding on brain_area\", brain_area)\n",
        "    spikes_per_neuron = get_neurons_spikes_with_session_area_window(filtered_data_focus, brain_area, window) #  spikes_per_neuron.shape == (neurons*trials*time) \n",
        "    decoding_accuracies, decoding_accuracies_chance = compute_all_neuron_decoding_accuracies(spikes_per_neuron, outcomes_correct)\n",
        "    decoding_accuracies_diff = decoding_accuracies - decoding_accuracies_chance\n",
        "    if np.any(decoding_accuracies_diff > thresh_print):\n",
        "      print(\"found!\")\n",
        "      # print(\"decoding_accuracies\", decoding_accuracies)\n",
        "      # print(\"decoding_accuracies_chance\", decoding_accuracies_chance)\n",
        "      print(\"max diff: \", (decoding_accuracies_diff).max())\n",
        "      print(\"decoding_accuracies :\",decoding_accuracies)\n",
        "      print(\"correct_score_mouse :\", correct_score_mouse,\"incorrect_score_mouse :\", 1-correct_score_mouse)\n",
        "      #plt.figure()\n",
        "      #plt.hist(decoding_accuracies_diff)\n",
        "      #plt.show()"
      ],
      "execution_count": 27,
      "outputs": [
        {
          "output_type": "stream",
          "text": [
            "session 0\n",
            "decoding on brain_area DG\n",
            "decoding on brain_area LS\n",
            "decoding on brain_area SUB\n",
            "decoding on brain_area CA3\n",
            "decoding on brain_area MOs\n",
            "decoding on brain_area root\n",
            "decoding on brain_area ACA\n",
            "decoding on brain_area VISp\n",
            "session 1\n",
            "decoding on brain_area POST\n",
            "decoding on brain_area VISl\n",
            "decoding on brain_area CA1\n",
            "found!\n",
            "max diff:  0.062038177339901523\n",
            "decoding_accuracies : 0.5224753694581281\n",
            "correct_score_mouse : 0.6521739130434783 incorrect_score_mouse : 0.34782608695652173\n",
            "decoding on brain_area VISpm\n",
            "decoding on brain_area root\n",
            "session 2\n",
            "decoding on brain_area NB\n",
            "decoding on brain_area DG\n",
            "decoding on brain_area POST\n",
            "found!\n",
            "max diff:  0.10230769230769221\n",
            "decoding_accuracies : 0.6507692307692308\n",
            "correct_score_mouse : 0.6747572815533981 incorrect_score_mouse : 0.3252427184466019\n",
            "decoding on brain_area SPF\n",
            "decoding on brain_area CA1\n",
            "found!\n",
            "max diff:  0.0921153846153846\n",
            "decoding_accuracies : 0.6111538461538462\n",
            "correct_score_mouse : 0.6747572815533981 incorrect_score_mouse : 0.3252427184466019\n",
            "decoding on brain_area VISam\n",
            "decoding on brain_area MRN\n",
            "found!\n",
            "max diff:  0.08673076923076928\n",
            "decoding_accuracies : 0.6205769230769231\n",
            "correct_score_mouse : 0.6747572815533981 incorrect_score_mouse : 0.3252427184466019\n",
            "decoding on brain_area root\n",
            "decoding on brain_area VISp\n",
            "decoding on brain_area LP\n",
            "decoding on brain_area MG\n",
            "session 3\n",
            "decoding on brain_area VPL\n",
            "decoding on brain_area DG\n",
            "found!\n",
            "max diff:  0.05603448275862055\n",
            "decoding_accuracies : 0.5905172413793103\n",
            "correct_score_mouse : 0.6896551724137931 incorrect_score_mouse : 0.31034482758620685\n",
            "decoding on brain_area TH\n",
            "decoding on brain_area VISa\n",
            "decoding on brain_area LSr\n",
            "decoding on brain_area SUB\n",
            "decoding on brain_area CA1\n",
            "decoding on brain_area MOs\n",
            "decoding on brain_area ACA\n",
            "decoding on brain_area VISp\n",
            "decoding on brain_area LGd\n",
            "found!\n",
            "max diff:  0.0646551724137931\n",
            "decoding_accuracies : 0.5560344827586207\n",
            "correct_score_mouse : 0.6896551724137931 incorrect_score_mouse : 0.31034482758620685\n",
            "session 4\n",
            "decoding on brain_area OLF\n",
            "decoding on brain_area VISa\n",
            "decoding on brain_area DG\n",
            "decoding on brain_area PL\n",
            "decoding on brain_area ORB\n",
            "decoding on brain_area SUB\n",
            "decoding on brain_area CA1\n",
            "decoding on brain_area MOs\n",
            "found!\n",
            "max diff:  0.04587438423645307\n",
            "decoding_accuracies : 0.6636391625615763\n",
            "correct_score_mouse : 0.6695652173913044 incorrect_score_mouse : 0.33043478260869563\n",
            "decoding on brain_area root\n",
            "decoding on brain_area ACA\n",
            "session 5\n",
            "decoding on brain_area TH\n",
            "decoding on brain_area SSp\n",
            "decoding on brain_area AUD\n",
            "decoding on brain_area CA1\n",
            "decoding on brain_area root\n",
            "session 6\n",
            "decoding on brain_area VPL\n",
            "found!\n",
            "max diff:  0.07198275862068959\n",
            "decoding_accuracies : 0.5863505747126436\n",
            "correct_score_mouse : 0.6736401673640168 incorrect_score_mouse : 0.3263598326359832\n",
            "decoding on brain_area SSp\n",
            "decoding on brain_area CA3\n",
            "decoding on brain_area CP\n",
            "decoding on brain_area LD\n",
            "decoding on brain_area root\n",
            "found!\n",
            "max diff:  0.04597701149425282\n",
            "decoding_accuracies : 0.5517241379310345\n",
            "correct_score_mouse : 0.6736401673640168 incorrect_score_mouse : 0.3263598326359832\n",
            "decoding on brain_area EPd\n",
            "found!\n",
            "max diff:  0.06709770114942526\n",
            "decoding_accuracies : 0.6107758620689655\n",
            "correct_score_mouse : 0.6736401673640168 incorrect_score_mouse : 0.3263598326359832\n",
            "decoding on brain_area PIR\n",
            "session 7\n",
            "decoding on brain_area VISa\n",
            "found!\n",
            "max diff:  0.07298850574712634\n",
            "decoding_accuracies : 0.6113505747126436\n",
            "correct_score_mouse : 0.6581196581196581 incorrect_score_mouse : 0.3418803418803419\n",
            "decoding on brain_area DG\n",
            "decoding on brain_area LSr\n",
            "decoding on brain_area PL\n",
            "found!\n",
            "max diff:  0.05474137931034484\n",
            "decoding_accuracies : 0.610919540229885\n",
            "correct_score_mouse : 0.6581196581196581 incorrect_score_mouse : 0.3418803418803419\n",
            "decoding on brain_area SUB\n",
            "decoding on brain_area PO\n",
            "found!\n",
            "max diff:  0.0902298850574712\n",
            "decoding_accuracies : 0.6494252873563218\n",
            "correct_score_mouse : 0.6581196581196581 incorrect_score_mouse : 0.3418803418803419\n",
            "decoding on brain_area CA1\n",
            "decoding on brain_area CA3\n",
            "decoding on brain_area LD\n",
            "decoding on brain_area MOs\n",
            "decoding on brain_area ILA\n",
            "decoding on brain_area root\n",
            "decoding on brain_area VISp\n",
            "found!\n",
            "max diff:  0.05545977011494263\n",
            "decoding_accuracies : 0.6110632183908047\n",
            "correct_score_mouse : 0.6581196581196581 incorrect_score_mouse : 0.3418803418803419\n",
            "decoding on brain_area LP\n",
            "decoding on brain_area TT\n",
            "session 8\n",
            "decoding on brain_area VPL\n",
            "decoding on brain_area TH\n",
            "decoding on brain_area LSr\n",
            "decoding on brain_area PL\n",
            "decoding on brain_area VISl\n",
            "decoding on brain_area CA1\n",
            "decoding on brain_area CA3\n",
            "decoding on brain_area VISam\n",
            "decoding on brain_area LD\n",
            "found!\n",
            "max diff:  0.045454545454545525\n",
            "decoding_accuracies : 0.6136363636363636\n",
            "correct_score_mouse : 0.7073863636363636 incorrect_score_mouse : 0.29261363636363635\n",
            "decoding on brain_area ORBm\n",
            "decoding on brain_area TT\n",
            "decoding on brain_area root\n",
            "session 9\n",
            "decoding on brain_area POL\n",
            "found!\n",
            "max diff:  0.06495098039215685\n",
            "decoding_accuracies : 0.5819664404223228\n",
            "correct_score_mouse : 0.6376811594202898 incorrect_score_mouse : 0.3623188405797102\n",
            "decoding on brain_area DG\n",
            "decoding on brain_area POST\n",
            "found!\n",
            "max diff:  0.053780165912518885\n",
            "decoding_accuracies : 0.6165629713423831\n",
            "correct_score_mouse : 0.6376811594202898 incorrect_score_mouse : 0.3623188405797102\n",
            "decoding on brain_area VISl\n",
            "found!\n",
            "max diff:  0.07960972850678727\n",
            "decoding_accuracies : 0.6184483408748114\n",
            "correct_score_mouse : 0.6376811594202898 incorrect_score_mouse : 0.3623188405797102\n",
            "decoding on brain_area SCm\n",
            "found!\n",
            "max diff:  0.07560331825037714\n",
            "decoding_accuracies : 0.6529506033182504\n",
            "correct_score_mouse : 0.6376811594202898 incorrect_score_mouse : 0.3623188405797102\n",
            "decoding on brain_area CA1\n",
            "decoding on brain_area VISrl\n",
            "decoding on brain_area GPe\n",
            "decoding on brain_area SCsg\n",
            "found!\n",
            "max diff:  0.04171380090497734\n",
            "decoding_accuracies : 0.6601150075414781\n",
            "correct_score_mouse : 0.6376811594202898 incorrect_score_mouse : 0.3623188405797102\n",
            "decoding on brain_area MRN\n",
            "decoding on brain_area root\n",
            "found!\n",
            "max diff:  0.06730769230769229\n",
            "decoding_accuracies : 0.6157616892911011\n",
            "correct_score_mouse : 0.6376811594202898 incorrect_score_mouse : 0.3623188405797102\n",
            "decoding on brain_area VISp\n",
            "decoding on brain_area MB\n",
            "session 10\n",
            "decoding on brain_area LSr\n",
            "decoding on brain_area CP\n",
            "decoding on brain_area root\n",
            "decoding on brain_area PT\n",
            "decoding on brain_area LSc\n",
            "found!\n",
            "max diff:  0.05657051282051273\n",
            "decoding_accuracies : 0.7729967948717948\n",
            "correct_score_mouse : 0.8201892744479495 incorrect_score_mouse : 0.17981072555205047\n",
            "decoding on brain_area MOp\n",
            "session 11\n",
            "decoding on brain_area DG\n",
            "decoding on brain_area PL\n",
            "decoding on brain_area SUB\n",
            "decoding on brain_area LH\n",
            "decoding on brain_area CA1\n",
            "decoding on brain_area MD\n",
            "decoding on brain_area VISam\n",
            "decoding on brain_area MOs\n",
            "decoding on brain_area root\n",
            "decoding on brain_area ACA\n",
            "decoding on brain_area VISp\n",
            "decoding on brain_area LGd\n",
            "session 12\n",
            "decoding on brain_area RN\n",
            "decoding on brain_area MS\n",
            "decoding on brain_area DG\n",
            "decoding on brain_area ACA\n",
            "decoding on brain_area PL\n",
            "decoding on brain_area SCm\n",
            "decoding on brain_area CA1\n",
            "decoding on brain_area VISam\n",
            "decoding on brain_area ZI\n",
            "decoding on brain_area MRN\n",
            "decoding on brain_area MOs\n",
            "decoding on brain_area root\n",
            "decoding on brain_area SCs\n",
            "decoding on brain_area MB\n",
            "decoding on brain_area LGd\n",
            "session 13\n",
            "decoding on brain_area ORB\n",
            "decoding on brain_area SCm\n",
            "decoding on brain_area CA1\n",
            "decoding on brain_area PAG\n",
            "decoding on brain_area RSP\n",
            "decoding on brain_area MOs\n",
            "decoding on brain_area MRN\n",
            "decoding on brain_area root\n",
            "decoding on brain_area SCs\n",
            "decoding on brain_area VISp\n",
            "session 14\n",
            "decoding on brain_area CA3\n",
            "decoding on brain_area GPe\n",
            "decoding on brain_area ZI\n",
            "decoding on brain_area BLA\n",
            "decoding on brain_area root\n",
            "decoding on brain_area MB\n",
            "decoding on brain_area VPM\n",
            "decoding on brain_area LGd\n",
            "session 15\n",
            "decoding on brain_area TH\n",
            "decoding on brain_area SSp\n",
            "decoding on brain_area CA3\n",
            "decoding on brain_area SSs\n",
            "decoding on brain_area MB\n",
            "decoding on brain_area LGd\n",
            "session 16\n",
            "decoding on brain_area MEA\n",
            "decoding on brain_area RT\n",
            "decoding on brain_area VPL\n",
            "decoding on brain_area LD\n",
            "decoding on brain_area root\n",
            "found!\n",
            "max diff:  0.06588319088319095\n",
            "decoding_accuracies : 0.8114316239316239\n",
            "correct_score_mouse : 0.839622641509434 incorrect_score_mouse : 0.160377358490566\n",
            "decoding on brain_area VPM\n",
            "session 17\n",
            "decoding on brain_area SNr\n",
            "decoding on brain_area TH\n",
            "decoding on brain_area SI\n",
            "decoding on brain_area OT\n",
            "decoding on brain_area CP\n",
            "decoding on brain_area CA3\n",
            "decoding on brain_area ZI\n",
            "decoding on brain_area root\n",
            "decoding on brain_area ACB\n",
            "decoding on brain_area LGd\n",
            "session 18\n",
            "decoding on brain_area APN\n",
            "decoding on brain_area POL\n",
            "decoding on brain_area DG\n",
            "decoding on brain_area SUB\n",
            "decoding on brain_area CA1\n",
            "decoding on brain_area VISam\n",
            "found!\n",
            "max diff:  0.054563492063492036\n",
            "decoding_accuracies : 0.5138888888888888\n",
            "correct_score_mouse : 0.6126126126126126 incorrect_score_mouse : 0.3873873873873874\n",
            "decoding on brain_area VISpm\n",
            "found!\n",
            "max diff:  0.04133597883597884\n",
            "decoding_accuracies : 0.5636574074074074\n",
            "correct_score_mouse : 0.6126126126126126 incorrect_score_mouse : 0.3873873873873874\n",
            "decoding on brain_area root\n",
            "found!\n",
            "max diff:  0.09160052910052907\n",
            "decoding_accuracies : 0.6180555555555556\n",
            "correct_score_mouse : 0.6126126126126126 incorrect_score_mouse : 0.3873873873873874\n",
            "decoding on brain_area LP\n",
            "session 19\n",
            "decoding on brain_area DG\n",
            "decoding on brain_area VISa\n",
            "decoding on brain_area TH\n",
            "decoding on brain_area SPF\n",
            "decoding on brain_area SUB\n",
            "decoding on brain_area CA1\n",
            "found!\n",
            "max diff:  0.10529891304347816\n",
            "decoding_accuracies : 0.6283967391304347\n",
            "correct_score_mouse : 0.6335078534031413 incorrect_score_mouse : 0.3664921465968587\n",
            "decoding on brain_area root\n",
            "decoding on brain_area VISp\n",
            "found!\n",
            "max diff:  0.06317934782608703\n",
            "decoding_accuracies : 0.5810688405797102\n",
            "correct_score_mouse : 0.6335078534031413 incorrect_score_mouse : 0.3664921465968587\n",
            "decoding on brain_area LP\n",
            "decoding on brain_area MG\n",
            "decoding on brain_area LGd\n",
            "session 20\n",
            "decoding on brain_area SSp\n",
            "found!\n",
            "max diff:  0.15247252747252737\n",
            "decoding_accuracies : 0.6929945054945055\n",
            "correct_score_mouse : 0.5675675675675675 incorrect_score_mouse : 0.43243243243243246\n",
            "decoding on brain_area VAL\n",
            "decoding on brain_area LD\n",
            "decoding on brain_area root\n",
            "decoding on brain_area MOp\n",
            "session 21\n",
            "decoding on brain_area IC\n",
            "decoding on brain_area VISp\n",
            "decoding on brain_area PL\n",
            "decoding on brain_area RSP\n",
            "decoding on brain_area MOs\n",
            "decoding on brain_area MRN\n",
            "decoding on brain_area TT\n",
            "decoding on brain_area SCsg\n",
            "decoding on brain_area ACA\n",
            "decoding on brain_area ACB\n",
            "session 22\n",
            "decoding on brain_area DG\n",
            "decoding on brain_area PO\n",
            "found!\n",
            "max diff:  0.049428104575163445\n",
            "decoding_accuracies : 0.5706699346405228\n",
            "correct_score_mouse : 0.6928571428571428 incorrect_score_mouse : 0.30714285714285716\n",
            "decoding on brain_area CA1\n",
            "decoding on brain_area VISam\n",
            "decoding on brain_area root\n",
            "decoding on brain_area LP\n",
            "found!\n",
            "max diff:  0.06413398692810457\n",
            "decoding_accuracies : 0.6715686274509804\n",
            "correct_score_mouse : 0.6928571428571428 incorrect_score_mouse : 0.30714285714285716\n",
            "session 23\n",
            "decoding on brain_area SCig\n",
            "decoding on brain_area CA2\n",
            "decoding on brain_area root\n",
            "found!\n",
            "max diff:  0.04004329004328999\n",
            "decoding_accuracies : 0.6109307359307359\n",
            "correct_score_mouse : 0.5872093023255814 incorrect_score_mouse : 0.41279069767441856\n",
            "decoding on brain_area CA1\n",
            "decoding on brain_area RSP\n",
            "decoding on brain_area SCsg\n",
            "decoding on brain_area VISpm\n",
            "decoding on brain_area MRN\n",
            "decoding on brain_area VISrl\n",
            "session 24\n",
            "decoding on brain_area SCig\n",
            "found!\n",
            "max diff:  0.09324712643678168\n",
            "decoding_accuracies : 0.675\n",
            "correct_score_mouse : 0.759493670886076 incorrect_score_mouse : 0.240506329113924\n",
            "decoding on brain_area DP\n",
            "decoding on brain_area PL\n",
            "decoding on brain_area RSP\n",
            "decoding on brain_area MOs\n",
            "decoding on brain_area MRN\n",
            "decoding on brain_area ILA\n",
            "decoding on brain_area root\n",
            "decoding on brain_area ACA\n",
            "decoding on brain_area VISp\n",
            "decoding on brain_area SCsg\n",
            "decoding on brain_area TT\n",
            "found!\n",
            "max diff:  0.04166666666666674\n",
            "decoding_accuracies : 0.7172413793103449\n",
            "correct_score_mouse : 0.759493670886076 incorrect_score_mouse : 0.240506329113924\n",
            "session 25\n",
            "decoding on brain_area SCig\n",
            "found!\n",
            "max diff:  0.07291666666666663\n",
            "decoding_accuracies : 0.6633928571428571\n",
            "correct_score_mouse : 0.7590361445783133 incorrect_score_mouse : 0.24096385542168675\n",
            "decoding on brain_area MOs\n",
            "decoding on brain_area MRN\n",
            "decoding on brain_area root\n",
            "decoding on brain_area VISp\n",
            "session 26\n",
            "decoding on brain_area DG\n",
            "decoding on brain_area PL\n",
            "decoding on brain_area PO\n",
            "decoding on brain_area CA1\n",
            "decoding on brain_area LD\n",
            "decoding on brain_area VISam\n",
            "found!\n",
            "max diff:  0.0466954022988505\n",
            "decoding_accuracies : 0.5617816091954022\n",
            "correct_score_mouse : 0.6652360515021459 incorrect_score_mouse : 0.33476394849785407\n",
            "decoding on brain_area MOs\n",
            "decoding on brain_area root\n",
            "decoding on brain_area ACA\n",
            "decoding on brain_area ACB\n",
            "decoding on brain_area LP\n",
            "found!\n",
            "max diff:  0.05114942528735633\n",
            "decoding_accuracies : 0.6396551724137931\n",
            "correct_score_mouse : 0.6652360515021459 incorrect_score_mouse : 0.33476394849785407\n",
            "session 27\n",
            "decoding on brain_area APN\n",
            "found!\n",
            "max diff:  0.059640522875817115\n",
            "decoding_accuracies : 0.5845588235294118\n",
            "correct_score_mouse : 0.6058394160583942 incorrect_score_mouse : 0.3941605839416058\n",
            "decoding on brain_area SCig\n",
            "found!\n",
            "max diff:  0.13153594771241833\n",
            "decoding_accuracies : 0.5906862745098039\n",
            "correct_score_mouse : 0.6058394160583942 incorrect_score_mouse : 0.3941605839416058\n",
            "decoding on brain_area POL\n",
            "found!\n",
            "max diff:  0.10089869281045749\n",
            "decoding_accuracies : 0.5910947712418301\n",
            "correct_score_mouse : 0.6058394160583942 incorrect_score_mouse : 0.3941605839416058\n",
            "decoding on brain_area DG\n",
            "decoding on brain_area CA1\n",
            "found!\n",
            "max diff:  0.051470588235294046\n",
            "decoding_accuracies : 0.5551470588235293\n",
            "correct_score_mouse : 0.6058394160583942 incorrect_score_mouse : 0.3941605839416058\n",
            "decoding on brain_area RSP\n",
            "decoding on brain_area SCsg\n",
            "decoding on brain_area VISpm\n",
            "decoding on brain_area MRN\n",
            "decoding on brain_area root\n",
            "decoding on brain_area LP\n",
            "session 28\n",
            "decoding on brain_area CP\n",
            "decoding on brain_area SSp\n",
            "decoding on brain_area MOp\n",
            "found!\n",
            "max diff:  0.04702380952380947\n",
            "decoding_accuracies : 0.5714285714285714\n",
            "correct_score_mouse : 0.6140350877192983 incorrect_score_mouse : 0.38596491228070173\n",
            "session 29\n",
            "decoding on brain_area DG\n",
            "decoding on brain_area VISa\n",
            "decoding on brain_area CL\n",
            "decoding on brain_area LS\n",
            "decoding on brain_area SUB\n",
            "found!\n",
            "max diff:  0.19163602941176472\n",
            "decoding_accuracies : 0.6364889705882353\n",
            "correct_score_mouse : 0.5111111111111111 incorrect_score_mouse : 0.48888888888888893\n",
            "decoding on brain_area PO\n",
            "decoding on brain_area MD\n",
            "decoding on brain_area CA1\n",
            "decoding on brain_area RSP\n",
            "found!\n",
            "max diff:  0.05974264705882354\n",
            "decoding_accuracies : 0.5473345588235294\n",
            "correct_score_mouse : 0.5111111111111111 incorrect_score_mouse : 0.48888888888888893\n",
            "decoding on brain_area MOs\n",
            "decoding on brain_area root\n",
            "found!\n",
            "max diff:  0.1861213235294118\n",
            "decoding_accuracies : 0.6015625\n",
            "correct_score_mouse : 0.5111111111111111 incorrect_score_mouse : 0.48888888888888893\n",
            "decoding on brain_area ACA\n",
            "found!\n",
            "max diff:  0.05284926470588236\n",
            "decoding_accuracies : 0.47380514705882354\n",
            "correct_score_mouse : 0.5111111111111111 incorrect_score_mouse : 0.48888888888888893\n",
            "decoding on brain_area LP\n",
            "decoding on brain_area VPM\n",
            "session 30\n",
            "decoding on brain_area OLF\n",
            "found!\n",
            "max diff:  0.07738095238095244\n",
            "decoding_accuracies : 0.6354166666666667\n",
            "correct_score_mouse : 0.728110599078341 incorrect_score_mouse : 0.27188940092165903\n",
            "decoding on brain_area SNr\n",
            "decoding on brain_area TH\n",
            "decoding on brain_area POST\n",
            "decoding on brain_area ORB\n",
            "decoding on brain_area SCm\n",
            "decoding on brain_area CA3\n",
            "decoding on brain_area MOs\n",
            "session 31\n",
            "decoding on brain_area OLF\n",
            "decoding on brain_area ORB\n",
            "decoding on brain_area SCm\n",
            "decoding on brain_area PAG\n",
            "decoding on brain_area RSP\n",
            "decoding on brain_area MOs\n",
            "decoding on brain_area MRN\n",
            "decoding on brain_area root\n",
            "decoding on brain_area SCs\n",
            "found!\n",
            "max diff:  0.07535282258064524\n",
            "decoding_accuracies : 0.6335685483870968\n",
            "correct_score_mouse : 0.7250996015936255 incorrect_score_mouse : 0.2749003984063745\n",
            "session 32\n",
            "decoding on brain_area SNr\n",
            "decoding on brain_area EP\n",
            "decoding on brain_area CA1\n",
            "decoding on brain_area CA3\n",
            "decoding on brain_area CP\n",
            "decoding on brain_area ZI\n",
            "decoding on brain_area root\n",
            "decoding on brain_area VPM\n",
            "decoding on brain_area LGd\n",
            "session 33\n",
            "decoding on brain_area COA\n",
            "decoding on brain_area RT\n",
            "decoding on brain_area BMA\n",
            "decoding on brain_area PO\n",
            "decoding on brain_area LP\n",
            "decoding on brain_area root\n",
            "decoding on brain_area MB\n",
            "session 34\n",
            "decoding on brain_area DG\n",
            "decoding on brain_area TH\n",
            "decoding on brain_area LS\n",
            "decoding on brain_area LH\n",
            "decoding on brain_area MD\n",
            "found!\n",
            "max diff:  0.0848348348348349\n",
            "decoding_accuracies : 0.7042980480480481\n",
            "correct_score_mouse : 0.7938144329896907 incorrect_score_mouse : 0.20618556701030932\n",
            "decoding on brain_area CA1\n",
            "decoding on brain_area RSP\n",
            "decoding on brain_area VISam\n",
            "decoding on brain_area MOs\n",
            "decoding on brain_area root\n",
            "decoding on brain_area ACA\n",
            "decoding on brain_area LP\n",
            "decoding on brain_area LGd\n",
            "session 35\n",
            "decoding on brain_area PL\n",
            "decoding on brain_area CA\n",
            "decoding on brain_area SCm\n",
            "decoding on brain_area VISam\n",
            "decoding on brain_area SCsg\n",
            "decoding on brain_area MRN\n",
            "decoding on brain_area MOs\n",
            "decoding on brain_area root\n",
            "session 36\n",
            "decoding on brain_area ORB\n",
            "decoding on brain_area SCm\n",
            "found!\n",
            "max diff:  0.08363095238095242\n",
            "decoding_accuracies : 0.6949404761904763\n",
            "correct_score_mouse : 0.7664670658682635 incorrect_score_mouse : 0.23353293413173648\n",
            "decoding on brain_area PAG\n",
            "decoding on brain_area RSP\n",
            "decoding on brain_area VISam\n",
            "decoding on brain_area MOs\n",
            "decoding on brain_area root\n",
            "decoding on brain_area SCs\n",
            "decoding on brain_area MB\n",
            "session 37\n",
            "decoding on brain_area SNr\n",
            "decoding on brain_area CA3\n",
            "decoding on brain_area GPe\n",
            "decoding on brain_area BLA\n",
            "found!\n",
            "max diff:  0.18229166666666663\n",
            "decoding_accuracies : 0.59375\n",
            "correct_score_mouse : 0.6666666666666666 incorrect_score_mouse : 0.33333333333333337\n",
            "decoding on brain_area root\n",
            "found!\n",
            "max diff:  0.04166666666666663\n",
            "decoding_accuracies : 0.59375\n",
            "correct_score_mouse : 0.6666666666666666 incorrect_score_mouse : 0.33333333333333337\n",
            "decoding on brain_area LGd\n",
            "found!\n",
            "max diff:  0.08333333333333326\n",
            "decoding_accuracies : 0.5677083333333333\n",
            "correct_score_mouse : 0.6666666666666666 incorrect_score_mouse : 0.33333333333333337\n",
            "session 38\n",
            "decoding on brain_area DG\n",
            "decoding on brain_area PL\n",
            "decoding on brain_area SUB\n",
            "decoding on brain_area CA1\n",
            "decoding on brain_area VISam\n",
            "decoding on brain_area MOs\n",
            "decoding on brain_area ILA\n",
            "decoding on brain_area root\n",
            "found!\n",
            "max diff:  0.04353543743078614\n",
            "decoding_accuracies : 0.5831949058693244\n",
            "correct_score_mouse : 0.717201166180758 incorrect_score_mouse : 0.282798833819242\n",
            "decoding on brain_area ACA\n",
            "decoding on brain_area VISp\n",
            "decoding on brain_area LP\n"
          ],
          "name": "stdout"
        }
      ]
    },
    {
      "cell_type": "markdown",
      "metadata": {
        "id": "XV_Jq-uvFd5H",
        "colab_type": "text"
      },
      "source": [
        "## Decode from principal components over the neurons (averaged over prestimulus period) on each possible brain area and sessions"
      ]
    },
    {
      "cell_type": "code",
      "metadata": {
        "id": "oumFLxGnFhQb",
        "colab_type": "code",
        "colab": {
          "base_uri": "https://localhost:8080/",
          "height": 1000
        },
        "outputId": "9440593c-7c97-4af4-da59-285538f36d35"
      },
      "source": [
        "window = slice(0, 50, 1)\n",
        "thresh_print = 0.06\n",
        "n_components = .9\n",
        "penalty = 'none'\n",
        "for i_session in range(n_sessions):\n",
        "  filtered_data_focus = filtered_data[i_session]\n",
        "  outcomes_correct = get_outcomes_correct_with_session(filtered_data_focus)\n",
        "  print(f\"session {i_session}, mouse accuracy:{outcomes_correct.mean() * 100:.1f} %\")\n",
        "  brain_areas = set(filtered_data_focus['brain_area'])\n",
        "  for brain_area in brain_areas:\n",
        "    spikes_per_neuron = get_neurons_spikes_with_session_area_window(filtered_data_focus, brain_area, window)\n",
        "    decoding_accuracy, decoding_accuracy_chance = compute_principal_component_decoding_accuracies(spikes_per_neuron, outcomes_correct, n_components=n_components, penalty=penalty)\n",
        "    decoding_accuracy_diff = decoding_accuracy - decoding_accuracy_chance\n",
        "    if decoding_accuracy_diff > thresh_print:\n",
        "      print(\"found!\")\n",
        "      print(\"brain_area\", brain_area)\n",
        "      print(f\"decoding accuracy {decoding_accuracy*100:.1f}%, chance accuracy: {decoding_accuracy_chance*100:.1f}%, difference: {decoding_accuracy_diff*100:.1f}%\")"
      ],
      "execution_count": 28,
      "outputs": [
        {
          "output_type": "stream",
          "text": [
            "session 0, mouse accuracy:67.8 %\n",
            "session 1, mouse accuracy:65.2 %\n",
            "session 2, mouse accuracy:67.5 %\n",
            "session 3, mouse accuracy:69.0 %\n",
            "session 4, mouse accuracy:67.0 %\n",
            "session 5, mouse accuracy:75.5 %\n",
            "session 6, mouse accuracy:67.4 %\n",
            "session 7, mouse accuracy:65.8 %\n",
            "found!\n",
            "brain_area PO\n",
            "decoding accuracy 74.0%, chance accuracy: 65.4%, difference: 8.6%\n",
            "found!\n",
            "brain_area MOs\n",
            "decoding accuracy 71.9%, chance accuracy: 64.5%, difference: 7.4%\n",
            "session 8, mouse accuracy:70.7 %\n",
            "session 9, mouse accuracy:63.8 %\n",
            "found!\n",
            "brain_area SCm\n",
            "decoding accuracy 69.4%, chance accuracy: 63.3%, difference: 6.1%\n",
            "session 10, mouse accuracy:82.0 %\n",
            "session 11, mouse accuracy:73.3 %\n",
            "session 12, mouse accuracy:80.7 %\n",
            "session 13, mouse accuracy:70.7 %\n",
            "session 14, mouse accuracy:77.3 %\n",
            "session 15, mouse accuracy:72.7 %\n",
            "session 16, mouse accuracy:84.0 %\n",
            "session 17, mouse accuracy:79.5 %\n",
            "session 18, mouse accuracy:61.3 %\n",
            "session 19, mouse accuracy:63.4 %\n",
            "session 20, mouse accuracy:56.8 %\n",
            "found!\n",
            "brain_area SSp\n",
            "decoding accuracy 59.3%, chance accuracy: 47.7%, difference: 11.7%\n",
            "found!\n",
            "brain_area LD\n",
            "decoding accuracy 64.8%, chance accuracy: 51.4%, difference: 13.5%\n",
            "session 21, mouse accuracy:71.6 %\n",
            "session 22, mouse accuracy:69.3 %\n",
            "session 23, mouse accuracy:58.7 %\n",
            "found!\n",
            "brain_area root\n",
            "decoding accuracy 61.2%, chance accuracy: 54.6%, difference: 6.6%\n",
            "found!\n",
            "brain_area MRN\n",
            "decoding accuracy 64.1%, chance accuracy: 55.2%, difference: 8.9%\n",
            "session 24, mouse accuracy:75.9 %\n",
            "session 25, mouse accuracy:75.9 %\n",
            "session 26, mouse accuracy:66.5 %\n",
            "session 27, mouse accuracy:60.6 %\n",
            "found!\n",
            "brain_area VISpm\n",
            "decoding accuracy 64.3%, chance accuracy: 56.9%, difference: 7.4%\n",
            "session 28, mouse accuracy:61.4 %\n",
            "found!\n",
            "brain_area CP\n",
            "decoding accuracy 64.9%, chance accuracy: 52.6%, difference: 12.3%\n",
            "found!\n",
            "brain_area SSp\n",
            "decoding accuracy 64.1%, chance accuracy: 52.5%, difference: 11.6%\n",
            "found!\n",
            "brain_area MOp\n",
            "decoding accuracy 66.7%, chance accuracy: 57.1%, difference: 9.6%\n",
            "session 29, mouse accuracy:51.1 %\n",
            "found!\n",
            "brain_area DG\n",
            "decoding accuracy 48.9%, chance accuracy: 40.7%, difference: 8.1%\n",
            "found!\n",
            "brain_area SUB\n",
            "decoding accuracy 57.0%, chance accuracy: 47.5%, difference: 9.6%\n",
            "found!\n",
            "brain_area PO\n",
            "decoding accuracy 59.9%, chance accuracy: 42.9%, difference: 17.0%\n",
            "found!\n",
            "brain_area CA1\n",
            "decoding accuracy 60.8%, chance accuracy: 38.5%, difference: 22.2%\n",
            "found!\n",
            "brain_area RSP\n",
            "decoding accuracy 48.9%, chance accuracy: 39.3%, difference: 9.6%\n",
            "found!\n",
            "brain_area LP\n",
            "decoding accuracy 58.5%, chance accuracy: 49.7%, difference: 8.9%\n",
            "session 30, mouse accuracy:72.8 %\n",
            "session 31, mouse accuracy:72.5 %\n",
            "session 32, mouse accuracy:69.4 %\n",
            "session 33, mouse accuracy:60.6 %\n",
            "session 34, mouse accuracy:79.4 %\n",
            "session 35, mouse accuracy:75.8 %\n",
            "session 36, mouse accuracy:76.6 %\n",
            "session 37, mouse accuracy:66.7 %\n",
            "session 38, mouse accuracy:71.7 %\n"
          ],
          "name": "stdout"
        }
      ]
    },
    {
      "cell_type": "markdown",
      "metadata": {
        "id": "SVXzQ6CFhnQQ",
        "colab_type": "text"
      },
      "source": [
        "## Fitting the model manually"
      ]
    },
    {
      "cell_type": "code",
      "metadata": {
        "id": "S3oDswOTh3cu",
        "colab_type": "code",
        "colab": {}
      },
      "source": [
        "def compute_accuracy(X, y, model):\n",
        "  \"\"\"Compute accuracy of classifier predictions.\n",
        "  \n",
        "  Args:\n",
        "    X (2D array): Data matrix\n",
        "    y (1D array): Label vector\n",
        "    model (sklearn estimator): Classifier with trained weights.\n",
        "\n",
        "  Returns:\n",
        "    accuracy (float): Proportion of correct predictions.  \n",
        "  \"\"\"\n",
        "\n",
        "\n",
        "  y_pred = model.predict(X)\n",
        "\n",
        "  accuracy = np.count_nonzero(y_pred==y)/len(y)\n",
        "\n",
        "  return accuracy\n",
        "\n",
        "avg_spikes=spikes_focus.mean(axis=0)\n",
        "print(avg_spikes.shape)\n",
        "# outcomes_correct=>label 0 or 1\n",
        "y = outcomes_correct\n",
        "X = avg_spikes\n",
        "\n",
        "# First define the model\n",
        "log_reg = LogisticRegression(penalty=\"none\")\n",
        "#Then fit it to data\n",
        "log_reg.fit(X, y)\n",
        "y_pred = log_reg.predict(X)\n",
        "\n",
        "train_accuracy = compute_accuracy(X, y, log_reg)\n",
        "print(f\"Accuracy on the training data averaging over all neurons considering the whole time period: {train_accuracy:.2%}\")"
      ],
      "execution_count": null,
      "outputs": []
    },
    {
      "cell_type": "code",
      "metadata": {
        "id": "bLiyWaz6ledL",
        "colab_type": "code",
        "colab": {}
      },
      "source": [
        "X = avg_spikes[:, 0:50]\n",
        "log_reg = LogisticRegression(penalty=\"none\")\n",
        "log_reg.fit(X, y)\n",
        "y_pred = log_reg.predict(X)\n",
        "\n",
        "train_accuracy = compute_accuracy(X, y, log_reg)\n",
        "\n",
        "print(f\"Accuracy on the training data averaging over all neurons considering the prestimulus period: {train_accuracy:.2%}\")"
      ],
      "execution_count": null,
      "outputs": []
    },
    {
      "cell_type": "code",
      "metadata": {
        "id": "hcJfgkRmmKB6",
        "colab_type": "code",
        "colab": {}
      },
      "source": [
        "# X = spikes_focus[24, :, 0:50]\n",
        "# log_reg = LogisticRegression(penalty=\"none\")\n",
        "# log_reg.fit(X, y)\n",
        "# y_pred = log_reg.predict(X)\n",
        "\n",
        "# train_accuracy = compute_accuracy(X, y, log_reg)\n",
        "\n",
        "# print(f\"Accuracy on the training data with a single neuron considering the prestimulus period: {train_accuracy:.2%}\")"
      ],
      "execution_count": null,
      "outputs": []
    },
    {
      "cell_type": "markdown",
      "metadata": {
        "id": "4Wjqe5YUj2RZ",
        "colab_type": "text"
      },
      "source": [
        "## Decode on average over the neurons and the prestimulus time zone"
      ]
    },
    {
      "cell_type": "code",
      "metadata": {
        "id": "Dbe-VtKNigVu",
        "colab_type": "code",
        "colab": {}
      },
      "source": [
        "avg_neurones_prestimulus=spikes_focus[:,:,:50].mean(axis=2)\n",
        "y = outcomes_correct\n",
        "X = avg_neurones_prestimulus.T\n",
        "scores = cross_val_score(LogisticRegression(penalty='l2'), X, y, cv=8) # k=8 crossvalidation\n",
        "scores.mean()"
      ],
      "execution_count": null,
      "outputs": []
    },
    {
      "cell_type": "code",
      "metadata": {
        "id": "onxxvM4Khvlm",
        "colab_type": "code",
        "colab": {}
      },
      "source": [
        "X_random=avg_neurones_prestimulus.T.copy()\n",
        "np.random.shuffle(X_random)\n",
        "chance_decoding_accuracy = cross_val_score(LogisticRegression(penalty='l2'),X_random, y, cv=8).mean() # k=8 crossvalidation\n",
        "chance_decoding_accuracy"
      ],
      "execution_count": null,
      "outputs": []
    },
    {
      "cell_type": "code",
      "metadata": {
        "id": "7QlOKgLtiWzd",
        "colab_type": "code",
        "colab": {}
      },
      "source": [
        "print(\"X.shape\", X.shape)"
      ],
      "execution_count": null,
      "outputs": []
    },
    {
      "cell_type": "code",
      "metadata": {
        "id": "TPf-UVS4kJjn",
        "colab_type": "code",
        "colab": {}
      },
      "source": [
        "# Iterate over single neurons\n",
        "n_neurons = avg_neurones_prestimulus.shape[0]\n",
        "mean_decoding_accuracies = np.empty(n_neurons)\n",
        "for i_neuron in range(n_neurons):\n",
        "  X = avg_neurones_prestimulus[i_neuron, :][:, None]\n",
        "  mean_decoding_accuracies[i_neuron] = cross_val_score(LogisticRegression(penalty='none'), X, y, cv=8).mean()\n",
        "plt.hist(mean_decoding_accuracies)\n",
        "print(mean_decoding_accuracies)\n",
        "print(mean_decoding_accuracies.max())"
      ],
      "execution_count": null,
      "outputs": []
    },
    {
      "cell_type": "markdown",
      "metadata": {
        "id": "UHRuFeggXVRU",
        "colab_type": "text"
      },
      "source": [
        "## Decode from all the neurons, over the prestimulus time zone"
      ]
    },
    {
      "cell_type": "code",
      "metadata": {
        "id": "rqpyj8ezkVkF",
        "colab_type": "code",
        "colab": {}
      },
      "source": [
        "#(275, 414, 250) =>(414,275*250)\n",
        "X_all=[]\n",
        "\n",
        "y = outcomes_correct\n",
        "\n",
        "for i in range(len(spikes_focus[:,:,:50][0])):\n",
        "  all_neuron_over_time_by_trial=[]\n",
        "  for j in range(len(spikes_focus[:,:,:50])):\n",
        "    \n",
        "    for k in spikes_focus[:,:,:50][j][i]:\n",
        "      all_neuron_over_time_by_trial.append(k)\n",
        "  X_all.append(all_neuron_over_time_by_trial)\n",
        "\n",
        "X_all=np.array(X_all)\n",
        "X_all.shape"
      ],
      "execution_count": null,
      "outputs": []
    },
    {
      "cell_type": "code",
      "metadata": {
        "id": "lAwzi7y8SCfb",
        "colab_type": "code",
        "colab": {}
      },
      "source": [
        "cross_val_score(LogisticRegression(penalty='l2'), X_all, y, cv=8) # k=8 crossvalidation"
      ],
      "execution_count": null,
      "outputs": []
    },
    {
      "cell_type": "markdown",
      "metadata": {
        "id": "ESZ-j0YydZGG",
        "colab_type": "text"
      },
      "source": [
        "# look for active neurons"
      ]
    },
    {
      "cell_type": "code",
      "metadata": {
        "id": "NuDsNnmnVKCI",
        "colab_type": "code",
        "colab": {}
      },
      "source": [
        "count=0\n",
        "active_trial=np.zeros(len(spikes_focus))\n",
        "for i in range(len(spikes_focus)):\n",
        "  count=0\n",
        "  for j in range(len(spikes_focus[0,:,0])):\n",
        "    if spikes_focus[i,j,:].sum()<5:\n",
        "      count+=1\n",
        "  active_trial[i]=len(spikes_focus[0,:,0])-count\n",
        "  #print(count,'/',j+1)\n",
        "print(np.count_nonzero(active_trial>20))"
      ],
      "execution_count": null,
      "outputs": []
    },
    {
      "cell_type": "code",
      "metadata": {
        "id": "kWdMqLppS7Ou",
        "colab_type": "code",
        "cellView": "form",
        "colab": {}
      },
      "source": [
        "#@title Show some spikes data\n",
        "_=plt.eventplot(spikes_focus[20:30,2,:])\n",
        "spikes_focus[25:26,2,:]"
      ],
      "execution_count": null,
      "outputs": []
    }
  ]
}