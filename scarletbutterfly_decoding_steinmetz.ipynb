{
  "nbformat": 4,
  "nbformat_minor": 0,
  "metadata": {
    "colab": {
      "name": "scarletbutterfly_decoding_steinmetz.ipynb",
      "provenance": [],
      "collapsed_sections": [],
      "include_colab_link": true
    },
    "kernelspec": {
      "name": "python3",
      "display_name": "Python 3"
    }
  },
  "cells": [
    {
      "cell_type": "markdown",
      "metadata": {
        "id": "view-in-github",
        "colab_type": "text"
      },
      "source": [
        "<a href=\"https://colab.research.google.com/github/cedricfoucault/scarletbutterfly/blob/master/scarletbutterfly_decoding_steinmetz.ipynb\" target=\"_parent\"><img src=\"https://colab.research.google.com/assets/colab-badge.svg\" alt=\"Open In Colab\"/></a>"
      ]
    },
    {
      "cell_type": "markdown",
      "metadata": {
        "id": "bEqdz1ZUMaj1",
        "colab_type": "text"
      },
      "source": [
        "## Loading of Steinmetz data"
      ]
    },
    {
      "cell_type": "code",
      "metadata": {
        "id": "TLWjKq8bLDqm",
        "colab_type": "code",
        "cellView": "both",
        "colab": {}
      },
      "source": [
        "#@title Data retrieval\n",
        "import os, requests\n",
        "\n",
        "fname = []\n",
        "for j in range(3):\n",
        "  fname.append('steinmetz_part%d.npz'%j)\n",
        "url = [\"https://osf.io/agvxh/download\"]\n",
        "url.append(\"https://osf.io/uv3mw/download\")\n",
        "url.append(\"https://osf.io/ehmw2/download\")\n",
        "\n",
        "for j in range(len(url)):\n",
        "  if not os.path.isfile(fname[j]):\n",
        "    try:\n",
        "      r = requests.get(url[j])\n",
        "    except requests.ConnectionError:\n",
        "      print(\"!!! Failed to download data !!!\")\n",
        "    else:\n",
        "      if r.status_code != requests.codes.ok:\n",
        "        print(\"!!! Failed to download data !!!\")\n",
        "      else:\n",
        "        with open(fname[j], \"wb\") as fid:\n",
        "          fid.write(r.content)\n"
      ],
      "execution_count": 7,
      "outputs": []
    },
    {
      "cell_type": "code",
      "metadata": {
        "id": "sffzC_hyLgWZ",
        "colab_type": "code",
        "cellView": "code",
        "colab": {
          "base_uri": "https://localhost:8080/",
          "height": 34
        },
        "outputId": "bd71e687-d2c9-4d1f-b6a8-0e9f049e7009"
      },
      "source": [
        "#@title Data loading\n",
        "import numpy as np\n",
        "\n",
        "alldat = np.array([])\n",
        "for j in range(len(fname)):\n",
        "  alldat = np.hstack((alldat, np.load('steinmetz_part%d.npz'%j, allow_pickle=True)['dat']))\n",
        "\n",
        "n_sessions = len(alldat)\n",
        "print(\"n_sessions\", n_sessions)"
      ],
      "execution_count": 19,
      "outputs": [
        {
          "output_type": "stream",
          "text": [
            "n_sessions 39\n"
          ],
          "name": "stdout"
        }
      ]
    },
    {
      "cell_type": "code",
      "metadata": {
        "id": "PPbrPguKDaYG",
        "colab_type": "code",
        "colab": {
          "base_uri": "https://localhost:8080/",
          "height": 34
        },
        "outputId": "b4970805-2d5d-4ea4-d939-df9b96ae4f93"
      },
      "source": [
        "print(alldat[0].keys())"
      ],
      "execution_count": 18,
      "outputs": [
        {
          "output_type": "stream",
          "text": [
            "dict_keys(['spks', 'pupil', 'lfp', 'response', 'contrast_right', 'contrast_left', 'brain_area', 'brain_area_lfp', 'mouse_name'])\n"
          ],
          "name": "stdout"
        }
      ]
    },
    {
      "cell_type": "code",
      "metadata": {
        "id": "NwLpbX-QTCkh",
        "colab_type": "code",
        "cellView": "code",
        "colab": {}
      },
      "source": [
        "#@title Filter Trial Data\n",
        "import copy\n",
        "filtered_data = copy.deepcopy(alldat)\n",
        "\n",
        "bin_size = alldat[0]['bin_size']\n",
        "stim_onset = alldat[0]['stim_onset']\n",
        "for i in range(len(alldat)):\n",
        "  assert bin_size == alldat[i]['bin_size'], \"inconsistent bin size\"\n",
        "  assert stim_onset == alldat[i]['stim_onset'], \"inconsistent stim onset\"\n",
        "\n",
        "# Filter only the keys we are going to use\n",
        "used_keys = ['spks', 'pupil', 'lfp', 'response', 'contrast_right', 'contrast_left', 'brain_area', 'brain_area_lfp', 'mouse_name']\n",
        "for i_session in range(n_sessions):\n",
        "  filtered_data[i_session] = { key: filtered_data[i_session][key] for key in used_keys }\n",
        "\n",
        "\n",
        "# # Eliminate trials where contrast is > 0 and equal on both sides\n",
        "array_keys = ['spks', 'pupil','lfp', 'response', 'contrast_right', 'contrast_left']\n",
        "\n",
        "\n",
        "\n",
        "for i_session in range(n_sessions):\n",
        "  session_data = filtered_data[i_session]\n",
        "  equal_contrast = session_data['contrast_right'] == session_data['contrast_left']\n",
        "  positive_contrast_right = session_data['contrast_right'] > 0\n",
        "  should_filter = equal_contrast & positive_contrast_right\n",
        "\n",
        "  session_data['spks'] = session_data['spks'][:,~should_filter,:]\n",
        "  session_data['pupil'] = session_data['pupil'][:,~should_filter,:]\n",
        "  session_data['lfp'] = session_data['lfp'][:,~should_filter,:]\n",
        "\n",
        "  session_data['response'] = session_data['response'][~should_filter]\n",
        "  session_data['contrast_right'] = session_data['contrast_right'][~should_filter]\n",
        "  session_data['contrast_left'] = session_data['contrast_left'][~should_filter]\n",
        "\n",
        "  # for key, value in session_data.items():\n",
        "  #   if key in array_keys:\n",
        "  #     print(\"key\", key)\n",
        "  #     print(\"array.shape\", value.shape)\n",
        "  # new_session_data = { key: array[~should_filter] for key, array in session_data.items() }\n",
        "  # filtered_data[i_session] = new_session_data\n",
        "  # print(\"session:\", i_session)\n",
        "  # print(\"original data, contrast_right:\", session_data['contrast_right'])\n",
        "  # print(\"filtered data, contrast_right:\", new_session_data['contrast_right'])\n",
        "\n",
        "\n",
        "\n",
        "\n"
      ],
      "execution_count": 47,
      "outputs": []
    },
    {
      "cell_type": "code",
      "metadata": {
        "id": "Hmx-v-WaREWU",
        "colab_type": "code",
        "colab": {
          "base_uri": "https://localhost:8080/",
          "height": 54
        },
        "outputId": "412eeaeb-78ac-4caf-cfa4-52dc78d81f53"
      },
      "source": [
        "#Extracting brain areas:\n",
        "brain_areas = set()\n",
        "\n",
        "for i in range(n_sessions):\n",
        "  brain_areas.update(filtered_data[i]['brain_area'])\n",
        "\n",
        "\n",
        "#Let's focus on subcortical brain areas as they appear to experience a spike \n",
        "#Basal ganglia, midbrain\n",
        "basal_ganglia = [\"ACB\", \"CP\", \"GPe\", \"LS\", \"LSc\", \"LSr\", \"MS\", \"OT\", \"SNr\", \"SI\"]\n",
        "midbrain = [\"APN\", \"IC\", \"MB\", \"MRN\", \"NB\", \"PAG\", \"RN\", \"SCs\", \"SCm\", \"SCig\", \"SCsg\", \"ZI\"]\n",
        "\n",
        "count_dict = {area:0 for area in brain_areas}\n",
        "\n",
        "for i in range(n_sessions):\n",
        "  for area in set(filtered_data[i]['brain_area']):\n",
        "      count_dict[area] += 1\n",
        "\n",
        "print(count_dict)"
      ],
      "execution_count": 48,
      "outputs": [
        {
          "output_type": "stream",
          "text": [
            "{'MG': 2, 'MOp': 3, 'ACA': 11, 'PO': 5, 'COA': 1, 'SI': 1, 'VAL': 1, 'EPd': 1, 'EP': 1, 'LSr': 4, 'TT': 4, 'IC': 1, 'SCm': 7, 'MRN': 11, 'VISam': 11, 'RT': 2, 'PL': 10, 'ILA': 3, 'ORB': 5, 'SUB': 9, 'LS': 3, 'SPF': 2, 'MB': 6, 'CA2': 1, 'PT': 1, 'SCs': 4, 'DG': 16, 'BMA': 1, 'AUD': 1, 'POL': 3, 'CA3': 10, 'GPe': 3, 'TH': 8, 'MOs': 18, 'LSc': 1, 'POST': 4, 'LP': 11, 'OT': 1, 'OLF': 3, 'SCsg': 6, 'PAG': 3, 'ACB': 3, 'DP': 1, 'CA': 1, 'MD': 3, 'SNr': 4, 'LGd': 10, 'LD': 6, 'root': 34, 'PIR': 1, 'SSp': 5, 'VISl': 3, 'CP': 5, 'CL': 1, 'APN': 2, 'SSs': 1, 'SCig': 4, 'VISpm': 4, 'VISp': 12, 'VPM': 4, 'ORBm': 1, 'VISrl': 2, 'LH': 2, 'ZI': 4, 'RN': 1, 'MEA': 1, 'CA1': 21, 'VISa': 5, 'RSP': 9, 'BLA': 2, 'NB': 1, 'VPL': 4, 'MS': 1}\n"
          ],
          "name": "stdout"
        }
      ]
    },
    {
      "cell_type": "code",
      "metadata": {
        "id": "JYhiUDTi1uAZ",
        "colab_type": "code",
        "colab": {}
      },
      "source": [
        "# groupings of brain regions\n",
        "regions = [\"vis ctx\", \"thal\", \"hipp\", \"other ctx\", \"midbrain\", \"basal ganglia\", \"cortical subplate\", \"other\"]\n",
        "brain_groups = [[\"VISa\", \"VISam\", \"VISl\", \"VISp\", \"VISpm\", \"VISrl\"], # visual cortex\n",
        "                [\"CL\", \"LD\", \"LGd\", \"LH\", \"LP\", \"MD\", \"MG\", \"PO\", \"POL\", \"PT\", \"RT\", \"SPF\", \"TH\", \"VAL\", \"VPL\", \"VPM\"], # thalamus\n",
        "                [\"CA\", \"CA1\", \"CA2\", \"CA3\", \"DG\", \"SUB\", \"POST\"], # hippocampal\n",
        "                [\"ACA\", \"AUD\", \"COA\", \"DP\", \"ILA\", \"MOp\", \"MOs\", \"OLF\", \"ORB\", \"ORBm\", \"PIR\", \"PL\", \"SSp\", \"SSs\", \"RSP\",\" TT\"], # non-visual cortex\n",
        "                [\"APN\", \"IC\", \"MB\", \"MRN\", \"NB\", \"PAG\", \"RN\", \"SCs\", \"SCm\", \"SCig\", \"SCsg\", \"ZI\"], # midbrain\n",
        "                [\"ACB\", \"CP\", \"GPe\", \"LS\", \"LSc\", \"LSr\", \"MS\", \"OT\", \"SNr\", \"SI\"], # basal ganglia \n",
        "                [\"BLA\", \"BMA\", \"EP\", \"EPd\", \"MEA\"] # cortical subplate\n",
        "                ]\n",
        "\n",
        "nareas = 4 # only the top 4 regions are in this particular mouse\n",
        "NN = len(filtered_data['brain_area']) # number of neurons\n",
        "barea = nareas * np.ones(NN, ) # last one is \"other\"\n",
        "for j in range(nareas):\n",
        "  barea[np.isin(filtered_data['brain_area'], brain_groups[j])] = j # assign a number to each region"
      ],
      "execution_count": null,
      "outputs": []
    },
    {
      "cell_type": "code",
      "metadata": {
        "id": "tYvniQkQbiuJ",
        "colab_type": "code",
        "colab": {}
      },
      "source": [
        "import matplotlib.pyplot as plt\n",
        "for i in range(n_sessions):\n",
        "  plt.hist(filtered_data[i]['brain_area'])\n",
        "  plt.show()"
      ],
      "execution_count": null,
      "outputs": []
    },
    {
      "cell_type": "code",
      "metadata": {
        "id": "RMSd42MRZzSN",
        "colab_type": "code",
        "colab": {
          "base_uri": "https://localhost:8080/",
          "height": 298
        },
        "outputId": "8eb61f26-45c4-4477-b2c0-648844ceda58"
      },
      "source": [
        "#Histogram of number of trails throughout the sessions\n",
        "n_trials_session = np.zeros(n_sessions)\n",
        "for i in range(n_sessions):\n",
        "  n_trials_session[i] = len(filtered_data[i]['response'])\n",
        "\n",
        "plt.hist(n_trials_session)\n",
        "print(n_trials_session.mean())\n",
        "\n",
        "i_session_max_trials = np.argmax(n_trials_session)\n",
        "print(i_session_max_trials, n_trials_session[i_session_max_trials])"
      ],
      "execution_count": 50,
      "outputs": [
        {
          "output_type": "stream",
          "text": [
            "240.46153846153845\n",
            "9 414.0\n"
          ],
          "name": "stdout"
        },
        {
          "output_type": "display_data",
          "data": {
            "image/png": "[encoded data removed]",
            "text/plain": [
              "<Figure size 432x288 with 1 Axes>"
            ]
          },
          "metadata": {
            "tags": [],
            "needs_background": "light"
          }
        }
      ]
    },
    {
      "cell_type": "code",
      "metadata": {
        "id": "0WVYB2_wWlTR",
        "colab_type": "code",
        "colab": {
          "base_uri": "https://localhost:8080/",
          "height": 265
        },
        "outputId": "dc7bec92-db8d-418f-aac9-44943f0e5f82"
      },
      "source": [
        "plt.hist(filtered_data[i_session_max_trials]['brain_area'])\n",
        "plt.show()"
      ],
      "execution_count": 51,
      "outputs": [
        {
          "output_type": "display_data",
          "data": {
            "image/png": "[encoded data removed]",
            "text/plain": [
              "<Figure size 432x288 with 1 Axes>"
            ]
          },
          "metadata": {
            "tags": [],
            "needs_background": "light"
          }
        }
      ]
    },
    {
      "cell_type": "markdown",
      "metadata": {
        "id": "64kTOMfScNfn",
        "colab_type": "text"
      },
      "source": [
        "We'll focus on the session i_session_max_trials, which has the most trials and analyze the activity in the brain areas recorded during this session to try to predict the mouse's response during the trials."
      ]
    },
    {
      "cell_type": "code",
      "metadata": {
        "id": "De65-UVyTQfC",
        "colab_type": "code",
        "colab": {
          "base_uri": "https://localhost:8080/",
          "height": 34
        },
        "outputId": "0589ad9f-ef85-434a-b283-319151a34162"
      },
      "source": [
        "#@title Retrieve correct (1) or incorrect (0) outcome\n",
        "i_focus = i_session_max_trials\n",
        "filtered_data_focus = copy.deepcopy(filtered_data[i_focus])\n",
        "\n",
        "response = filtered_data_focus['response'] # right - nogo - left (-1, 0, 1)\n",
        "vis_right = filtered_data_focus['contrast_right'] # 0 - low - high\n",
        "vis_left = filtered_data_focus['contrast_left'] # 0 - low - high\n",
        "\n",
        "# -1 : right stimulus > left stimulus\n",
        "# 0: nogo trial\n",
        "# 1: left stimulus > right stimulus\n",
        "correct_response = np.sign(vis_left-vis_right) \n",
        "\n",
        "is_correct = response == correct_response\n",
        "\n",
        "print(is_correct.mean())"
      ],
      "execution_count": 58,
      "outputs": [
        {
          "output_type": "stream",
          "text": [
            "0.6376811594202898\n"
          ],
          "name": "stdout"
        }
      ]
    }
  ]
}