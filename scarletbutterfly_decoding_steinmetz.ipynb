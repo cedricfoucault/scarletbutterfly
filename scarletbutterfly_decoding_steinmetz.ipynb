{
  "nbformat": 4,
  "nbformat_minor": 0,
  "metadata": {
    "colab": {
      "name": "scarletbutterfly_decoding_steinmetz.ipynb",
      "provenance": [],
      "collapsed_sections": [
        "tM6a9kQTvmwi",
        "VDByOJobvp_D",
        "SVXzQ6CFhnQQ",
        "4Wjqe5YUj2RZ",
        "UHRuFeggXVRU",
        "ESZ-j0YydZGG"
      ],
      "include_colab_link": true
    },
    "kernelspec": {
      "name": "python3",
      "display_name": "Python 3"
    }
  },
  "cells": [
    {
      "cell_type": "markdown",
      "metadata": {
        "id": "view-in-github",
        "colab_type": "text"
      },
      "source": [
        "<a href=\"https://colab.research.google.com/github/cedricfoucault/scarletbutterfly/blob/master/scarletbutterfly_decoding_steinmetz.ipynb\" target=\"_parent\"><img src=\"https://colab.research.google.com/assets/colab-badge.svg\" alt=\"Open In Colab\"/></a>"
      ]
    },
    {
      "cell_type": "markdown",
      "metadata": {
        "id": "bEqdz1ZUMaj1",
        "colab_type": "text"
      },
      "source": [
        "## Loading of Steinmetz data"
      ]
    },
    {
      "cell_type": "code",
      "metadata": {
        "id": "TLWjKq8bLDqm",
        "colab_type": "code",
        "cellView": "both",
        "colab": {}
      },
      "source": [
        "#@title Data retrieval\n",
        "import os, requests\n",
        "import matplotlib.pyplot as plt\n",
        "fname = []\n",
        "for j in range(3):\n",
        "  fname.append('steinmetz_part%d.npz'%j)\n",
        "url = [\"https://osf.io/agvxh/download\"]\n",
        "url.append(\"https://osf.io/uv3mw/download\")\n",
        "url.append(\"https://osf.io/ehmw2/download\")\n",
        "\n",
        "for j in range(len(url)):\n",
        "  if not os.path.isfile(fname[j]):\n",
        "    try:\n",
        "      r = requests.get(url[j])\n",
        "    except requests.ConnectionError:\n",
        "      print(\"!!! Failed to download data !!!\")\n",
        "    else:\n",
        "      if r.status_code != requests.codes.ok:\n",
        "        print(\"!!! Failed to download data !!!\")\n",
        "      else:\n",
        "        with open(fname[j], \"wb\") as fid:\n",
        "          fid.write(r.content)\n"
      ],
      "execution_count": 1,
      "outputs": []
    },
    {
      "cell_type": "code",
      "metadata": {
        "id": "sffzC_hyLgWZ",
        "colab_type": "code",
        "cellView": "code",
        "colab": {
          "base_uri": "https://localhost:8080/",
          "height": 34
        },
        "outputId": "d127645a-ca4e-4856-b9f5-88219e26594a"
      },
      "source": [
        "#@title Data loading\n",
        "import numpy as np\n",
        "\n",
        "alldat = np.array([])\n",
        "for j in range(len(fname)):\n",
        "  alldat = np.hstack((alldat, np.load('steinmetz_part%d.npz'%j, allow_pickle=True)['dat']))\n",
        "\n",
        "n_sessions = len(alldat)\n",
        "print(\"n_sessions\", n_sessions)"
      ],
      "execution_count": 2,
      "outputs": [
        {
          "output_type": "stream",
          "text": [
            "n_sessions 39\n"
          ],
          "name": "stdout"
        }
      ]
    },
    {
      "cell_type": "code",
      "metadata": {
        "id": "PPbrPguKDaYG",
        "colab_type": "code",
        "colab": {
          "base_uri": "https://localhost:8080/",
          "height": 54
        },
        "outputId": "9132658e-69d6-4108-dad2-5d1ac2079a36"
      },
      "source": [
        "print(alldat[0].keys())"
      ],
      "execution_count": 3,
      "outputs": [
        {
          "output_type": "stream",
          "text": [
            "dict_keys(['spks', 'wheel', 'pupil', 'response', 'response_time', 'bin_size', 'stim_onset', 'contrast_right', 'contrast_left', 'brain_area', 'feedback_time', 'feedback_type', 'gocue', 'mouse_name', 'date_exp', 'trough_to_peak', 'active_trials', 'contrast_left_passive', 'contrast_right_passive', 'spks_passive', 'pupil_passive', 'wheel_passive', 'prev_reward', 'ccf', 'ccf_axes', 'cellid_orig', 'reaction_time', 'face', 'face_passive', 'licks', 'licks_passive'])\n"
          ],
          "name": "stdout"
        }
      ]
    },
    {
      "cell_type": "code",
      "metadata": {
        "id": "NwLpbX-QTCkh",
        "colab_type": "code",
        "cellView": "code",
        "colab": {}
      },
      "source": [
        "#@title Filter Trial Data\n",
        "import copy\n",
        "filtered_data = copy.deepcopy(alldat)\n",
        "\n",
        "bin_size = alldat[0]['bin_size']\n",
        "stim_onset = alldat[0]['stim_onset']\n",
        "for i in range(len(alldat)):\n",
        "  assert bin_size == alldat[i]['bin_size'], \"inconsistent bin size\"\n",
        "  assert stim_onset == alldat[i]['stim_onset'], \"inconsistent stim onset\"\n",
        "\n",
        "# Filter only the keys we are going to use\n",
        "# used_keys = ['spks', 'pupil', 'lfp', 'response', 'contrast_right', 'contrast_left', 'brain_area', 'brain_area_lfp', 'mouse_name']\n",
        "used_keys = ['spks', 'pupil', 'response', 'contrast_right', 'contrast_left', 'brain_area', 'mouse_name']\n",
        "for i_session in range(n_sessions):\n",
        "  filtered_data[i_session] = { key: filtered_data[i_session][key] for key in used_keys }\n",
        "\n",
        "\n",
        "# # Eliminate trials where contrast is > 0 and equal on both sides\n",
        "array_keys = ['spks', 'pupil','lfp', 'response', 'contrast_right', 'contrast_left']\n",
        "\n",
        "\n",
        "\n",
        "for i_session in range(n_sessions):\n",
        "  session_data = filtered_data[i_session]\n",
        "  equal_contrast = session_data['contrast_right'] == session_data['contrast_left']\n",
        "  positive_contrast_right = session_data['contrast_right'] > 0\n",
        "  should_filter = equal_contrast & positive_contrast_right\n",
        "\n",
        "  session_data['spks'] = session_data['spks'][:,~should_filter,:]\n",
        "  session_data['pupil'] = session_data['pupil'][:,~should_filter,:]\n",
        "  # session_data['lfp'] = session_data['lfp'][:,~should_filter,:]\n",
        "\n",
        "  session_data['response'] = session_data['response'][~should_filter]\n",
        "  session_data['contrast_right'] = session_data['contrast_right'][~should_filter]\n",
        "  session_data['contrast_left'] = session_data['contrast_left'][~should_filter]\n",
        "\n",
        "  # for key, value in session_data.items():\n",
        "  #   if key in array_keys:\n",
        "  #     print(\"key\", key)\n",
        "  #     print(\"array.shape\", value.shape)\n",
        "  # new_session_data = { key: array[~should_filter] for key, array in session_data.items() }\n",
        "  # filtered_data[i_session] = new_session_data\n",
        "  # print(\"session:\", i_session)\n",
        "  # print(\"original data, contrast_right:\", session_data['contrast_right'])\n",
        "  # print(\"filtered data, contrast_right:\", new_session_data['contrast_right'])\n",
        "\n",
        "\n",
        "\n",
        "\n"
      ],
      "execution_count": 4,
      "outputs": []
    },
    {
      "cell_type": "code",
      "metadata": {
        "id": "Hmx-v-WaREWU",
        "colab_type": "code",
        "colab": {
          "base_uri": "https://localhost:8080/",
          "height": 54
        },
        "outputId": "b0a45e0c-04c0-46ed-fdf6-0ff2d756e9b2"
      },
      "source": [
        "#Extracting brain areas:\n",
        "brain_areas = set()\n",
        "\n",
        "for i in range(n_sessions):\n",
        "  brain_areas.update(filtered_data[i]['brain_area'])\n",
        "\n",
        "\n",
        "#Let's focus on subcortical brain areas as they appear to experience a spike \n",
        "#Basal ganglia, midbrain\n",
        "basal_ganglia = [\"ACB\", \"CP\", \"GPe\", \"LS\", \"LSc\", \"LSr\", \"MS\", \"OT\", \"SNr\", \"SI\"]\n",
        "midbrain = [\"APN\", \"IC\", \"MB\", \"MRN\", \"NB\", \"PAG\", \"RN\", \"SCs\", \"SCm\", \"SCig\", \"SCsg\", \"ZI\"]\n",
        "\n",
        "count_dict = {area:0 for area in brain_areas}\n",
        "\n",
        "for i in range(n_sessions):\n",
        "  for area in set(filtered_data[i]['brain_area']):\n",
        "      count_dict[area] += 1\n",
        "\n",
        "print(count_dict)\n",
        "areas = list(count_dict.keys())\n",
        "count_sessions_per_areas = np.array(list(count_dict.values()))\n",
        "sorted_indices = np.argsort(count_sessions_per_areas)\n",
        "areas = [ areas[i] for i in sorted_indices ]\n",
        "count_sessions_per_areas = count_sessions_per_areas[sorted_indices]\n",
        "y_bars = np.arange(len(areas))\n",
        "# fig = plt.figure(figsize=(5., len(y_bars) / 4))\n",
        "# ax = fig.gca()\n",
        "# ax.barh(y_bars, count_sessions_per_areas)\n",
        "# ax.set_yticks(y_bars)\n",
        "# ax.set_yticklabels(areas)\n",
        "# plt.show()"
      ],
      "execution_count": 5,
      "outputs": [
        {
          "output_type": "stream",
          "text": [
            "{'VAL': 1, 'EPd': 1, 'LP': 11, 'RT': 2, 'ORBm': 1, 'PO': 5, 'DG': 16, 'PAG': 3, 'MOp': 3, 'SCs': 4, 'BLA': 2, 'PL': 10, 'CL': 1, 'IC': 1, 'LSc': 1, 'SUB': 9, 'VISpm': 4, 'POST': 4, 'SI': 1, 'VISa': 5, 'LSr': 4, 'CA2': 1, 'PT': 1, 'VPL': 4, 'SSs': 1, 'EP': 1, 'MEA': 1, 'APN': 2, 'POL': 3, 'MS': 1, 'SNr': 4, 'RN': 1, 'TT': 4, 'SSp': 5, 'PIR': 1, 'ILA': 3, 'BMA': 1, 'SCig': 4, 'SCm': 7, 'CA3': 10, 'MD': 3, 'CA1': 21, 'SPF': 2, 'OLF': 3, 'MG': 2, 'VISl': 3, 'CP': 5, 'VISam': 11, 'OT': 1, 'ACB': 3, 'DP': 1, 'ZI': 4, 'CA': 1, 'MOs': 18, 'ACA': 11, 'TH': 8, 'NB': 1, 'LGd': 10, 'GPe': 3, 'LS': 3, 'SCsg': 6, 'RSP': 9, 'root': 34, 'VISrl': 2, 'LH': 2, 'COA': 1, 'AUD': 1, 'MRN': 11, 'LD': 6, 'VISp': 12, 'ORB': 5, 'MB': 6, 'VPM': 4}\n"
          ],
          "name": "stdout"
        }
      ]
    },
    {
      "cell_type": "code",
      "metadata": {
        "id": "JYhiUDTi1uAZ",
        "colab_type": "code",
        "colab": {}
      },
      "source": [
        "# groupings of brain regions\n",
        "regions = [\"vis ctx\", \"thal\", \"hipp\", \"other ctx\", \"midbrain\", \"basal ganglia\", \"cortical subplate\", \"other\"]\n",
        "brain_groups = [[\"VISa\", \"VISam\", \"VISl\", \"VISp\", \"VISpm\", \"VISrl\"], # visual cortex\n",
        "                [\"CL\", \"LD\", \"LGd\", \"LH\", \"LP\", \"MD\", \"MG\", \"PO\", \"POL\", \"PT\", \"RT\", \"SPF\", \"TH\", \"VAL\", \"VPL\", \"VPM\"], # thalamus\n",
        "                [\"CA\", \"CA1\", \"CA2\", \"CA3\", \"DG\", \"SUB\", \"POST\"], # hippocampal\n",
        "                [\"ACA\", \"AUD\", \"COA\", \"DP\", \"ILA\", \"MOp\", \"MOs\", \"OLF\", \"ORB\", \"ORBm\", \"PIR\", \"PL\", \"SSp\", \"SSs\", \"RSP\",\" TT\"], # non-visual cortex\n",
        "                [\"APN\", \"IC\", \"MB\", \"MRN\", \"NB\", \"PAG\", \"RN\", \"SCs\", \"SCm\", \"SCig\", \"SCsg\", \"ZI\"], # midbrain\n",
        "                [\"ACB\", \"CP\", \"GPe\", \"LS\", \"LSc\", \"LSr\", \"MS\", \"OT\", \"SNr\", \"SI\"], # basal ganglia \n",
        "                [\"BLA\", \"BMA\", \"EP\", \"EPd\", \"MEA\"] # cortical subplate\n",
        "                ]"
      ],
      "execution_count": 6,
      "outputs": []
    },
    {
      "cell_type": "code",
      "metadata": {
        "id": "tYvniQkQbiuJ",
        "colab_type": "code",
        "colab": {}
      },
      "source": [
        "# Histograms of num. of neurons by brain area for each session\n",
        "# for i in range(n_sessions):\n",
        "#   plt.hist(filtered_data[i]['brain_area'])\n",
        "#   plt.show()"
      ],
      "execution_count": 7,
      "outputs": []
    },
    {
      "cell_type": "code",
      "metadata": {
        "id": "kM-5j4C5PS4z",
        "colab_type": "code",
        "colab": {}
      },
      "source": [
        "# Calculate number of trials per session\n",
        "n_trials_session = np.zeros(n_sessions)\n",
        "for i in range(n_sessions):\n",
        "  n_trials_session[i] = len(filtered_data[i]['response'])"
      ],
      "execution_count": 32,
      "outputs": []
    },
    {
      "cell_type": "code",
      "metadata": {
        "id": "RMSd42MRZzSN",
        "colab_type": "code",
        "colab": {},
        "cellView": "both"
      },
      "source": [
        "#@title Histogram of number of trials throughout the sessions\n",
        "# Histogram of number of trials throughout the sessions\n",
        "plt.hist(n_trials_session)\n",
        "print(n_trials_session.mean())"
      ],
      "execution_count": null,
      "outputs": []
    },
    {
      "cell_type": "code",
      "metadata": {
        "id": "8VVdYH7VPKD1",
        "colab_type": "code",
        "colab": {}
      },
      "source": [
        "# Select one session\n",
        "i_session_max_trials = np.argmax(n_trials_session)\n",
        "print(i_session_max_trials, n_trials_session[i_session_max_trials])"
      ],
      "execution_count": null,
      "outputs": []
    },
    {
      "cell_type": "markdown",
      "metadata": {
        "id": "64kTOMfScNfn",
        "colab_type": "text"
      },
      "source": [
        "We'll focus on the session i_session_max_trials, which has the most trials and analyze the activity in the brain areas recorded during this session to try to predict the mouse's response during the trials."
      ]
    },
    {
      "cell_type": "code",
      "metadata": {
        "id": "0WVYB2_wWlTR",
        "colab_type": "code",
        "colab": {
          "base_uri": "https://localhost:8080/",
          "height": 282
        },
        "cellView": "form",
        "outputId": "58a477b7-3130-4552-ca0d-8f85412960f1"
      },
      "source": [
        "#@title Histogram of num of neurons per brain area for the selected session \n",
        "plt.hist(filtered_data[i_session_max_trials]['brain_area'],bins=13)\n",
        "plt.show()\n",
        "np.count_nonzero(filtered_data[i_session_max_trials]['brain_area']=='MB')"
      ],
      "execution_count": 9,
      "outputs": [
        {
          "output_type": "display_data",
          "data": {
            "image/png": "[encoded data removed]",
            "text/plain": [
              "<Figure size 432x288 with 1 Axes>"
            ]
          },
          "metadata": {
            "tags": [],
            "needs_background": "light"
          }
        },
        {
          "output_type": "execute_result",
          "data": {
            "text/plain": [
              "275"
            ]
          },
          "metadata": {
            "tags": []
          },
          "execution_count": 9
        }
      ]
    },
    {
      "cell_type": "markdown",
      "metadata": {
        "id": "tM6a9kQTvmwi",
        "colab_type": "text"
      },
      "source": [
        "## Helper functions for retrieving data"
      ]
    },
    {
      "cell_type": "code",
      "metadata": {
        "id": "CLbA_yMUj_Pz",
        "colab_type": "code",
        "colab": {}
      },
      "source": [
        "def get_outcomes_correct_with_session(session_data):\n",
        "  response = session_data['response'] # right - nogo - left (-1, 0, 1)\n",
        "  vis_right = session_data['contrast_right'] # 0 - low - high\n",
        "  vis_left = session_data['contrast_left'] # 0 - low - high\n",
        "  correct_response = np.sign(vis_left-vis_right) \n",
        "  is_correct = response == correct_response\n",
        "  outcomes_correct = is_correct.astype(int)\n",
        "  return outcomes_correct"
      ],
      "execution_count": 62,
      "outputs": []
    },
    {
      "cell_type": "code",
      "metadata": {
        "id": "De65-UVyTQfC",
        "colab_type": "code",
        "colab": {
          "base_uri": "https://localhost:8080/",
          "height": 34
        },
        "outputId": "a88b3475-e7f3-4793-a8ff-0b0062ab00fa"
      },
      "source": [
        "#@title Retrieve correct (1) or incorrect (0) outcome\n",
        "i_focus = i_session_max_trials\n",
        "outcomes_correct = get_outcomes_correct_with_session(filtered_data[i_focus])\n",
        "print(outcomes_correct.mean())"
      ],
      "execution_count": 64,
      "outputs": [
        {
          "output_type": "stream",
          "text": [
            "0.6376811594202898\n"
          ],
          "name": "stdout"
        }
      ]
    },
    {
      "cell_type": "code",
      "metadata": {
        "id": "BaqxhLTM-fJ3",
        "colab_type": "code",
        "colab": {
          "base_uri": "https://localhost:8080/",
          "height": 34
        },
        "outputId": "1170247a-c94a-4d6c-e831-c71b51a1cfb1"
      },
      "source": [
        "spikes_focus.shape # neur*tri*tim"
      ],
      "execution_count": 15,
      "outputs": [
        {
          "output_type": "execute_result",
          "data": {
            "text/plain": [
              "(275, 414, 250)"
            ]
          },
          "metadata": {
            "tags": []
          },
          "execution_count": 15
        }
      ]
    },
    {
      "cell_type": "code",
      "metadata": {
        "id": "yR4Ng41CQVb4",
        "colab_type": "code",
        "colab": {}
      },
      "source": [
        "def get_neurons_spikes_with_session_area_window(session_data, brain_area, window):\n",
        "  is_brain_area = session_data['brain_area'] == brain_area\n",
        "  return session_data['spks'][is_brain_area, :, window]"
      ],
      "execution_count": 54,
      "outputs": []
    },
    {
      "cell_type": "code",
      "metadata": {
        "id": "M4i8wIpiQc5U",
        "colab_type": "code",
        "colab": {
          "base_uri": "https://localhost:8080/",
          "height": 34
        },
        "outputId": "724d6218-0a3b-49ab-acb2-3b575b565145"
      },
      "source": [
        "focus_brain_area='MB'\n",
        "spikes_focus = get_neurons_spikes_with_session_area_window(filtered_data_focus, focus_brain_area, slice(0, 250, 1))\n"
      ],
      "execution_count": 42,
      "outputs": [
        {
          "output_type": "stream",
          "text": [
            "(1172, 414, 250)\n"
          ],
          "name": "stdout"
        }
      ]
    },
    {
      "cell_type": "markdown",
      "metadata": {
        "id": "VDByOJobvp_D",
        "colab_type": "text"
      },
      "source": [
        "## Helper functions for decoding"
      ]
    },
    {
      "cell_type": "code",
      "metadata": {
        "id": "RmkNfF2MZBNX",
        "colab_type": "code",
        "colab": {}
      },
      "source": [
        "from sklearn.linear_model import LogisticRegression\n",
        "from sklearn.model_selection import cross_val_score"
      ],
      "execution_count": 14,
      "outputs": []
    },
    {
      "cell_type": "code",
      "metadata": {
        "id": "VKUoFONTTr75",
        "colab_type": "code",
        "colab": {}
      },
      "source": [
        "def compute_single_neuron_decoding_accuracies(spikes_per_neuron, outcomes, penalty='none'):\n",
        "  n_neurons = spikes_per_neuron.shape[0]\n",
        "  n_trials = spikes_per_neuron.shape[1]\n",
        "  # average over time\n",
        "  spikes_per_neuron_time_avg = spikes_per_neuron.mean(axis=2)\n",
        "  decoding_accuracies = np.empty(n_neurons)\n",
        "  decoding_accuracies_chance = np.empty(n_neurons)\n",
        "  for i_neuron in range(n_neurons):\n",
        "    X = spikes_per_neuron_time_avg[i_neuron, :][:, None]\n",
        "    decoding_accuracies[i_neuron] = cross_val_score(LogisticRegression(penalty=penalty), X, outcomes, cv=8, n_jobs=-1).mean()\n",
        "    # shuffle trials to get chance level\n",
        "    X = X.copy()\n",
        "    np.random.shuffle(X)\n",
        "    decoding_accuracies_chance[i_neuron] = cross_val_score(LogisticRegression(penalty=penalty), X, outcomes, cv=8, n_jobs=-1).mean() # k=8 crossvalidation\n",
        "  return decoding_accuracies, decoding_accuracies_chance"
      ],
      "execution_count": 52,
      "outputs": []
    },
    {
      "cell_type": "markdown",
      "metadata": {
        "id": "RRFSeJt1Y2LD",
        "colab_type": "text"
      },
      "source": [
        "## Decode from each individual neuron on each possible brain area and sessions"
      ]
    },
    {
      "cell_type": "code",
      "metadata": {
        "id": "TjJdWNMEf_AP",
        "colab_type": "code",
        "colab": {
          "base_uri": "https://localhost:8080/",
          "height": 1000
        },
        "outputId": "b4b6851c-57c9-4183-8dd1-8aee225443e2"
      },
      "source": [
        "window = slice(0, 50, 1)\n",
        "# window = slice(30, 50, 1)\n",
        "thresh_print = 0.04\n",
        "for i_session in range(n_sessions):\n",
        "  print(\"session\", i_session)\n",
        "  filtered_data_focus = filtered_data[i_session]\n",
        "  outcomes_correct = get_outcomes_correct_with_session(filtered_data_focus)\n",
        "  brain_areas = set(filtered_data_focus['brain_area'])\n",
        "  for brain_area in brain_areas:\n",
        "    print(\"decoding on brain_area\", brain_area)\n",
        "    spikes_per_neuron = get_neurons_spikes_with_session_area_window(filtered_data_focus, brain_area, window)\n",
        "    decoding_accuracies, decoding_accuracies_chance = compute_single_neuron_decoding_accuracies(spikes_per_neuron, outcomes_correct)\n",
        "    decoding_accuracies_diff = decoding_accuracies - decoding_accuracies_chance\n",
        "    if np.any(decoding_accuracies_diff > thresh_print):\n",
        "      print(\"found!\")\n",
        "      # print(\"decoding_accuracies\", decoding_accuracies)\n",
        "      # print(\"decoding_accuracies_chance\", decoding_accuracies_chance)\n",
        "      print(\"max diff: \", (decoding_accuracies_diff).max())\n",
        "      plt.figure()\n",
        "      plt.hist(decoding_accuracies_diff)\n",
        "      plt.show()"
      ],
      "execution_count": 72,
      "outputs": [
        {
          "output_type": "stream",
          "text": [
            "session 0\n",
            "decoding on brain_area ACA\n",
            "decoding on brain_area LS\n",
            "decoding on brain_area CA3\n",
            "decoding on brain_area DG\n",
            "decoding on brain_area root\n",
            "decoding on brain_area SUB\n",
            "decoding on brain_area VISp\n",
            "decoding on brain_area MOs\n",
            "found!\n",
            "max diff:  0.04500000000000004\n"
          ],
          "name": "stdout"
        },
        {
          "output_type": "display_data",
          "data": {
            "image/png": "[encoded data removed]",
            "text/plain": [
              "<Figure size 432x288 with 1 Axes>"
            ]
          },
          "metadata": {
            "tags": [],
            "needs_background": "light"
          }
        },
        {
          "output_type": "stream",
          "text": [
            "session 1\n",
            "decoding on brain_area CA1\n",
            "decoding on brain_area root\n",
            "decoding on brain_area VISl\n",
            "decoding on brain_area VISpm\n",
            "found!\n",
            "max diff:  0.04371921182266014\n"
          ],
          "name": "stdout"
        },
        {
          "output_type": "display_data",
          "data": {
            "image/png": "[encoded data removed]",
            "text/plain": [
              "<Figure size 432x288 with 1 Axes>"
            ]
          },
          "metadata": {
            "tags": [],
            "needs_background": "light"
          }
        },
        {
          "output_type": "stream",
          "text": [
            "decoding on brain_area POST\n",
            "session 2\n",
            "decoding on brain_area LP\n",
            "decoding on brain_area NB\n",
            "decoding on brain_area CA1\n",
            "decoding on brain_area DG\n",
            "decoding on brain_area SPF\n",
            "decoding on brain_area root\n",
            "decoding on brain_area MG\n",
            "decoding on brain_area VISam\n",
            "decoding on brain_area MRN\n",
            "decoding on brain_area POST\n",
            "decoding on brain_area VISp\n",
            "session 3\n",
            "decoding on brain_area ACA\n",
            "decoding on brain_area TH\n",
            "decoding on brain_area LGd\n",
            "decoding on brain_area DG\n",
            "decoding on brain_area CA1\n",
            "decoding on brain_area SUB\n",
            "decoding on brain_area VISp\n",
            "decoding on brain_area VISa\n",
            "decoding on brain_area LSr\n",
            "decoding on brain_area MOs\n",
            "decoding on brain_area VPL\n",
            "session 4\n",
            "decoding on brain_area ACA\n",
            "found!\n",
            "max diff:  0.0401785714285714\n"
          ],
          "name": "stdout"
        },
        {
          "output_type": "display_data",
          "data": {
            "image/png": "[encoded data removed]",
            "text/plain": [
              "<Figure size 432x288 with 1 Axes>"
            ]
          },
          "metadata": {
            "tags": [],
            "needs_background": "light"
          }
        },
        {
          "output_type": "stream",
          "text": [
            "decoding on brain_area CA1\n",
            "decoding on brain_area DG\n",
            "decoding on brain_area root\n",
            "decoding on brain_area OLF\n",
            "decoding on brain_area PL\n",
            "decoding on brain_area SUB\n",
            "decoding on brain_area VISa\n",
            "decoding on brain_area ORB\n",
            "decoding on brain_area MOs\n",
            "found!\n",
            "max diff:  0.04341133004926112\n"
          ],
          "name": "stdout"
        },
        {
          "output_type": "display_data",
          "data": {
            "image/png": "[encoded data removed]",
            "text/plain": [
              "<Figure size 432x288 with 1 Axes>"
            ]
          },
          "metadata": {
            "tags": [],
            "needs_background": "light"
          }
        },
        {
          "output_type": "stream",
          "text": [
            "session 5\n",
            "decoding on brain_area TH\n",
            "decoding on brain_area CA1\n",
            "decoding on brain_area root\n",
            "decoding on brain_area AUD\n",
            "decoding on brain_area SSp\n",
            "session 6\n",
            "decoding on brain_area EPd\n",
            "decoding on brain_area CA3\n",
            "decoding on brain_area root\n",
            "decoding on brain_area CP\n",
            "decoding on brain_area SSp\n",
            "decoding on brain_area LD\n",
            "decoding on brain_area PIR\n",
            "decoding on brain_area VPL\n",
            "session 7\n",
            "decoding on brain_area ILA\n",
            "found!\n",
            "max diff:  0.043247126436781635\n"
          ],
          "name": "stdout"
        },
        {
          "output_type": "display_data",
          "data": {
            "image/png": "[encoded data removed]",
            "text/plain": [
              "<Figure size 432x288 with 1 Axes>"
            ]
          },
          "metadata": {
            "tags": [],
            "needs_background": "light"
          }
        },
        {
          "output_type": "stream",
          "text": [
            "decoding on brain_area LP\n",
            "decoding on brain_area CA3\n",
            "decoding on brain_area PO\n",
            "decoding on brain_area CA1\n",
            "decoding on brain_area DG\n",
            "decoding on brain_area root\n",
            "decoding on brain_area PL\n",
            "found!\n",
            "max diff:  0.09439655172413786\n"
          ],
          "name": "stdout"
        },
        {
          "output_type": "display_data",
          "data": {
            "image/png": "[encoded data removed]",
            "text/plain": [
              "<Figure size 432x288 with 1 Axes>"
            ]
          },
          "metadata": {
            "tags": [],
            "needs_background": "light"
          }
        },
        {
          "output_type": "stream",
          "text": [
            "decoding on brain_area TT\n",
            "found!\n",
            "max diff:  0.043247126436781524\n"
          ],
          "name": "stdout"
        },
        {
          "output_type": "display_data",
          "data": {
            "image/png": "[encoded data removed]",
            "text/plain": [
              "<Figure size 432x288 with 1 Axes>"
            ]
          },
          "metadata": {
            "tags": [],
            "needs_background": "light"
          }
        },
        {
          "output_type": "stream",
          "text": [
            "decoding on brain_area LD\n",
            "decoding on brain_area SUB\n",
            "decoding on brain_area VISp\n",
            "decoding on brain_area VISa\n",
            "decoding on brain_area LSr\n",
            "decoding on brain_area MOs\n",
            "found!\n",
            "max diff:  0.06479885057471269\n"
          ],
          "name": "stdout"
        },
        {
          "output_type": "display_data",
          "data": {
            "image/png": "[encoded data removed]",
            "text/plain": [
              "<Figure size 432x288 with 1 Axes>"
            ]
          },
          "metadata": {
            "tags": [],
            "needs_background": "light"
          }
        },
        {
          "output_type": "stream",
          "text": [
            "session 8\n",
            "decoding on brain_area TH\n",
            "decoding on brain_area ORBm\n",
            "decoding on brain_area CA3\n",
            "decoding on brain_area CA1\n",
            "decoding on brain_area root\n",
            "decoding on brain_area PL\n",
            "decoding on brain_area VISl\n",
            "decoding on brain_area TT\n",
            "decoding on brain_area VISam\n",
            "decoding on brain_area LD\n",
            "decoding on brain_area LSr\n",
            "decoding on brain_area VPL\n",
            "session 9\n",
            "decoding on brain_area SCm\n",
            "found!\n",
            "max diff:  0.04161953242835603\n"
          ],
          "name": "stdout"
        },
        {
          "output_type": "display_data",
          "data": {
            "image/png": "[encoded data removed]",
            "text/plain": [
              "<Figure size 432x288 with 1 Axes>"
            ]
          },
          "metadata": {
            "tags": [],
            "needs_background": "light"
          }
        },
        {
          "output_type": "stream",
          "text": [
            "decoding on brain_area GPe\n",
            "decoding on brain_area SCsg\n",
            "decoding on brain_area DG\n",
            "found!\n",
            "max diff:  0.04652149321266963\n"
          ],
          "name": "stdout"
        },
        {
          "output_type": "display_data",
          "data": {
            "image/png": "[encoded data removed]",
            "text/plain": [
              "<Figure size 432x288 with 1 Axes>"
            ]
          },
          "metadata": {
            "tags": [],
            "needs_background": "light"
          }
        },
        {
          "output_type": "stream",
          "text": [
            "decoding on brain_area CA1\n",
            "decoding on brain_area POL\n",
            "decoding on brain_area root\n",
            "decoding on brain_area VISrl\n",
            "decoding on brain_area VISl\n",
            "decoding on brain_area MRN\n",
            "decoding on brain_area POST\n",
            "decoding on brain_area VISp\n",
            "decoding on brain_area MB\n",
            "found!\n",
            "max diff:  0.06330128205128216\n"
          ],
          "name": "stdout"
        },
        {
          "output_type": "display_data",
          "data": {
            "image/png": "[encoded data removed]",
            "text/plain": [
              "<Figure size 432x288 with 1 Axes>"
            ]
          },
          "metadata": {
            "tags": [],
            "needs_background": "light"
          }
        },
        {
          "output_type": "stream",
          "text": [
            "session 10\n",
            "decoding on brain_area MOp\n",
            "decoding on brain_area root\n",
            "decoding on brain_area CP\n",
            "decoding on brain_area LSc\n",
            "decoding on brain_area LSr\n",
            "decoding on brain_area PT\n",
            "session 11\n",
            "decoding on brain_area ACA\n",
            "decoding on brain_area LGd\n",
            "decoding on brain_area MD\n",
            "decoding on brain_area DG\n",
            "decoding on brain_area CA1\n",
            "decoding on brain_area root\n",
            "decoding on brain_area PL\n",
            "decoding on brain_area LH\n",
            "decoding on brain_area VISam\n",
            "decoding on brain_area SUB\n",
            "decoding on brain_area VISp\n",
            "decoding on brain_area MOs\n",
            "session 12\n",
            "decoding on brain_area ACA\n",
            "decoding on brain_area LGd\n",
            "decoding on brain_area SCm\n",
            "decoding on brain_area DG\n",
            "decoding on brain_area CA1\n",
            "decoding on brain_area SCs\n",
            "decoding on brain_area MS\n",
            "decoding on brain_area root\n",
            "decoding on brain_area PL\n",
            "decoding on brain_area RN\n",
            "decoding on brain_area VISam\n",
            "decoding on brain_area MRN\n",
            "decoding on brain_area ZI\n",
            "decoding on brain_area MB\n",
            "decoding on brain_area MOs\n",
            "session 13\n",
            "decoding on brain_area SCm\n",
            "decoding on brain_area CA1\n",
            "decoding on brain_area RSP\n",
            "decoding on brain_area SCs\n",
            "decoding on brain_area root\n",
            "decoding on brain_area PAG\n",
            "decoding on brain_area MRN\n",
            "decoding on brain_area VISp\n",
            "decoding on brain_area ORB\n",
            "decoding on brain_area MOs\n",
            "session 14\n",
            "decoding on brain_area LGd\n",
            "decoding on brain_area GPe\n",
            "decoding on brain_area CA3\n",
            "decoding on brain_area BLA\n",
            "decoding on brain_area root\n",
            "decoding on brain_area ZI\n",
            "decoding on brain_area MB\n",
            "decoding on brain_area VPM\n",
            "session 15\n",
            "decoding on brain_area TH\n",
            "decoding on brain_area LGd\n",
            "decoding on brain_area CA3\n",
            "decoding on brain_area SSp\n",
            "decoding on brain_area MB\n",
            "decoding on brain_area SSs\n",
            "session 16\n",
            "decoding on brain_area MEA\n",
            "decoding on brain_area RT\n",
            "decoding on brain_area VPL\n",
            "decoding on brain_area root\n",
            "found!\n",
            "max diff:  0.04825498575498577\n"
          ],
          "name": "stdout"
        },
        {
          "output_type": "display_data",
          "data": {
            "image/png": "[encoded data removed]",
            "text/plain": [
              "<Figure size 432x288 with 1 Axes>"
            ]
          },
          "metadata": {
            "tags": [],
            "needs_background": "light"
          }
        },
        {
          "output_type": "stream",
          "text": [
            "decoding on brain_area LD\n",
            "decoding on brain_area VPM\n",
            "session 17\n",
            "decoding on brain_area TH\n",
            "decoding on brain_area LGd\n",
            "decoding on brain_area CA3\n",
            "decoding on brain_area root\n",
            "decoding on brain_area SNr\n",
            "decoding on brain_area CP\n",
            "decoding on brain_area SI\n",
            "decoding on brain_area OT\n",
            "decoding on brain_area ACB\n",
            "decoding on brain_area ZI\n",
            "session 18\n",
            "decoding on brain_area LP\n",
            "decoding on brain_area APN\n",
            "found!\n",
            "max diff:  0.04580026455026465\n"
          ],
          "name": "stdout"
        },
        {
          "output_type": "display_data",
          "data": {
            "image/png": "[encoded data removed]",
            "text/plain": [
              "<Figure size 432x288 with 1 Axes>"
            ]
          },
          "metadata": {
            "tags": [],
            "needs_background": "light"
          }
        },
        {
          "output_type": "stream",
          "text": [
            "decoding on brain_area CA1\n",
            "decoding on brain_area DG\n",
            "found!\n",
            "max diff:  0.06349206349206349\n"
          ],
          "name": "stdout"
        },
        {
          "output_type": "display_data",
          "data": {
            "image/png": "[encoded data removed]",
            "text/plain": [
              "<Figure size 432x288 with 1 Axes>"
            ]
          },
          "metadata": {
            "tags": [],
            "needs_background": "light"
          }
        },
        {
          "output_type": "stream",
          "text": [
            "decoding on brain_area POL\n",
            "decoding on brain_area root\n",
            "found!\n",
            "max diff:  0.07853835978835988\n"
          ],
          "name": "stdout"
        },
        {
          "output_type": "display_data",
          "data": {
            "image/png": "[encoded data removed]",
            "text/plain": [
              "<Figure size 432x288 with 1 Axes>"
            ]
          },
          "metadata": {
            "tags": [],
            "needs_background": "light"
          }
        },
        {
          "output_type": "stream",
          "text": [
            "decoding on brain_area VISam\n",
            "found!\n",
            "max diff:  0.045634920634920584\n"
          ],
          "name": "stdout"
        },
        {
          "output_type": "display_data",
          "data": {
            "image/png": "[encoded data removed]",
            "text/plain": [
              "<Figure size 432x288 with 1 Axes>"
            ]
          },
          "metadata": {
            "tags": [],
            "needs_background": "light"
          }
        },
        {
          "output_type": "stream",
          "text": [
            "decoding on brain_area SUB\n",
            "decoding on brain_area VISpm\n",
            "found!\n",
            "max diff:  0.04530423280423279\n"
          ],
          "name": "stdout"
        },
        {
          "output_type": "display_data",
          "data": {
            "image/png": "[encoded data removed]",
            "text/plain": [
              "<Figure size 432x288 with 1 Axes>"
            ]
          },
          "metadata": {
            "tags": [],
            "needs_background": "light"
          }
        },
        {
          "output_type": "stream",
          "text": [
            "session 19\n",
            "decoding on brain_area TH\n",
            "decoding on brain_area LGd\n",
            "found!\n",
            "max diff:  0.042572463768115965\n"
          ],
          "name": "stdout"
        },
        {
          "output_type": "display_data",
          "data": {
            "image/png": "[encoded data removed]",
            "text/plain": [
              "<Figure size 432x288 with 1 Axes>"
            ]
          },
          "metadata": {
            "tags": [],
            "needs_background": "light"
          }
        },
        {
          "output_type": "stream",
          "text": [
            "decoding on brain_area LP\n",
            "decoding on brain_area CA1\n",
            "decoding on brain_area DG\n",
            "decoding on brain_area SPF\n",
            "decoding on brain_area root\n",
            "decoding on brain_area MG\n",
            "found!\n",
            "max diff:  0.05208333333333326\n"
          ],
          "name": "stdout"
        },
        {
          "output_type": "display_data",
          "data": {
            "image/png": "[encoded data removed]",
            "text/plain": [
              "<Figure size 432x288 with 1 Axes>"
            ]
          },
          "metadata": {
            "tags": [],
            "needs_background": "light"
          }
        },
        {
          "output_type": "stream",
          "text": [
            "decoding on brain_area SUB\n",
            "decoding on brain_area VISp\n",
            "decoding on brain_area VISa\n",
            "session 20\n",
            "decoding on brain_area VAL\n",
            "found!\n",
            "max diff:  0.1339285714285714\n"
          ],
          "name": "stdout"
        },
        {
          "output_type": "display_data",
          "data": {
            "image/png": "[encoded data removed]",
            "text/plain": [
              "<Figure size 432x288 with 1 Axes>"
            ]
          },
          "metadata": {
            "tags": [],
            "needs_background": "light"
          }
        },
        {
          "output_type": "stream",
          "text": [
            "decoding on brain_area MOp\n",
            "found!\n",
            "max diff:  0.08241758241758235\n"
          ],
          "name": "stdout"
        },
        {
          "output_type": "display_data",
          "data": {
            "image/png": "[encoded data removed]",
            "text/plain": [
              "<Figure size 432x288 with 1 Axes>"
            ]
          },
          "metadata": {
            "tags": [],
            "needs_background": "light"
          }
        },
        {
          "output_type": "stream",
          "text": [
            "decoding on brain_area root\n",
            "decoding on brain_area SSp\n",
            "found!\n",
            "max diff:  0.1778846153846153\n"
          ],
          "name": "stdout"
        },
        {
          "output_type": "display_data",
          "data": {
            "image/png": "[encoded data removed]",
            "text/plain": [
              "<Figure size 432x288 with 1 Axes>"
            ]
          },
          "metadata": {
            "tags": [],
            "needs_background": "light"
          }
        },
        {
          "output_type": "stream",
          "text": [
            "decoding on brain_area LD\n",
            "found!\n",
            "max diff:  0.125\n"
          ],
          "name": "stdout"
        },
        {
          "output_type": "display_data",
          "data": {
            "image/png": "[encoded data removed]",
            "text/plain": [
              "<Figure size 432x288 with 1 Axes>"
            ]
          },
          "metadata": {
            "tags": [],
            "needs_background": "light"
          }
        },
        {
          "output_type": "stream",
          "text": [
            "session 21\n",
            "decoding on brain_area ACA\n",
            "decoding on brain_area VISp\n",
            "decoding on brain_area SCsg\n",
            "decoding on brain_area RSP\n",
            "decoding on brain_area PL\n",
            "decoding on brain_area IC\n",
            "decoding on brain_area TT\n",
            "decoding on brain_area MRN\n",
            "decoding on brain_area ACB\n",
            "decoding on brain_area MOs\n",
            "session 22\n",
            "decoding on brain_area LP\n",
            "decoding on brain_area PO\n",
            "decoding on brain_area DG\n",
            "decoding on brain_area CA1\n",
            "found!\n",
            "max diff:  0.04452614379084974\n"
          ],
          "name": "stdout"
        },
        {
          "output_type": "display_data",
          "data": {
            "image/png": "[encoded data removed]",
            "text/plain": [
              "<Figure size 432x288 with 1 Axes>"
            ]
          },
          "metadata": {
            "tags": [],
            "needs_background": "light"
          }
        },
        {
          "output_type": "stream",
          "text": [
            "decoding on brain_area root\n",
            "found!\n",
            "max diff:  0.07352941176470584\n"
          ],
          "name": "stdout"
        },
        {
          "output_type": "display_data",
          "data": {
            "image/png": "[encoded data removed]",
            "text/plain": [
              "<Figure size 432x288 with 1 Axes>"
            ]
          },
          "metadata": {
            "tags": [],
            "needs_background": "light"
          }
        },
        {
          "output_type": "stream",
          "text": [
            "decoding on brain_area VISam\n",
            "session 23\n",
            "decoding on brain_area SCig\n",
            "found!\n",
            "max diff:  0.07683982683982682\n"
          ],
          "name": "stdout"
        },
        {
          "output_type": "display_data",
          "data": {
            "image/png": "[encoded data removed]",
            "text/plain": [
              "<Figure size 432x288 with 1 Axes>"
            ]
          },
          "metadata": {
            "tags": [],
            "needs_background": "light"
          }
        },
        {
          "output_type": "stream",
          "text": [
            "decoding on brain_area SCsg\n",
            "found!\n",
            "max diff:  0.052218614718614775\n"
          ],
          "name": "stdout"
        },
        {
          "output_type": "display_data",
          "data": {
            "image/png": "[encoded data removed]",
            "text/plain": [
              "<Figure size 432x288 with 1 Axes>"
            ]
          },
          "metadata": {
            "tags": [],
            "needs_background": "light"
          }
        },
        {
          "output_type": "stream",
          "text": [
            "decoding on brain_area CA1\n",
            "found!\n",
            "max diff:  0.052489177489177474\n"
          ],
          "name": "stdout"
        },
        {
          "output_type": "display_data",
          "data": {
            "image/png": "[encoded data removed]",
            "text/plain": [
              "<Figure size 432x288 with 1 Axes>"
            ]
          },
          "metadata": {
            "tags": [],
            "needs_background": "light"
          }
        },
        {
          "output_type": "stream",
          "text": [
            "decoding on brain_area RSP\n",
            "found!\n",
            "max diff:  0.08116883116883122\n"
          ],
          "name": "stdout"
        },
        {
          "output_type": "display_data",
          "data": {
            "image/png": "[encoded data removed]",
            "text/plain": [
              "<Figure size 432x288 with 1 Axes>"
            ]
          },
          "metadata": {
            "tags": [],
            "needs_background": "light"
          }
        },
        {
          "output_type": "stream",
          "text": [
            "decoding on brain_area root\n",
            "decoding on brain_area VISrl\n",
            "decoding on brain_area MRN\n",
            "found!\n",
            "max diff:  0.07656926406926401\n"
          ],
          "name": "stdout"
        },
        {
          "output_type": "display_data",
          "data": {
            "image/png": "[encoded data removed]",
            "text/plain": [
              "<Figure size 432x288 with 1 Axes>"
            ]
          },
          "metadata": {
            "tags": [],
            "needs_background": "light"
          }
        },
        {
          "output_type": "stream",
          "text": [
            "decoding on brain_area VISpm\n",
            "found!\n",
            "max diff:  0.0714285714285714\n"
          ],
          "name": "stdout"
        },
        {
          "output_type": "display_data",
          "data": {
            "image/png": "[encoded data removed]",
            "text/plain": [
              "<Figure size 432x288 with 1 Axes>"
            ]
          },
          "metadata": {
            "tags": [],
            "needs_background": "light"
          }
        },
        {
          "output_type": "stream",
          "text": [
            "decoding on brain_area CA2\n",
            "found!\n",
            "max diff:  0.051948051948051965\n"
          ],
          "name": "stdout"
        },
        {
          "output_type": "display_data",
          "data": {
            "image/png": "[encoded data removed]",
            "text/plain": [
              "<Figure size 432x288 with 1 Axes>"
            ]
          },
          "metadata": {
            "tags": [],
            "needs_background": "light"
          }
        },
        {
          "output_type": "stream",
          "text": [
            "session 24\n",
            "decoding on brain_area ILA\n",
            "decoding on brain_area ACA\n",
            "decoding on brain_area SCig\n",
            "decoding on brain_area SCsg\n",
            "decoding on brain_area RSP\n",
            "decoding on brain_area root\n",
            "decoding on brain_area PL\n",
            "decoding on brain_area TT\n",
            "decoding on brain_area MRN\n",
            "decoding on brain_area VISp\n",
            "decoding on brain_area DP\n",
            "decoding on brain_area MOs\n",
            "session 25\n",
            "decoding on brain_area SCig\n",
            "found!\n",
            "max diff:  0.04345238095238102\n"
          ],
          "name": "stdout"
        },
        {
          "output_type": "display_data",
          "data": {
            "image/png": "[encoded data removed]",
            "text/plain": [
              "<Figure size 432x288 with 1 Axes>"
            ]
          },
          "metadata": {
            "tags": [],
            "needs_background": "light"
          }
        },
        {
          "output_type": "stream",
          "text": [
            "decoding on brain_area root\n",
            "decoding on brain_area MRN\n",
            "decoding on brain_area VISp\n",
            "decoding on brain_area MOs\n",
            "found!\n",
            "max diff:  0.06755952380952379\n"
          ],
          "name": "stdout"
        },
        {
          "output_type": "display_data",
          "data": {
            "image/png": "[encoded data removed]",
            "text/plain": [
              "<Figure size 432x288 with 1 Axes>"
            ]
          },
          "metadata": {
            "tags": [],
            "needs_background": "light"
          }
        },
        {
          "output_type": "stream",
          "text": [
            "session 26\n",
            "decoding on brain_area ACA\n",
            "decoding on brain_area LP\n",
            "decoding on brain_area PO\n",
            "decoding on brain_area CA1\n",
            "decoding on brain_area DG\n",
            "decoding on brain_area root\n",
            "decoding on brain_area PL\n",
            "decoding on brain_area VISam\n",
            "decoding on brain_area LD\n",
            "decoding on brain_area ACB\n",
            "decoding on brain_area MOs\n",
            "session 27\n",
            "decoding on brain_area SCig\n",
            "found!\n",
            "max diff:  0.05882352941176483\n"
          ],
          "name": "stdout"
        },
        {
          "output_type": "display_data",
          "data": {
            "image/png": "[encoded data removed]",
            "text/plain": [
              "<Figure size 432x288 with 1 Axes>"
            ]
          },
          "metadata": {
            "tags": [],
            "needs_background": "light"
          }
        },
        {
          "output_type": "stream",
          "text": [
            "decoding on brain_area LP\n",
            "decoding on brain_area SCsg\n",
            "decoding on brain_area APN\n",
            "found!\n",
            "max diff:  0.05147058823529416\n"
          ],
          "name": "stdout"
        },
        {
          "output_type": "display_data",
          "data": {
            "image/png": "[encoded data removed]",
            "text/plain": [
              "<Figure size 432x288 with 1 Axes>"
            ]
          },
          "metadata": {
            "tags": [],
            "needs_background": "light"
          }
        },
        {
          "output_type": "stream",
          "text": [
            "decoding on brain_area CA1\n",
            "found!\n",
            "max diff:  0.07352941176470584\n"
          ],
          "name": "stdout"
        },
        {
          "output_type": "display_data",
          "data": {
            "image/png": "[encoded data removed]",
            "text/plain": [
              "<Figure size 432x288 with 1 Axes>"
            ]
          },
          "metadata": {
            "tags": [],
            "needs_background": "light"
          }
        },
        {
          "output_type": "stream",
          "text": [
            "decoding on brain_area RSP\n",
            "found!\n",
            "max diff:  0.08864379084967322\n"
          ],
          "name": "stdout"
        },
        {
          "output_type": "display_data",
          "data": {
            "image/png": "[encoded data removed]",
            "text/plain": [
              "<Figure size 432x288 with 1 Axes>"
            ]
          },
          "metadata": {
            "tags": [],
            "needs_background": "light"
          }
        },
        {
          "output_type": "stream",
          "text": [
            "decoding on brain_area DG\n",
            "decoding on brain_area root\n",
            "decoding on brain_area POL\n",
            "decoding on brain_area MRN\n",
            "found!\n",
            "max diff:  0.04370915032679734\n"
          ],
          "name": "stdout"
        },
        {
          "output_type": "display_data",
          "data": {
            "image/png": "[encoded data removed]",
            "text/plain": [
              "<Figure size 432x288 with 1 Axes>"
            ]
          },
          "metadata": {
            "tags": [],
            "needs_background": "light"
          }
        },
        {
          "output_type": "stream",
          "text": [
            "decoding on brain_area VISpm\n",
            "found!\n",
            "max diff:  0.05882352941176472\n"
          ],
          "name": "stdout"
        },
        {
          "output_type": "display_data",
          "data": {
            "image/png": "[encoded data removed]",
            "text/plain": [
              "<Figure size 432x288 with 1 Axes>"
            ]
          },
          "metadata": {
            "tags": [],
            "needs_background": "light"
          }
        },
        {
          "output_type": "stream",
          "text": [
            "session 28\n",
            "decoding on brain_area CP\n",
            "found!\n",
            "max diff:  0.0803571428571428\n"
          ],
          "name": "stdout"
        },
        {
          "output_type": "display_data",
          "data": {
            "image/png": "[encoded data removed]",
            "text/plain": [
              "<Figure size 432x288 with 1 Axes>"
            ]
          },
          "metadata": {
            "tags": [],
            "needs_background": "light"
          }
        },
        {
          "output_type": "stream",
          "text": [
            "decoding on brain_area SSp\n",
            "found!\n",
            "max diff:  0.1428571428571428\n"
          ],
          "name": "stdout"
        },
        {
          "output_type": "display_data",
          "data": {
            "image/png": "[encoded data removed]",
            "text/plain": [
              "<Figure size 432x288 with 1 Axes>"
            ]
          },
          "metadata": {
            "tags": [],
            "needs_background": "light"
          }
        },
        {
          "output_type": "stream",
          "text": [
            "decoding on brain_area MOp\n",
            "found!\n",
            "max diff:  0.106547619047619\n"
          ],
          "name": "stdout"
        },
        {
          "output_type": "display_data",
          "data": {
            "image/png": "[encoded data removed]",
            "text/plain": [
              "<Figure size 432x288 with 1 Axes>"
            ]
          },
          "metadata": {
            "tags": [],
            "needs_background": "light"
          }
        },
        {
          "output_type": "stream",
          "text": [
            "session 29\n",
            "decoding on brain_area ACA\n",
            "found!\n",
            "max diff:  0.1328125\n"
          ],
          "name": "stdout"
        },
        {
          "output_type": "display_data",
          "data": {
            "image/png": "[encoded data removed]",
            "text/plain": [
              "<Figure size 432x288 with 1 Axes>"
            ]
          },
          "metadata": {
            "tags": [],
            "needs_background": "light"
          }
        },
        {
          "output_type": "stream",
          "text": [
            "decoding on brain_area LP\n",
            "found!\n",
            "max diff:  0.1484375\n"
          ],
          "name": "stdout"
        },
        {
          "output_type": "display_data",
          "data": {
            "image/png": "[encoded data removed]",
            "text/plain": [
              "<Figure size 432x288 with 1 Axes>"
            ]
          },
          "metadata": {
            "tags": [],
            "needs_background": "light"
          }
        },
        {
          "output_type": "stream",
          "text": [
            "decoding on brain_area MD\n",
            "found!\n",
            "max diff:  0.1484375\n"
          ],
          "name": "stdout"
        },
        {
          "output_type": "display_data",
          "data": {
            "image/png": "[encoded data removed]",
            "text/plain": [
              "<Figure size 432x288 with 1 Axes>"
            ]
          },
          "metadata": {
            "tags": [],
            "needs_background": "light"
          }
        },
        {
          "output_type": "stream",
          "text": [
            "decoding on brain_area PO\n",
            "found!\n",
            "max diff:  0.17738970588235292\n"
          ],
          "name": "stdout"
        },
        {
          "output_type": "display_data",
          "data": {
            "image/png": "[encoded data removed]",
            "text/plain": [
              "<Figure size 432x288 with 1 Axes>"
            ]
          },
          "metadata": {
            "tags": [],
            "needs_background": "light"
          }
        },
        {
          "output_type": "stream",
          "text": [
            "decoding on brain_area DG\n",
            "found!\n",
            "max diff:  0.13327205882352944\n"
          ],
          "name": "stdout"
        },
        {
          "output_type": "display_data",
          "data": {
            "image/png": "[encoded data removed]",
            "text/plain": [
              "<Figure size 432x288 with 1 Axes>"
            ]
          },
          "metadata": {
            "tags": [],
            "needs_background": "light"
          }
        },
        {
          "output_type": "stream",
          "text": [
            "decoding on brain_area RSP\n",
            "found!\n",
            "max diff:  0.10294117647058826\n"
          ],
          "name": "stdout"
        },
        {
          "output_type": "display_data",
          "data": {
            "image/png": "[encoded data removed]",
            "text/plain": [
              "<Figure size 432x288 with 1 Axes>"
            ]
          },
          "metadata": {
            "tags": [],
            "needs_background": "light"
          }
        },
        {
          "output_type": "stream",
          "text": [
            "decoding on brain_area CA1\n",
            "found!\n",
            "max diff:  0.19255514705882348\n"
          ],
          "name": "stdout"
        },
        {
          "output_type": "display_data",
          "data": {
            "image/png": "[encoded data removed]",
            "text/plain": [
              "<Figure size 432x288 with 1 Axes>"
            ]
          },
          "metadata": {
            "tags": [],
            "needs_background": "light"
          }
        },
        {
          "output_type": "stream",
          "text": [
            "decoding on brain_area CL\n",
            "found!\n",
            "max diff:  0.1783088235294117\n"
          ],
          "name": "stdout"
        },
        {
          "output_type": "display_data",
          "data": {
            "image/png": "[encoded data removed]",
            "text/plain": [
              "<Figure size 432x288 with 1 Axes>"
            ]
          },
          "metadata": {
            "tags": [],
            "needs_background": "light"
          }
        },
        {
          "output_type": "stream",
          "text": [
            "decoding on brain_area LS\n",
            "found!\n",
            "max diff:  0.18474264705882348\n"
          ],
          "name": "stdout"
        },
        {
          "output_type": "display_data",
          "data": {
            "image/png": "[encoded data removed]",
            "text/plain": [
              "<Figure size 432x288 with 1 Axes>"
            ]
          },
          "metadata": {
            "tags": [],
            "needs_background": "light"
          }
        },
        {
          "output_type": "stream",
          "text": [
            "decoding on brain_area root\n",
            "found!\n",
            "max diff:  0.11259191176470595\n"
          ],
          "name": "stdout"
        },
        {
          "output_type": "display_data",
          "data": {
            "image/png": "[encoded data removed]",
            "text/plain": [
              "<Figure size 432x288 with 1 Axes>"
            ]
          },
          "metadata": {
            "tags": [],
            "needs_background": "light"
          }
        },
        {
          "output_type": "stream",
          "text": [
            "decoding on brain_area SUB\n",
            "found!\n",
            "max diff:  0.14797794117647067\n"
          ],
          "name": "stdout"
        },
        {
          "output_type": "display_data",
          "data": {
            "image/png": "[encoded data removed]",
            "text/plain": [
              "<Figure size 432x288 with 1 Axes>"
            ]
          },
          "metadata": {
            "tags": [],
            "needs_background": "light"
          }
        },
        {
          "output_type": "stream",
          "text": [
            "decoding on brain_area VISa\n",
            "found!\n",
            "max diff:  0.04549632352941174\n"
          ],
          "name": "stdout"
        },
        {
          "output_type": "display_data",
          "data": {
            "image/png": "[encoded data removed]",
            "text/plain": [
              "<Figure size 432x288 with 1 Axes>"
            ]
          },
          "metadata": {
            "tags": [],
            "needs_background": "light"
          }
        },
        {
          "output_type": "stream",
          "text": [
            "decoding on brain_area MOs\n",
            "found!\n",
            "max diff:  0.17876838235294112\n"
          ],
          "name": "stdout"
        },
        {
          "output_type": "display_data",
          "data": {
            "image/png": "[encoded data removed]",
            "text/plain": [
              "<Figure size 432x288 with 1 Axes>"
            ]
          },
          "metadata": {
            "tags": [],
            "needs_background": "light"
          }
        },
        {
          "output_type": "stream",
          "text": [
            "decoding on brain_area VPM\n",
            "found!\n",
            "max diff:  0.20726102941176472\n"
          ],
          "name": "stdout"
        },
        {
          "output_type": "display_data",
          "data": {
            "image/png": "[encoded data removed]",
            "text/plain": [
              "<Figure size 432x288 with 1 Axes>"
            ]
          },
          "metadata": {
            "tags": [],
            "needs_background": "light"
          }
        },
        {
          "output_type": "stream",
          "text": [
            "session 30\n",
            "decoding on brain_area TH\n",
            "decoding on brain_area SCm\n",
            "decoding on brain_area CA3\n",
            "decoding on brain_area OLF\n",
            "found!\n",
            "max diff:  0.04646164021164034\n"
          ],
          "name": "stdout"
        },
        {
          "output_type": "display_data",
          "data": {
            "image/png": "[encoded data removed]",
            "text/plain": [
              "<Figure size 432x288 with 1 Axes>"
            ]
          },
          "metadata": {
            "tags": [],
            "needs_background": "light"
          }
        },
        {
          "output_type": "stream",
          "text": [
            "decoding on brain_area SNr\n",
            "found!\n",
            "max diff:  0.04166666666666674\n"
          ],
          "name": "stdout"
        },
        {
          "output_type": "display_data",
          "data": {
            "image/png": "[encoded data removed]",
            "text/plain": [
              "<Figure size 432x288 with 1 Axes>"
            ]
          },
          "metadata": {
            "tags": [],
            "needs_background": "light"
          }
        },
        {
          "output_type": "stream",
          "text": [
            "decoding on brain_area POST\n",
            "decoding on brain_area ORB\n",
            "decoding on brain_area MOs\n",
            "found!\n",
            "max diff:  0.04613095238095244\n"
          ],
          "name": "stdout"
        },
        {
          "output_type": "display_data",
          "data": {
            "image/png": "[encoded data removed]",
            "text/plain": [
              "<Figure size 432x288 with 1 Axes>"
            ]
          },
          "metadata": {
            "tags": [],
            "needs_background": "light"
          }
        },
        {
          "output_type": "stream",
          "text": [
            "session 31\n",
            "decoding on brain_area SCm\n",
            "decoding on brain_area RSP\n",
            "decoding on brain_area SCs\n",
            "decoding on brain_area OLF\n",
            "decoding on brain_area PAG\n",
            "decoding on brain_area root\n",
            "decoding on brain_area MRN\n",
            "decoding on brain_area ORB\n",
            "decoding on brain_area MOs\n",
            "session 32\n",
            "decoding on brain_area LGd\n",
            "found!\n",
            "max diff:  0.0439723320158103\n"
          ],
          "name": "stdout"
        },
        {
          "output_type": "display_data",
          "data": {
            "image/png": "[encoded data removed]",
            "text/plain": [
              "<Figure size 432x288 with 1 Axes>"
            ]
          },
          "metadata": {
            "tags": [],
            "needs_background": "light"
          }
        },
        {
          "output_type": "stream",
          "text": [
            "decoding on brain_area CA3\n",
            "decoding on brain_area CA1\n",
            "decoding on brain_area root\n",
            "decoding on brain_area SNr\n",
            "decoding on brain_area CP\n",
            "found!\n",
            "max diff:  0.060523715415019885\n"
          ],
          "name": "stdout"
        },
        {
          "output_type": "display_data",
          "data": {
            "image/png": "[encoded data removed]",
            "text/plain": [
              "<Figure size 432x288 with 1 Axes>"
            ]
          },
          "metadata": {
            "tags": [],
            "needs_background": "light"
          }
        },
        {
          "output_type": "stream",
          "text": [
            "decoding on brain_area ZI\n",
            "decoding on brain_area VPM\n",
            "decoding on brain_area EP\n",
            "session 33\n",
            "decoding on brain_area BMA\n",
            "decoding on brain_area RT\n",
            "found!\n",
            "max diff:  0.053373015873015905\n"
          ],
          "name": "stdout"
        },
        {
          "output_type": "display_data",
          "data": {
            "image/png": "[encoded data removed]",
            "text/plain": [
              "<Figure size 432x288 with 1 Axes>"
            ]
          },
          "metadata": {
            "tags": [],
            "needs_background": "light"
          }
        },
        {
          "output_type": "stream",
          "text": [
            "decoding on brain_area LP\n",
            "decoding on brain_area PO\n",
            "decoding on brain_area root\n",
            "decoding on brain_area COA\n",
            "decoding on brain_area MB\n",
            "session 34\n",
            "decoding on brain_area ACA\n",
            "decoding on brain_area TH\n",
            "decoding on brain_area LGd\n",
            "decoding on brain_area LP\n",
            "decoding on brain_area MD\n",
            "decoding on brain_area LS\n",
            "decoding on brain_area CA1\n",
            "decoding on brain_area RSP\n",
            "decoding on brain_area DG\n",
            "decoding on brain_area root\n",
            "decoding on brain_area LH\n",
            "decoding on brain_area VISam\n",
            "decoding on brain_area MOs\n",
            "session 35\n",
            "decoding on brain_area SCm\n",
            "decoding on brain_area SCsg\n",
            "decoding on brain_area root\n",
            "decoding on brain_area PL\n",
            "decoding on brain_area VISam\n",
            "decoding on brain_area MRN\n",
            "decoding on brain_area CA\n",
            "found!\n",
            "max diff:  0.04727011494252875\n"
          ],
          "name": "stdout"
        },
        {
          "output_type": "display_data",
          "data": {
            "image/png": "[encoded data removed]",
            "text/plain": [
              "<Figure size 432x288 with 1 Axes>"
            ]
          },
          "metadata": {
            "tags": [],
            "needs_background": "light"
          }
        },
        {
          "output_type": "stream",
          "text": [
            "decoding on brain_area MOs\n",
            "session 36\n",
            "decoding on brain_area SCm\n",
            "decoding on brain_area RSP\n",
            "decoding on brain_area SCs\n",
            "decoding on brain_area MB\n",
            "found!\n",
            "max diff:  0.05476190476190479\n"
          ],
          "name": "stdout"
        },
        {
          "output_type": "display_data",
          "data": {
            "image/png": "[encoded data removed]",
            "text/plain": [
              "<Figure size 432x288 with 1 Axes>"
            ]
          },
          "metadata": {
            "tags": [],
            "needs_background": "light"
          }
        },
        {
          "output_type": "stream",
          "text": [
            "decoding on brain_area root\n",
            "decoding on brain_area VISam\n",
            "found!\n",
            "max diff:  0.04285714285714293\n"
          ],
          "name": "stdout"
        },
        {
          "output_type": "display_data",
          "data": {
            "image/png": "[encoded data removed]",
            "text/plain": [
              "<Figure size 432x288 with 1 Axes>"
            ]
          },
          "metadata": {
            "tags": [],
            "needs_background": "light"
          }
        },
        {
          "output_type": "stream",
          "text": [
            "decoding on brain_area ORB\n",
            "decoding on brain_area PAG\n",
            "decoding on brain_area MOs\n",
            "session 37\n",
            "decoding on brain_area LGd\n",
            "decoding on brain_area GPe\n",
            "decoding on brain_area CA3\n",
            "decoding on brain_area BLA\n",
            "found!\n",
            "max diff:  0.046875\n"
          ],
          "name": "stdout"
        },
        {
          "output_type": "display_data",
          "data": {
            "image/png": "[encoded data removed]",
            "text/plain": [
              "<Figure size 432x288 with 1 Axes>"
            ]
          },
          "metadata": {
            "tags": [],
            "needs_background": "light"
          }
        },
        {
          "output_type": "stream",
          "text": [
            "decoding on brain_area root\n",
            "decoding on brain_area SNr\n",
            "session 38\n",
            "decoding on brain_area ILA\n",
            "decoding on brain_area ACA\n",
            "decoding on brain_area LP\n",
            "decoding on brain_area DG\n",
            "decoding on brain_area CA1\n",
            "decoding on brain_area root\n",
            "decoding on brain_area PL\n",
            "decoding on brain_area VISam\n",
            "decoding on brain_area SUB\n",
            "decoding on brain_area VISp\n",
            "decoding on brain_area MOs\n"
          ],
          "name": "stdout"
        }
      ]
    },
    {
      "cell_type": "markdown",
      "metadata": {
        "id": "SVXzQ6CFhnQQ",
        "colab_type": "text"
      },
      "source": [
        "## Fitting the model manually"
      ]
    },
    {
      "cell_type": "code",
      "metadata": {
        "id": "S3oDswOTh3cu",
        "colab_type": "code",
        "colab": {
          "base_uri": "https://localhost:8080/",
          "height": 51
        },
        "outputId": "fba600ea-581e-4898-a9bb-963a933edf85"
      },
      "source": [
        "def compute_accuracy(X, y, model):\n",
        "  \"\"\"Compute accuracy of classifier predictions.\n",
        "  \n",
        "  Args:\n",
        "    X (2D array): Data matrix\n",
        "    y (1D array): Label vector\n",
        "    model (sklearn estimator): Classifier with trained weights.\n",
        "\n",
        "  Returns:\n",
        "    accuracy (float): Proportion of correct predictions.  \n",
        "  \"\"\"\n",
        "\n",
        "\n",
        "  y_pred = model.predict(X)\n",
        "\n",
        "  accuracy = np.count_nonzero(y_pred==y)/len(y)\n",
        "\n",
        "  return accuracy\n",
        "\n",
        "avg_spikes=spikes_focus.mean(axis=0)\n",
        "print(avg_spikes.shape)\n",
        "# outcomes_correct=>label 0 or 1\n",
        "y = outcomes_correct\n",
        "X = avg_spikes\n",
        "\n",
        "# First define the model\n",
        "log_reg = LogisticRegression(penalty=\"none\")\n",
        "#Then fit it to data\n",
        "log_reg.fit(X, y)\n",
        "y_pred = log_reg.predict(X)\n",
        "\n",
        "train_accuracy = compute_accuracy(X, y, log_reg)\n",
        "print(f\"Accuracy on the training data averaging over all neurons considering the whole time period: {train_accuracy:.2%}\")"
      ],
      "execution_count": 66,
      "outputs": [
        {
          "output_type": "stream",
          "text": [
            "(414, 250)\n",
            "Accuracy on the training data: 100.00%\n"
          ],
          "name": "stdout"
        }
      ]
    },
    {
      "cell_type": "code",
      "metadata": {
        "id": "bLiyWaz6ledL",
        "colab_type": "code",
        "colab": {
          "base_uri": "https://localhost:8080/",
          "height": 34
        },
        "outputId": "dece590c-2d3d-4095-ff59-781bdb66baf4"
      },
      "source": [
        "X = avg_spikes[:, 0:50]\n",
        "log_reg = LogisticRegression(penalty=\"none\")\n",
        "log_reg.fit(X, y)\n",
        "y_pred = log_reg.predict(X)\n",
        "\n",
        "train_accuracy = compute_accuracy(X, y, log_reg)\n",
        "\n",
        "print(f\"Accuracy on the training data averaging over all neurons considering the prestimulus period: {train_accuracy:.2%}\")"
      ],
      "execution_count": 69,
      "outputs": [
        {
          "output_type": "stream",
          "text": [
            "Accuracy on the training data averaging over all neurons considering the prestimulus period: 68.12%\n"
          ],
          "name": "stdout"
        }
      ]
    },
    {
      "cell_type": "code",
      "metadata": {
        "id": "hcJfgkRmmKB6",
        "colab_type": "code",
        "colab": {}
      },
      "source": [
        "# X = spikes_focus[24, :, 0:50]\n",
        "# log_reg = LogisticRegression(penalty=\"none\")\n",
        "# log_reg.fit(X, y)\n",
        "# y_pred = log_reg.predict(X)\n",
        "\n",
        "# train_accuracy = compute_accuracy(X, y, log_reg)\n",
        "\n",
        "# print(f\"Accuracy on the training data with a single neuron considering the prestimulus period: {train_accuracy:.2%}\")"
      ],
      "execution_count": 71,
      "outputs": []
    },
    {
      "cell_type": "markdown",
      "metadata": {
        "id": "4Wjqe5YUj2RZ",
        "colab_type": "text"
      },
      "source": [
        "## Decode on average over the neurons and the prestimulus time zone"
      ]
    },
    {
      "cell_type": "code",
      "metadata": {
        "id": "Dbe-VtKNigVu",
        "colab_type": "code",
        "colab": {
          "base_uri": "https://localhost:8080/",
          "height": 34
        },
        "outputId": "0ca5e354-c9c6-4900-f505-0dfddc306f4e"
      },
      "source": [
        "avg_neurones_prestimulus=spikes_focus[:,:,:50].mean(axis=2)\n",
        "y = outcomes_correct\n",
        "X = avg_neurones_prestimulus.T\n",
        "scores = cross_val_score(LogisticRegression(penalty='l2'), X, y, cv=8) # k=8 crossvalidation\n",
        "scores.mean()"
      ],
      "execution_count": 28,
      "outputs": [
        {
          "output_type": "execute_result",
          "data": {
            "text/plain": [
              "0.6550716440422323"
            ]
          },
          "metadata": {
            "tags": []
          },
          "execution_count": 28
        }
      ]
    },
    {
      "cell_type": "code",
      "metadata": {
        "id": "onxxvM4Khvlm",
        "colab_type": "code",
        "colab": {
          "base_uri": "https://localhost:8080/",
          "height": 34
        },
        "outputId": "cd86ecf1-9bf9-4a69-f87f-6de4bffbd059"
      },
      "source": [
        "X_random=avg_neurones_prestimulus.T.copy()\n",
        "np.random.shuffle(X_random)\n",
        "chance_decoding_accuracy = cross_val_score(LogisticRegression(penalty='l2'),X_random, y, cv=8).mean() # k=8 crossvalidation\n",
        "chance_decoding_accuracy"
      ],
      "execution_count": 29,
      "outputs": [
        {
          "output_type": "execute_result",
          "data": {
            "text/plain": [
              "0.6256127450980392"
            ]
          },
          "metadata": {
            "tags": []
          },
          "execution_count": 29
        }
      ]
    },
    {
      "cell_type": "code",
      "metadata": {
        "id": "7QlOKgLtiWzd",
        "colab_type": "code",
        "colab": {
          "base_uri": "https://localhost:8080/",
          "height": 34
        },
        "outputId": "f8b5fa58-8ae8-4f2b-afe6-908a907334fd"
      },
      "source": [
        "print(\"X.shape\", X.shape)"
      ],
      "execution_count": 22,
      "outputs": [
        {
          "output_type": "stream",
          "text": [
            "X.shape (414, 275)\n"
          ],
          "name": "stdout"
        }
      ]
    },
    {
      "cell_type": "code",
      "metadata": {
        "id": "TPf-UVS4kJjn",
        "colab_type": "code",
        "colab": {
          "base_uri": "https://localhost:8080/",
          "height": 1000
        },
        "outputId": "0614f212-2c6f-4708-9e11-d9583c6794fa"
      },
      "source": [
        "# Iterate over single neurons\n",
        "n_neurons = avg_neurones_prestimulus.shape[0]\n",
        "mean_decoding_accuracies = np.empty(n_neurons)\n",
        "for i_neuron in range(n_neurons):\n",
        "  X = avg_neurones_prestimulus[i_neuron, :][:, None]\n",
        "  mean_decoding_accuracies[i_neuron] = cross_val_score(LogisticRegression(penalty='none'), X, y, cv=8).mean()\n",
        "plt.hist(mean_decoding_accuracies)\n",
        "print(mean_decoding_accuracies)\n",
        "print(mean_decoding_accuracies.max())"
      ],
      "execution_count": 31,
      "outputs": [
        {
          "output_type": "stream",
          "text": [
            "[0.65973793 0.64503205 0.63772624 0.63772624 0.63772624 0.62570701\n",
            " 0.68410633 0.63772624 0.63772624 0.63772624 0.63772624 0.63772624\n",
            " 0.6353224  0.63772624 0.63772624 0.62811086 0.63772624 0.63772624\n",
            " 0.63772624 0.63772624 0.63772624 0.63777338 0.64258107 0.63772624\n",
            " 0.63772624 0.63772624 0.64272247 0.67449095 0.63772624 0.64503205\n",
            " 0.63772624 0.63772624 0.63772624 0.6353224  0.63772624 0.63772624\n",
            " 0.63772624 0.64008296 0.63772624 0.64258107 0.64262821 0.63291855\n",
            " 0.63772624 0.63772624 0.62575415 0.63772624 0.63772624 0.63772624\n",
            " 0.64017722 0.63772624 0.63772624 0.6353224  0.63772624 0.63772624\n",
            " 0.63772624 0.64498492 0.63772624 0.63772624 0.63772624 0.6353224\n",
            " 0.6353224  0.65224359 0.6353224  0.63772624 0.63772624 0.6353224\n",
            " 0.63772624 0.66223605 0.63772624 0.63772624 0.6424868  0.63772624\n",
            " 0.63772624 0.62811086 0.63772624 0.6353224  0.63772624 0.6353224\n",
            " 0.64258107 0.64022436 0.63772624 0.63772624 0.63772624 0.63051471\n",
            " 0.63527526 0.63772624 0.63772624 0.63772624 0.63027903 0.6525264\n",
            " 0.6353224  0.63291855 0.63772624 0.63772624 0.6353224  0.64258107\n",
            " 0.64738876 0.6353224  0.63772624 0.63772624 0.64748303 0.64258107\n",
            " 0.64013009 0.63772624 0.63046757 0.63772624 0.63772624 0.63772624\n",
            " 0.63772624 0.6353224  0.63051471 0.63772624 0.63772624 0.65257353\n",
            " 0.63772624 0.63772624 0.63772624 0.63772624 0.6353224  0.64503205\n",
            " 0.6353224  0.64017722 0.63291855 0.63772624 0.63772624 0.64022436\n",
            " 0.63772624 0.63772624 0.63772624 0.64022436 0.6353224  0.62570701\n",
            " 0.63782051 0.63772624 0.6353224  0.64017722 0.63772624 0.63772624\n",
            " 0.64258107 0.64258107 0.64258107 0.63772624 0.64258107 0.63772624\n",
            " 0.63772624 0.63291855 0.62811086 0.6353224  0.63291855 0.65728695\n",
            " 0.63291855 0.63772624 0.63772624 0.63782051 0.64253394 0.63777338\n",
            " 0.63291855 0.63772624 0.63772624 0.6842006  0.6474359  0.63772624\n",
            " 0.64013009 0.63287142 0.6353224  0.63291855 0.63772624 0.63772624\n",
            " 0.63772624 0.64276961 0.63772624 0.6353224  0.63772624 0.63772624\n",
            " 0.63772624 0.63772624 0.63772624 0.63772624 0.63772624 0.63772624\n",
            " 0.66228318 0.63772624 0.65488311 0.63772624 0.65243213 0.65733409\n",
            " 0.62815799 0.63772624 0.63772624 0.63772624 0.6353224  0.63772624\n",
            " 0.63772624 0.63772624 0.62570701 0.63291855 0.63772624 0.63772624\n",
            " 0.6353224  0.6353224  0.63772624 0.63772624 0.63051471 0.67444382\n",
            " 0.63772624 0.62556561 0.63051471 0.63772624 0.63772624 0.63772624\n",
            " 0.65978507 0.63772624 0.63772624 0.63772624 0.63772624 0.66223605\n",
            " 0.63772624 0.63772624 0.62570701 0.63772624 0.63772624 0.63772624\n",
            " 0.63772624 0.63772624 0.6353224  0.63772624 0.63772624 0.63772624\n",
            " 0.63772624 0.63772624 0.63772624 0.63536953 0.63772624 0.63772624\n",
            " 0.66718514 0.63277715 0.63772624 0.63772624 0.61566742 0.63772624\n",
            " 0.63772624 0.66709087 0.63772624 0.65728695 0.63772624 0.63287142\n",
            " 0.63772624 0.63527526 0.63527526 0.6475773  0.64013009 0.63051471\n",
            " 0.66242459 0.63772624 0.6768948  0.63772624 0.63772624 0.63772624\n",
            " 0.62806373 0.63772624 0.68179676 0.63772624 0.67218137 0.63772624\n",
            " 0.65738122 0.67449095 0.63772624 0.63772624 0.62806373 0.63772624\n",
            " 0.63772624 0.65497738 0.64988688 0.6303733  0.63772624]\n",
            "0.6842006033182504\n"
          ],
          "name": "stdout"
        },
        {
          "output_type": "display_data",
          "data": {
            "image/png": "[encoded data removed]",
            "text/plain": [
              "<Figure size 432x288 with 1 Axes>"
            ]
          },
          "metadata": {
            "tags": [],
            "needs_background": "light"
          }
        }
      ]
    },
    {
      "cell_type": "markdown",
      "metadata": {
        "id": "UHRuFeggXVRU",
        "colab_type": "text"
      },
      "source": [
        "## Decode from all the neurons, averaged over the prestimulus time zone"
      ]
    },
    {
      "cell_type": "code",
      "metadata": {
        "id": "rqpyj8ezkVkF",
        "colab_type": "code",
        "colab": {
          "base_uri": "https://localhost:8080/",
          "height": 34
        },
        "outputId": "f5725a3c-9554-48ee-a425-14aae70dbcf5"
      },
      "source": [
        "#(275, 414, 250) =>(414,275*250)\n",
        "X_all=[]\n",
        "\n",
        "y = outcomes_correct\n",
        "\n",
        "for i in range(len(spikes_focus[:,:,:50][0])):\n",
        "  all_neuron_over_time_by_trial=[]\n",
        "  for j in range(len(spikes_focus[:,:,:50])):\n",
        "    \n",
        "    for k in spikes_focus[:,:,:50][j][i]:\n",
        "      all_neuron_over_time_by_trial.append(k)\n",
        "  X_all.append(all_neuron_over_time_by_trial)\n",
        "\n",
        "X_all=np.array(X_all)\n",
        "X_all.shape"
      ],
      "execution_count": 24,
      "outputs": [
        {
          "output_type": "execute_result",
          "data": {
            "text/plain": [
              "(414, 13750)"
            ]
          },
          "metadata": {
            "tags": []
          },
          "execution_count": 24
        }
      ]
    },
    {
      "cell_type": "code",
      "metadata": {
        "id": "lAwzi7y8SCfb",
        "colab_type": "code",
        "colab": {
          "base_uri": "https://localhost:8080/",
          "height": 51
        },
        "outputId": "d5006586-9e9d-4b3d-fb21-795a059a83df"
      },
      "source": [
        "cross_val_score(LogisticRegression(penalty='l2'), X_all, y, cv=8) # k=8 crossvalidation"
      ],
      "execution_count": 25,
      "outputs": [
        {
          "output_type": "execute_result",
          "data": {
            "text/plain": [
              "array([0.59615385, 0.65384615, 0.59615385, 0.63461538, 0.65384615,\n",
              "       0.61538462, 0.78431373, 0.66666667])"
            ]
          },
          "metadata": {
            "tags": []
          },
          "execution_count": 25
        }
      ]
    },
    {
      "cell_type": "markdown",
      "metadata": {
        "id": "ESZ-j0YydZGG",
        "colab_type": "text"
      },
      "source": [
        "# look for active neurons"
      ]
    },
    {
      "cell_type": "code",
      "metadata": {
        "id": "NuDsNnmnVKCI",
        "colab_type": "code",
        "colab": {
          "base_uri": "https://localhost:8080/",
          "height": 34
        },
        "outputId": "de047ef3-4184-4a79-e402-49181a1ffe16"
      },
      "source": [
        "count=0\n",
        "active_trial=np.zeros(len(spikes_focus))\n",
        "for i in range(len(spikes_focus)):\n",
        "  count=0\n",
        "  for j in range(len(spikes_focus[0,:,0])):\n",
        "    if spikes_focus[i,j,:].sum()<5:\n",
        "      count+=1\n",
        "  active_trial[i]=len(spikes_focus[0,:,0])-count\n",
        "  #print(count,'/',j+1)\n",
        "print(np.count_nonzero(active_trial>20))"
      ],
      "execution_count": 13,
      "outputs": [
        {
          "output_type": "stream",
          "text": [
            "169\n"
          ],
          "name": "stdout"
        }
      ]
    },
    {
      "cell_type": "code",
      "metadata": {
        "id": "kWdMqLppS7Ou",
        "colab_type": "code",
        "colab": {},
        "cellView": "form"
      },
      "source": [
        "#@title Show some spikes data\n",
        "_=plt.eventplot(spikes_focus[20:30,2,:])\n",
        "spikes_focus[25:26,2,:]"
      ],
      "execution_count": null,
      "outputs": []
    }
  ]
}