{
  "nbformat": 4,
  "nbformat_minor": 0,
  "metadata": {
    "colab": {
      "name": "scarletbutterfly_decoding_steinmetz.ipynb",
      "provenance": [],
      "collapsed_sections": [],
      "include_colab_link": true
    },
    "kernelspec": {
      "name": "python3",
      "display_name": "Python 3"
    }
  },
  "cells": [
    {
      "cell_type": "markdown",
      "metadata": {
        "id": "view-in-github",
        "colab_type": "text"
      },
      "source": [
        "<a href=\"https://colab.research.google.com/github/cedricfoucault/scarletbutterfly/blob/master/scarletbutterfly_decoding_steinmetz.ipynb\" target=\"_parent\"><img src=\"https://colab.research.google.com/assets/colab-badge.svg\" alt=\"Open In Colab\"/></a>"
      ]
    },
    {
      "cell_type": "markdown",
      "metadata": {
        "id": "bEqdz1ZUMaj1",
        "colab_type": "text"
      },
      "source": [
        "## Loading of Steinmetz data"
      ]
    },
    {
      "cell_type": "code",
      "metadata": {
        "id": "TLWjKq8bLDqm",
        "colab_type": "code",
        "cellView": "both",
        "colab": {}
      },
      "source": [
        "#@title Data retrieval\n",
        "import os, requests\n",
        "import matplotlib.pyplot as plt\n",
        "fname = []\n",
        "for j in range(3):\n",
        "  fname.append('steinmetz_part%d.npz'%j)\n",
        "url = [\"https://osf.io/agvxh/download\"]\n",
        "url.append(\"https://osf.io/uv3mw/download\")\n",
        "url.append(\"https://osf.io/ehmw2/download\")\n",
        "\n",
        "for j in range(len(url)):\n",
        "  if not os.path.isfile(fname[j]):\n",
        "    try:\n",
        "      r = requests.get(url[j])\n",
        "    except requests.ConnectionError:\n",
        "      print(\"!!! Failed to download data !!!\")\n",
        "    else:\n",
        "      if r.status_code != requests.codes.ok:\n",
        "        print(\"!!! Failed to download data !!!\")\n",
        "      else:\n",
        "        with open(fname[j], \"wb\") as fid:\n",
        "          fid.write(r.content)\n"
      ],
      "execution_count": 6,
      "outputs": []
    },
    {
      "cell_type": "code",
      "metadata": {
        "id": "sffzC_hyLgWZ",
        "colab_type": "code",
        "cellView": "code",
        "colab": {
          "base_uri": "https://localhost:8080/",
          "height": 34
        },
        "outputId": "c6c9a49a-09cf-4d24-e332-745a45cf77fe"
      },
      "source": [
        "#@title Data loading\n",
        "import numpy as np\n",
        "\n",
        "alldat = np.array([])\n",
        "for j in range(len(fname)):\n",
        "  alldat = np.hstack((alldat, np.load('steinmetz_part%d.npz'%j, allow_pickle=True)['dat']))\n",
        "\n",
        "n_sessions = len(alldat)\n",
        "print(\"n_sessions\", n_sessions)"
      ],
      "execution_count": 7,
      "outputs": [
        {
          "output_type": "stream",
          "text": [
            "n_sessions 39\n"
          ],
          "name": "stdout"
        }
      ]
    },
    {
      "cell_type": "code",
      "metadata": {
        "id": "PPbrPguKDaYG",
        "colab_type": "code",
        "colab": {
          "base_uri": "https://localhost:8080/",
          "height": 54
        },
        "outputId": "a5d2b70c-76ec-4380-f5df-aac5128d87ca"
      },
      "source": [
        "print(alldat[0].keys())"
      ],
      "execution_count": 8,
      "outputs": [
        {
          "output_type": "stream",
          "text": [
            "dict_keys(['spks', 'wheel', 'pupil', 'lfp', 'response', 'response_time', 'bin_size', 'stim_onset', 'contrast_right', 'contrast_left', 'brain_area', 'brain_area_lfp', 'feedback_time', 'feedback_type', 'gocue', 'mouse_name', 'date_exp', 'trough_to_peak', 'waveform_w', 'waveform_u', 'active_trials', 'contrast_left_passive', 'contrast_right_passive', 'spks_passive', 'lfp_passive', 'pupil_passive', 'wheel_passive'])\n"
          ],
          "name": "stdout"
        }
      ]
    },
    {
      "cell_type": "code",
      "metadata": {
        "id": "NwLpbX-QTCkh",
        "colab_type": "code",
        "cellView": "code",
        "colab": {}
      },
      "source": [
        "#@title Filter Trial Data\n",
        "import copy\n",
        "filtered_data = copy.deepcopy(alldat)\n",
        "\n",
        "bin_size = alldat[0]['bin_size']\n",
        "stim_onset = alldat[0]['stim_onset']\n",
        "for i in range(len(alldat)):\n",
        "  assert bin_size == alldat[i]['bin_size'], \"inconsistent bin size\"\n",
        "  assert stim_onset == alldat[i]['stim_onset'], \"inconsistent stim onset\"\n",
        "\n",
        "# Filter only the keys we are going to use\n",
        "used_keys = ['spks', 'pupil', 'lfp', 'response', 'contrast_right', 'contrast_left', 'brain_area', 'brain_area_lfp', 'mouse_name']\n",
        "for i_session in range(n_sessions):\n",
        "  filtered_data[i_session] = { key: filtered_data[i_session][key] for key in used_keys }\n",
        "\n",
        "\n",
        "# # Eliminate trials where contrast is > 0 and equal on both sides\n",
        "array_keys = ['spks', 'pupil','lfp', 'response', 'contrast_right', 'contrast_left']\n",
        "\n",
        "\n",
        "\n",
        "for i_session in range(n_sessions):\n",
        "  session_data = filtered_data[i_session]\n",
        "  equal_contrast = session_data['contrast_right'] == session_data['contrast_left']\n",
        "  positive_contrast_right = session_data['contrast_right'] > 0\n",
        "  should_filter = equal_contrast & positive_contrast_right\n",
        "\n",
        "  session_data['spks'] = session_data['spks'][:,~should_filter,:]\n",
        "  session_data['pupil'] = session_data['pupil'][:,~should_filter,:]\n",
        "  session_data['lfp'] = session_data['lfp'][:,~should_filter,:]\n",
        "\n",
        "  session_data['response'] = session_data['response'][~should_filter]\n",
        "  session_data['contrast_right'] = session_data['contrast_right'][~should_filter]\n",
        "  session_data['contrast_left'] = session_data['contrast_left'][~should_filter]\n",
        "\n",
        "  # for key, value in session_data.items():\n",
        "  #   if key in array_keys:\n",
        "  #     print(\"key\", key)\n",
        "  #     print(\"array.shape\", value.shape)\n",
        "  # new_session_data = { key: array[~should_filter] for key, array in session_data.items() }\n",
        "  # filtered_data[i_session] = new_session_data\n",
        "  # print(\"session:\", i_session)\n",
        "  # print(\"original data, contrast_right:\", session_data['contrast_right'])\n",
        "  # print(\"filtered data, contrast_right:\", new_session_data['contrast_right'])\n",
        "\n",
        "\n",
        "\n",
        "\n"
      ],
      "execution_count": 9,
      "outputs": []
    },
    {
      "cell_type": "code",
      "metadata": {
        "id": "Hmx-v-WaREWU",
        "colab_type": "code",
        "colab": {
          "base_uri": "https://localhost:8080/",
          "height": 1000
        },
        "outputId": "6aecd911-98e5-4a2a-9a7a-3e72e10fbb72"
      },
      "source": [
        "#Extracting brain areas:\n",
        "brain_areas = set()\n",
        "\n",
        "for i in range(n_sessions):\n",
        "  brain_areas.update(filtered_data[i]['brain_area'])\n",
        "\n",
        "\n",
        "#Let's focus on subcortical brain areas as they appear to experience a spike \n",
        "#Basal ganglia, midbrain\n",
        "basal_ganglia = [\"ACB\", \"CP\", \"GPe\", \"LS\", \"LSc\", \"LSr\", \"MS\", \"OT\", \"SNr\", \"SI\"]\n",
        "midbrain = [\"APN\", \"IC\", \"MB\", \"MRN\", \"NB\", \"PAG\", \"RN\", \"SCs\", \"SCm\", \"SCig\", \"SCsg\", \"ZI\"]\n",
        "\n",
        "count_dict = {area:0 for area in brain_areas}\n",
        "\n",
        "for i in range(n_sessions):\n",
        "  for area in set(filtered_data[i]['brain_area']):\n",
        "      count_dict[area] += 1\n",
        "\n",
        "print(count_dict)\n",
        "areas = list(count_dict.keys())\n",
        "count_sessions_per_areas = np.array(list(count_dict.values()))\n",
        "sorted_indices = np.argsort(count_sessions_per_areas)\n",
        "areas = [ areas[i] for i in sorted_indices ]\n",
        "count_sessions_per_areas = count_sessions_per_areas[sorted_indices]\n",
        "y_bars = np.arange(len(areas))\n",
        "fig = plt.figure(figsize=(5., len(y_bars) / 4))\n",
        "ax = fig.gca()\n",
        "ax.barh(y_bars, count_sessions_per_areas)\n",
        "ax.set_yticks(y_bars)\n",
        "ax.set_yticklabels(areas)\n",
        "plt.show()"
      ],
      "execution_count": 10,
      "outputs": [
        {
          "output_type": "stream",
          "text": [
            "{'CA1': 21, 'VISa': 5, 'SSp': 5, 'CA': 1, 'PAG': 3, 'VPL': 4, 'PL': 10, 'VISl': 3, 'SI': 1, 'MOs': 18, 'CL': 1, 'AUD': 1, 'LH': 2, 'APN': 2, 'SNr': 4, 'PIR': 1, 'MOp': 3, 'CA3': 10, 'OLF': 3, 'ACA': 11, 'NB': 1, 'ACB': 3, 'SPF': 2, 'EPd': 1, 'GPe': 3, 'root': 34, 'DG': 16, 'VISrl': 2, 'PT': 1, 'BLA': 2, 'MRN': 11, 'LSr': 4, 'MB': 6, 'SSs': 1, 'CA2': 1, 'ILA': 3, 'VISp': 12, 'VISpm': 4, 'ORBm': 1, 'POL': 3, 'RN': 1, 'LS': 3, 'MG': 2, 'MEA': 1, 'VAL': 1, 'CP': 5, 'POST': 4, 'LD': 6, 'PO': 5, 'VPM': 4, 'IC': 1, 'MS': 1, 'COA': 1, 'SUB': 9, 'DP': 1, 'SCs': 4, 'LSc': 1, 'MD': 3, 'VISam': 11, 'SCm': 7, 'SCsg': 6, 'OT': 1, 'TT': 4, 'LP': 11, 'TH': 8, 'ZI': 4, 'RT': 2, 'EP': 1, 'SCig': 4, 'LGd': 10, 'RSP': 9, 'BMA': 1, 'ORB': 5}\n"
          ],
          "name": "stdout"
        },
        {
          "output_type": "display_data",
          "data": {
            "image/png": "[encoded data removed]",
            "text/plain": [
              "<Figure size 360x1314 with 1 Axes>"
            ]
          },
          "metadata": {
            "tags": [],
            "needs_background": "light"
          }
        }
      ]
    },
    {
      "cell_type": "code",
      "metadata": {
        "id": "JYhiUDTi1uAZ",
        "colab_type": "code",
        "colab": {}
      },
      "source": [
        "# groupings of brain regions\n",
        "regions = [\"vis ctx\", \"thal\", \"hipp\", \"other ctx\", \"midbrain\", \"basal ganglia\", \"cortical subplate\", \"other\"]\n",
        "brain_groups = [[\"VISa\", \"VISam\", \"VISl\", \"VISp\", \"VISpm\", \"VISrl\"], # visual cortex\n",
        "                [\"CL\", \"LD\", \"LGd\", \"LH\", \"LP\", \"MD\", \"MG\", \"PO\", \"POL\", \"PT\", \"RT\", \"SPF\", \"TH\", \"VAL\", \"VPL\", \"VPM\"], # thalamus\n",
        "                [\"CA\", \"CA1\", \"CA2\", \"CA3\", \"DG\", \"SUB\", \"POST\"], # hippocampal\n",
        "                [\"ACA\", \"AUD\", \"COA\", \"DP\", \"ILA\", \"MOp\", \"MOs\", \"OLF\", \"ORB\", \"ORBm\", \"PIR\", \"PL\", \"SSp\", \"SSs\", \"RSP\",\" TT\"], # non-visual cortex\n",
        "                [\"APN\", \"IC\", \"MB\", \"MRN\", \"NB\", \"PAG\", \"RN\", \"SCs\", \"SCm\", \"SCig\", \"SCsg\", \"ZI\"], # midbrain\n",
        "                [\"ACB\", \"CP\", \"GPe\", \"LS\", \"LSc\", \"LSr\", \"MS\", \"OT\", \"SNr\", \"SI\"], # basal ganglia \n",
        "                [\"BLA\", \"BMA\", \"EP\", \"EPd\", \"MEA\"] # cortical subplate\n",
        "                ]"
      ],
      "execution_count": 11,
      "outputs": []
    },
    {
      "cell_type": "code",
      "metadata": {
        "id": "tYvniQkQbiuJ",
        "colab_type": "code",
        "colab": {}
      },
      "source": [
        "\n",
        "for i in range(n_sessions):\n",
        "  plt.hist(filtered_data[i]['brain_area'])\n",
        "  plt.show()"
      ],
      "execution_count": null,
      "outputs": []
    },
    {
      "cell_type": "code",
      "metadata": {
        "id": "RMSd42MRZzSN",
        "colab_type": "code",
        "colab": {
          "base_uri": "https://localhost:8080/",
          "height": 299
        },
        "outputId": "54709eaf-9401-4e91-f9c9-bf9befd27a69"
      },
      "source": [
        "#Histogram of number of trials throughout the sessions\n",
        "n_trials_session = np.zeros(n_sessions)\n",
        "for i in range(n_sessions):\n",
        "  n_trials_session[i] = len(filtered_data[i]['response'])\n",
        "\n",
        "plt.hist(n_trials_session)\n",
        "print(n_trials_session.mean())\n",
        "\n",
        "i_session_max_trials = np.argmax(n_trials_session)\n",
        "print(i_session_max_trials, n_trials_session[i_session_max_trials])"
      ],
      "execution_count": 13,
      "outputs": [
        {
          "output_type": "stream",
          "text": [
            "240.46153846153845\n",
            "9 414.0\n"
          ],
          "name": "stdout"
        },
        {
          "output_type": "display_data",
          "data": {
            "image/png": "[encoded data removed]",
            "text/plain": [
              "<Figure size 432x288 with 1 Axes>"
            ]
          },
          "metadata": {
            "tags": [],
            "needs_background": "light"
          }
        }
      ]
    },
    {
      "cell_type": "code",
      "metadata": {
        "id": "0WVYB2_wWlTR",
        "colab_type": "code",
        "colab": {
          "base_uri": "https://localhost:8080/",
          "height": 282
        },
        "outputId": "2ef80fe5-da0c-4555-bf14-96fd38dbdd18"
      },
      "source": [
        "plt.hist(filtered_data[i_session_max_trials]['brain_area'],bins=13)\n",
        "plt.show()\n",
        "np.count_nonzero(filtered_data[i_session_max_trials]['brain_area']=='MB')"
      ],
      "execution_count": 19,
      "outputs": [
        {
          "output_type": "display_data",
          "data": {
            "image/png": "[encoded data removed]",
            "text/plain": [
              "<Figure size 432x288 with 1 Axes>"
            ]
          },
          "metadata": {
            "tags": [],
            "needs_background": "light"
          }
        },
        {
          "output_type": "execute_result",
          "data": {
            "text/plain": [
              "275"
            ]
          },
          "metadata": {
            "tags": []
          },
          "execution_count": 19
        }
      ]
    },
    {
      "cell_type": "markdown",
      "metadata": {
        "id": "64kTOMfScNfn",
        "colab_type": "text"
      },
      "source": [
        "We'll focus on the session i_session_max_trials, which has the most trials and analyze the activity in the brain areas recorded during this session to try to predict the mouse's response during the trials."
      ]
    },
    {
      "cell_type": "code",
      "metadata": {
        "id": "De65-UVyTQfC",
        "colab_type": "code",
        "colab": {
          "base_uri": "https://localhost:8080/",
          "height": 238
        },
        "outputId": "17cb4f7a-2a9d-41ac-97e9-1dc80ba26f84"
      },
      "source": [
        "#@title Retrieve correct (1) or incorrect (0) outcome\n",
        "i_focus = i_session_max_trials\n",
        "filtered_data_focus = copy.deepcopy(filtered_data[i_focus])\n",
        "\n",
        "response = filtered_data_focus['response'] # right - nogo - left (-1, 0, 1)\n",
        "vis_right = filtered_data_focus['contrast_right'] # 0 - low - high\n",
        "vis_left = filtered_data_focus['contrast_left'] # 0 - low - high\n",
        "\n",
        "# -1 : right stimulus > left stimulus\n",
        "# 0: nogo trial\n",
        "# 1: left stimulus > right stimulus\n",
        "correct_response = np.sign(vis_left-vis_right) \n",
        "\n",
        "is_correct = response == correct_response\n",
        "outcomes_correct = is_correct.astype(int)\n",
        "print(is_correct.mean())\n",
        "print(outcomes_correct)"
      ],
      "execution_count": 34,
      "outputs": [
        {
          "output_type": "stream",
          "text": [
            "0.6376811594202898\n",
            "[0 0 0 0 0 1 0 1 0 0 0 1 1 1 1 0 0 0 1 1 1 0 0 1 1 0 0 1 1 1 1 1 0 0 0 1 1\n",
            " 1 1 1 1 1 0 0 1 1 1 1 0 1 1 1 1 1 1 1 1 0 1 0 0 0 0 1 1 1 0 1 0 0 0 0 0 0\n",
            " 0 1 1 1 0 0 0 1 1 1 1 0 0 0 0 1 1 1 1 1 0 0 1 1 1 1 0 1 1 1 0 0 0 1 1 0 0\n",
            " 1 1 0 1 0 1 1 0 1 1 1 1 1 0 1 1 1 0 1 0 0 1 1 0 1 1 1 1 1 1 1 0 1 1 0 1 1\n",
            " 1 1 1 1 0 0 1 1 0 1 1 1 1 0 1 1 1 1 1 1 1 0 1 0 1 1 1 1 1 1 0 1 1 1 0 1 1\n",
            " 0 0 1 0 1 1 1 1 0 1 1 0 1 1 1 0 1 1 1 0 0 1 1 0 1 1 1 1 1 1 0 1 1 1 1 1 1\n",
            " 1 0 0 1 1 1 0 1 1 0 1 1 0 1 0 1 1 1 1 1 0 1 0 1 1 1 1 1 0 1 0 1 1 0 0 0 1\n",
            " 1 0 1 1 0 0 1 1 1 0 1 1 1 1 0 1 1 1 1 1 1 0 0 1 0 1 1 1 0 1 1 1 1 1 0 1 1\n",
            " 1 1 1 1 1 1 0 1 0 0 1 1 1 0 1 1 1 1 1 1 1 1 1 0 1 1 0 0 0 0 1 1 1 1 1 0 1\n",
            " 1 1 1 1 1 1 1 1 1 1 0 0 1 1 1 1 1 1 1 1 1 1 0 0 1 1 1 1 0 0 0 0 0 1 1 1 1\n",
            " 1 1 1 0 0 1 1 0 1 0 1 1 0 1 1 0 1 0 0 1 0 0 0 0 0 0 0 0 0 0 1 0 0 0 1 0 0\n",
            " 0 0 0 0 0 0 0]\n"
          ],
          "name": "stdout"
        }
      ]
    },
    {
      "cell_type": "markdown",
      "metadata": {
        "id": "nSIN-FTsYmSN",
        "colab_type": "text"
      },
      "source": [
        "## select Mid brain region "
      ]
    },
    {
      "cell_type": "code",
      "metadata": {
        "id": "M4i8wIpiQc5U",
        "colab_type": "code",
        "colab": {
          "base_uri": "https://localhost:8080/",
          "height": 34
        },
        "outputId": "8f571db2-7864-4fd7-fe3d-51261c3a7077"
      },
      "source": [
        "focus_brain_area='MB'\n",
        "is_focus_brain_area=filtered_data_focus['brain_area']==focus_brain_area\n",
        "spikes_focus=filtered_data_focus['spks'][is_focus_brain_area]\n",
        "spikes_focus.shape\n"
      ],
      "execution_count": 32,
      "outputs": [
        {
          "output_type": "execute_result",
          "data": {
            "text/plain": [
              "(275, 414, 250)"
            ]
          },
          "metadata": {
            "tags": []
          },
          "execution_count": 32
        }
      ]
    },
    {
      "cell_type": "markdown",
      "metadata": {
        "id": "RRFSeJt1Y2LD",
        "colab_type": "text"
      },
      "source": [
        ""
      ]
    },
    {
      "cell_type": "code",
      "metadata": {
        "id": "kWdMqLppS7Ou",
        "colab_type": "code",
        "colab": {
          "base_uri": "https://localhost:8080/",
          "height": 469
        },
        "outputId": "f936fa65-0544-494c-9b03-12ee12838c15"
      },
      "source": [
        "_=plt.eventplot(spikes_focus[20:30,2,:])\n",
        "spikes_focus[25:26,2,:]"
      ],
      "execution_count": 54,
      "outputs": [
        {
          "output_type": "execute_result",
          "data": {
            "text/plain": [
              "array([[1, 1, 0, 1, 0, 0, 1, 1, 0, 0, 0, 0, 1, 0, 0, 1, 0, 1, 0, 0, 2, 0,\n",
              "        2, 0, 0, 1, 2, 0, 0, 1, 1, 0, 0, 1, 1, 0, 0, 0, 0, 1, 1, 1, 0, 0,\n",
              "        2, 0, 1, 1, 0, 0, 1, 0, 1, 1, 0, 0, 0, 1, 0, 0, 1, 1, 1, 0, 0, 1,\n",
              "        2, 1, 1, 0, 1, 1, 1, 2, 0, 1, 1, 0, 1, 0, 1, 0, 0, 0, 1, 2, 1, 0,\n",
              "        1, 1, 1, 0, 1, 1, 2, 1, 1, 0, 0, 2, 1, 0, 1, 1, 0, 1, 2, 0, 0, 0,\n",
              "        1, 1, 1, 1, 0, 2, 0, 0, 2, 1, 0, 1, 1, 0, 1, 1, 2, 1, 0, 1, 0, 0,\n",
              "        1, 1, 0, 0, 1, 1, 1, 0, 0, 0, 1, 0, 0, 1, 0, 0, 0, 0, 0, 0, 0, 0,\n",
              "        0, 0, 0, 1, 0, 0, 1, 0, 0, 0, 0, 0, 1, 0, 1, 0, 1, 1, 1, 0, 0, 0,\n",
              "        1, 0, 0, 1, 1, 1, 0, 1, 0, 1, 1, 1, 0, 1, 1, 0, 0, 0, 1, 0, 1, 1,\n",
              "        1, 1, 0, 0, 0, 1, 1, 0, 2, 0, 0, 1, 0, 0, 0, 0, 1, 0, 0, 0, 0, 0,\n",
              "        0, 0, 0, 0, 0, 1, 0, 0, 0, 0, 0, 0, 0, 0, 0, 0, 0, 0, 0, 0, 0, 0,\n",
              "        1, 0, 0, 1, 0, 0, 0, 1]], dtype=int8)"
            ]
          },
          "metadata": {
            "tags": []
          },
          "execution_count": 54
        },
        {
          "output_type": "display_data",
          "data": {
            "image/png": "[encoded data removed]",
            "text/plain": [
              "<Figure size 432x288 with 1 Axes>"
            ]
          },
          "metadata": {
            "tags": [],
            "needs_background": "light"
          }
        }
      ]
    },
    {
      "cell_type": "markdown",
      "metadata": {
        "id": "ESZ-j0YydZGG",
        "colab_type": "text"
      },
      "source": [
        "look for active neurons"
      ]
    },
    {
      "cell_type": "code",
      "metadata": {
        "id": "NuDsNnmnVKCI",
        "colab_type": "code",
        "colab": {
          "base_uri": "https://localhost:8080/",
          "height": 34
        },
        "outputId": "0b118062-38cb-407f-d173-87c9d4b88c8b"
      },
      "source": [
        "count=0\n",
        "active_trial=np.zeros(len(spikes_focus))\n",
        "for i in range(len(spikes_focus)):\n",
        "  count=0\n",
        "  for j in range(len(spikes_focus[0,:,0])):\n",
        "    if spikes_focus[i,j,:].sum()<5:\n",
        "      count+=1\n",
        "  active_trial[i]=len(spikes_focus[0,:,0])-count\n",
        "  #print(count,'/',j+1)\n",
        "print(np.count_nonzero(active_trial>20))"
      ],
      "execution_count": 75,
      "outputs": [
        {
          "output_type": "stream",
          "text": [
            "188\n"
          ],
          "name": "stdout"
        }
      ]
    },
    {
      "cell_type": "code",
      "metadata": {
        "id": "WW2yiK_lVs3h",
        "colab_type": "code",
        "colab": {}
      },
      "source": [
        ""
      ],
      "execution_count": 75,
      "outputs": []
    },
    {
      "cell_type": "markdown",
      "metadata": {
        "id": "xENzFPO4fKuZ",
        "colab_type": "text"
      },
      "source": [
        "#Logistic Regression"
      ]
    },
    {
      "cell_type": "code",
      "metadata": {
        "id": "RmkNfF2MZBNX",
        "colab_type": "code",
        "colab": {}
      },
      "source": [
        "from sklearn.linear_model import LogisticRegression\n",
        "from sklearn.model_selection import cross_val_score\n",
        "def sigmoid(z):\n",
        "  \"\"\"Return the logistic transform of z.\"\"\"\n",
        "  return 1/(1+np.exp(-z))"
      ],
      "execution_count": 81,
      "outputs": []
    },
    {
      "cell_type": "markdown",
      "metadata": {
        "id": "zsvULPbRfbeQ",
        "colab_type": "text"
      },
      "source": [
        "## Setting up the data average over the neurones"
      ]
    },
    {
      "cell_type": "code",
      "metadata": {
        "id": "AyW0py4qfcWd",
        "colab_type": "code",
        "colab": {
          "base_uri": "https://localhost:8080/",
          "height": 34
        },
        "outputId": "61b4632a-862a-44a1-c7ec-a0a20643d2a9"
      },
      "source": [
        "avg_spikes=spikes_focus.mean(axis=0)\n",
        "print(avg_spikes.shape)\n",
        "# outcomes_correct=>label 0 or 1\n",
        "y = outcomes_correct\n",
        "X = avg_spikes"
      ],
      "execution_count": 99,
      "outputs": [
        {
          "output_type": "stream",
          "text": [
            "(414, 250)\n"
          ],
          "name": "stdout"
        }
      ]
    },
    {
      "cell_type": "markdown",
      "metadata": {
        "id": "SVXzQ6CFhnQQ",
        "colab_type": "text"
      },
      "source": [
        "## Fitting the model"
      ]
    },
    {
      "cell_type": "code",
      "metadata": {
        "id": "8WU3DmrghpWd",
        "colab_type": "code",
        "colab": {}
      },
      "source": [
        "# First define the model\n",
        "log_reg = LogisticRegression(penalty=\"none\")\n",
        "\n",
        "#Then fit it to data\n",
        "log_reg.fit(X, y)\n",
        "\n",
        "y_pred = log_reg.predict(X)\n"
      ],
      "execution_count": 84,
      "outputs": []
    },
    {
      "cell_type": "code",
      "metadata": {
        "id": "S3oDswOTh3cu",
        "colab_type": "code",
        "colab": {
          "base_uri": "https://localhost:8080/",
          "height": 34
        },
        "outputId": "5ce0f35b-e062-4b40-8770-a95f665fde5d"
      },
      "source": [
        "def compute_accuracy(X, y, model):\n",
        "  \"\"\"Compute accuracy of classifier predictions.\n",
        "  \n",
        "  Args:\n",
        "    X (2D array): Data matrix\n",
        "    y (1D array): Label vector\n",
        "    model (sklearn estimator): Classifier with trained weights.\n",
        "\n",
        "  Returns:\n",
        "    accuracy (float): Proportion of correct predictions.  \n",
        "  \"\"\"\n",
        "\n",
        "\n",
        "  y_pred = model.predict(X)\n",
        "\n",
        "  accuracy = np.count_nonzero(y_pred==y)/len(y)\n",
        "\n",
        "  return accuracy\n",
        "\n",
        "\n",
        "train_accuracy = compute_accuracy(X, y, log_reg)\n",
        "print(f\"Accuracy on the training data: {train_accuracy:.2%}\")"
      ],
      "execution_count": 85,
      "outputs": [
        {
          "output_type": "stream",
          "text": [
            "Accuracy on the training data: 100.00%\n"
          ],
          "name": "stdout"
        }
      ]
    },
    {
      "cell_type": "code",
      "metadata": {
        "id": "J-cOeDOyiY5m",
        "colab_type": "code",
        "colab": {
          "base_uri": "https://localhost:8080/",
          "height": 51
        },
        "outputId": "fd48a74f-148e-415a-860a-a240a0024cba"
      },
      "source": [
        "accuracies = cross_val_score(LogisticRegression(penalty='l2'), X, y, cv=8) # k=8 crossvalidation\n",
        "accuracies"
      ],
      "execution_count": 92,
      "outputs": [
        {
          "output_type": "execute_result",
          "data": {
            "text/plain": [
              "array([0.63461538, 0.63461538, 0.63461538, 0.63461538, 0.63461538,\n",
              "       0.63461538, 0.64705882, 0.64705882])"
            ]
          },
          "metadata": {
            "tags": []
          },
          "execution_count": 92
        }
      ]
    },
    {
      "cell_type": "markdown",
      "metadata": {
        "id": "4Wjqe5YUj2RZ",
        "colab_type": "text"
      },
      "source": [
        "## Setting up the data average over the prestimulus time zone "
      ]
    },
    {
      "cell_type": "code",
      "metadata": {
        "id": "Dbe-VtKNigVu",
        "colab_type": "code",
        "colab": {
          "base_uri": "https://localhost:8080/",
          "height": 34
        },
        "outputId": "3a7a87fd-4c64-413d-bc0f-689dd5e66e65"
      },
      "source": [
        "avg_neurones_prestimulus=spikes_focus[:,:,0:50].mean(axis=2)\n",
        "y = outcomes_correct\n",
        "X = avg_neurones_prestimulus.T\n",
        "cross_val_score(LogisticRegression(penalty='l2'), X, y, cv=8).mean() # k=8 crossvalidation"
      ],
      "execution_count": 104,
      "outputs": [
        {
          "output_type": "execute_result",
          "data": {
            "text/plain": [
              "0.7055052790346907"
            ]
          },
          "metadata": {
            "tags": []
          },
          "execution_count": 104
        }
      ]
    },
    {
      "cell_type": "code",
      "metadata": {
        "id": "rqpyj8ezkVkF",
        "colab_type": "code",
        "colab": {}
      },
      "source": [
        ""
      ],
      "execution_count": 96,
      "outputs": []
    },
    {
      "cell_type": "code",
      "metadata": {
        "id": "P_K8jxbnkizV",
        "colab_type": "code",
        "colab": {}
      },
      "source": [
        ""
      ],
      "execution_count": null,
      "outputs": []
    }
  ]
}